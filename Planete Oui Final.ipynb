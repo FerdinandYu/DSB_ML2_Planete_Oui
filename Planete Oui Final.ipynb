{
 "cells": [
  {
   "cell_type": "markdown",
   "metadata": {
    "toc": true
   },
   "source": [
    "<h1>Table of Contents<span class=\"tocSkip\"></span></h1>\n",
    "<div class=\"toc\"><ul class=\"toc-item\"><li><span><a href=\"#Data-preprocessing\" data-toc-modified-id=\"Data-preprocessing-1\"><span class=\"toc-item-num\">1&nbsp;&nbsp;</span>Data preprocessing</a></span><ul class=\"toc-item\"><li><span><a href=\"#Load-Data-and-Inspect\" data-toc-modified-id=\"Load-Data-and-Inspect-1.1\"><span class=\"toc-item-num\">1.1&nbsp;&nbsp;</span>Load Data and Inspect</a></span></li><li><span><a href=\"#Data-Transformation-Function\" data-toc-modified-id=\"Data-Transformation-Function-1.2\"><span class=\"toc-item-num\">1.2&nbsp;&nbsp;</span>Data Transformation Function</a></span></li><li><span><a href=\"#Data-Integration\" data-toc-modified-id=\"Data-Integration-1.3\"><span class=\"toc-item-num\">1.3&nbsp;&nbsp;</span>Data Integration</a></span></li><li><span><a href=\"#Data-visualization-&amp;-exploration\" data-toc-modified-id=\"Data-visualization-&amp;-exploration-1.4\"><span class=\"toc-item-num\">1.4&nbsp;&nbsp;</span>Data visualization &amp; exploration</a></span></li><li><span><a href=\"#Invalid-data-filtering\" data-toc-modified-id=\"Invalid-data-filtering-1.5\"><span class=\"toc-item-num\">1.5&nbsp;&nbsp;</span>Invalid data filtering</a></span></li><li><span><a href=\"#Define-feature-subsets\" data-toc-modified-id=\"Define-feature-subsets-1.6\"><span class=\"toc-item-num\">1.6&nbsp;&nbsp;</span>Define feature subsets</a></span></li></ul></li><li><span><a href=\"#Linear-model\" data-toc-modified-id=\"Linear-model-2\"><span class=\"toc-item-num\">2&nbsp;&nbsp;</span>Linear model</a></span></li><li><span><a href=\"#ELM-/-H-ELMs\" data-toc-modified-id=\"ELM-/-H-ELMs-3\"><span class=\"toc-item-num\">3&nbsp;&nbsp;</span>ELM / H-ELMs</a></span><ul class=\"toc-item\"><li><span><a href=\"#Feature-&amp;-hyperparameter-selection-using-ELMCV\" data-toc-modified-id=\"Feature-&amp;-hyperparameter-selection-using-ELMCV-3.1\"><span class=\"toc-item-num\">3.1&nbsp;&nbsp;</span>Feature &amp; hyperparameter selection using ELMCV</a></span></li><li><span><a href=\"#Train-ELM-model\" data-toc-modified-id=\"Train-ELM-model-3.2\"><span class=\"toc-item-num\">3.2&nbsp;&nbsp;</span>Train ELM model</a></span></li></ul></li><li><span><a href=\"#XGBoost\" data-toc-modified-id=\"XGBoost-4\"><span class=\"toc-item-num\">4&nbsp;&nbsp;</span>XGBoost</a></span><ul class=\"toc-item\"><li><span><a href=\"#Feature-set-selection-and-preprocessing\" data-toc-modified-id=\"Feature-set-selection-and-preprocessing-4.1\"><span class=\"toc-item-num\">4.1&nbsp;&nbsp;</span>Feature set selection and preprocessing</a></span></li><li><span><a href=\"#Model-training-(seperately-on-each-appliances)\" data-toc-modified-id=\"Model-training-(seperately-on-each-appliances)-4.2\"><span class=\"toc-item-num\">4.2&nbsp;&nbsp;</span>Model training (seperately on each appliances)</a></span></li><li><span><a href=\"#Prediction-on-test-data\" data-toc-modified-id=\"Prediction-on-test-data-4.3\"><span class=\"toc-item-num\">4.3&nbsp;&nbsp;</span>Prediction on test data</a></span></li></ul></li><li><span><a href=\"#LGBM\" data-toc-modified-id=\"LGBM-5\"><span class=\"toc-item-num\">5&nbsp;&nbsp;</span>LGBM</a></span><ul class=\"toc-item\"><li><span><a href=\"#Feature-selection\" data-toc-modified-id=\"Feature-selection-5.1\"><span class=\"toc-item-num\">5.1&nbsp;&nbsp;</span>Feature selection</a></span></li><li><span><a href=\"#Hyperparameter-Tuning\" data-toc-modified-id=\"Hyperparameter-Tuning-5.2\"><span class=\"toc-item-num\">5.2&nbsp;&nbsp;</span>Hyperparameter Tuning</a></span></li><li><span><a href=\"#Cross-validation:-xgb\" data-toc-modified-id=\"Cross-validation:-xgb-5.3\"><span class=\"toc-item-num\">5.3&nbsp;&nbsp;</span>Cross validation: xgb</a></span></li><li><span><a href=\"#Cross-validation:-lgbm\" data-toc-modified-id=\"Cross-validation:-lgbm-5.4\"><span class=\"toc-item-num\">5.4&nbsp;&nbsp;</span>Cross validation: lgbm</a></span><ul class=\"toc-item\"><li><span><a href=\"#Deal-with-overfitting\" data-toc-modified-id=\"Deal-with-overfitting-5.4.1\"><span class=\"toc-item-num\">5.4.1&nbsp;&nbsp;</span>Deal with overfitting</a></span></li></ul></li><li><span><a href=\"#LGBM-prediction\" data-toc-modified-id=\"LGBM-prediction-5.5\"><span class=\"toc-item-num\">5.5&nbsp;&nbsp;</span>LGBM prediction</a></span></li><li><span><a href=\"#Feature-importance\" data-toc-modified-id=\"Feature-importance-5.6\"><span class=\"toc-item-num\">5.6&nbsp;&nbsp;</span>Feature importance</a></span></li><li><span><a href=\"#Retrain-model-using-optimal-feature-set-and-parameter\" data-toc-modified-id=\"Retrain-model-using-optimal-feature-set-and-parameter-5.7\"><span class=\"toc-item-num\">5.7&nbsp;&nbsp;</span>Retrain model using optimal feature set and parameter</a></span></li></ul></li><li><span><a href=\"#Combination\" data-toc-modified-id=\"Combination-6\"><span class=\"toc-item-num\">6&nbsp;&nbsp;</span>Combination</a></span><ul class=\"toc-item\"><li><span><a href=\"#ELM-vs.-XGB\" data-toc-modified-id=\"ELM-vs.-XGB-6.1\"><span class=\"toc-item-num\">6.1&nbsp;&nbsp;</span>ELM vs. XGB</a></span><ul class=\"toc-item\"><li><span><a href=\"#Washing_machine\" data-toc-modified-id=\"Washing_machine-6.1.1\"><span class=\"toc-item-num\">6.1.1&nbsp;&nbsp;</span>Washing_machine</a></span></li><li><span><a href=\"#Freezer\" data-toc-modified-id=\"Freezer-6.1.2\"><span class=\"toc-item-num\">6.1.2&nbsp;&nbsp;</span>Freezer</a></span></li><li><span><a href=\"#TV\" data-toc-modified-id=\"TV-6.1.3\"><span class=\"toc-item-num\">6.1.3&nbsp;&nbsp;</span>TV</a></span></li><li><span><a href=\"#Kettle\" data-toc-modified-id=\"Kettle-6.1.4\"><span class=\"toc-item-num\">6.1.4&nbsp;&nbsp;</span>Kettle</a></span></li></ul></li><li><span><a href=\"#XGB-vs-LGBM\" data-toc-modified-id=\"XGB-vs-LGBM-6.2\"><span class=\"toc-item-num\">6.2&nbsp;&nbsp;</span>XGB vs LGBM</a></span><ul class=\"toc-item\"><li><span><a href=\"#XGB-using-lgbm-optimized-feature-set\" data-toc-modified-id=\"XGB-using-lgbm-optimized-feature-set-6.2.1\"><span class=\"toc-item-num\">6.2.1&nbsp;&nbsp;</span>XGB using lgbm optimized feature set</a></span><ul class=\"toc-item\"><li><span><a href=\"#washing-machine\" data-toc-modified-id=\"washing-machine-6.2.1.1\"><span class=\"toc-item-num\">6.2.1.1&nbsp;&nbsp;</span>washing machine</a></span></li><li><span><a href=\"#freezer\" data-toc-modified-id=\"freezer-6.2.1.2\"><span class=\"toc-item-num\">6.2.1.2&nbsp;&nbsp;</span>freezer</a></span></li><li><span><a href=\"#TV\" data-toc-modified-id=\"TV-6.2.1.3\"><span class=\"toc-item-num\">6.2.1.3&nbsp;&nbsp;</span>TV</a></span></li><li><span><a href=\"#Kettle\" data-toc-modified-id=\"Kettle-6.2.1.4\"><span class=\"toc-item-num\">6.2.1.4&nbsp;&nbsp;</span>Kettle</a></span></li><li><span><a href=\"#Predictions\" data-toc-modified-id=\"Predictions-6.2.1.5\"><span class=\"toc-item-num\">6.2.1.5&nbsp;&nbsp;</span>Predictions</a></span></li></ul></li></ul></li><li><span><a href=\"#XGB-using-minimal-feature-set\" data-toc-modified-id=\"XGB-using-minimal-feature-set-6.3\"><span class=\"toc-item-num\">6.3&nbsp;&nbsp;</span>XGB using minimal feature set</a></span><ul class=\"toc-item\"><li><span><a href=\"#washing-machine\" data-toc-modified-id=\"washing-machine-6.3.1\"><span class=\"toc-item-num\">6.3.1&nbsp;&nbsp;</span>washing machine</a></span></li><li><span><a href=\"#freezer\" data-toc-modified-id=\"freezer-6.3.2\"><span class=\"toc-item-num\">6.3.2&nbsp;&nbsp;</span>freezer</a></span></li><li><span><a href=\"#tv\" data-toc-modified-id=\"tv-6.3.3\"><span class=\"toc-item-num\">6.3.3&nbsp;&nbsp;</span>tv</a></span></li><li><span><a href=\"#Kettle\" data-toc-modified-id=\"Kettle-6.3.4\"><span class=\"toc-item-num\">6.3.4&nbsp;&nbsp;</span>Kettle</a></span></li><li><span><a href=\"#prediction\" data-toc-modified-id=\"prediction-6.3.5\"><span class=\"toc-item-num\">6.3.5&nbsp;&nbsp;</span>prediction</a></span></li></ul></li></ul></li><li><span><a href=\"#Unified-model\" data-toc-modified-id=\"Unified-model-7\"><span class=\"toc-item-num\">7&nbsp;&nbsp;</span>Unified model</a></span></li></ul></div>"
   ]
  },
  {
   "cell_type": "code",
   "execution_count": 37,
   "metadata": {
    "scrolled": false
   },
   "outputs": [],
   "source": [
    "import pandas as pd\n",
    "import numpy as np\n",
    "import warnings\n",
    "warnings.filterwarnings('ignore')\n",
    "import matplotlib.pyplot as plt\n",
    "\n",
    "from sklearn.decomposition import PCA\n",
    "\n",
    "from elm2 import ELMClassifier, ELMRegressor, GenELMClassifier, GenELMRegressor\n",
    "from random_layer import RandomLayer, MLPRandomLayer, RBFRandomLayer, GRBFRandomLayer\n",
    "\n",
    "import sklearn\n",
    "from sklearn.preprocessing import StandardScaler\n",
    "from sklearn import pipeline\n",
    "from sklearn.linear_model import LinearRegression\n",
    "\n",
    "import xgboost as xgb\n",
    "import lightgbm as lgb\n",
    "from sklearn.metrics import mean_squared_error\n",
    "from sklearn.base import BaseEstimator\n",
    "from sklearn.model_selection import KFold, train_test_split, GridSearchCV, RandomizedSearchCV\n",
    "from sklearn.feature_selection import RFECV\n",
    "#from sklearn.utils import shuffle\n",
    "from scipy import stats\n",
    "from sklearn import preprocessing\n",
    "\n",
    "import datetime as dt\n",
    "import math as mt\n",
    "\n",
    "from time import time"
   ]
  },
  {
   "cell_type": "code",
   "execution_count": 2,
   "metadata": {
    "scrolled": false
   },
   "outputs": [],
   "source": [
    "def metric_nilm(dataframe_y_true, dataframe_y_pred):\n",
    "    score = 0.0\n",
    "    test = dataframe_y_true[~dataframe_y_true['washing_machine'].isna()]['washing_machine']\n",
    "    pred = dataframe_y_pred[~dataframe_y_true['washing_machine'].isna()]['washing_machine']\n",
    "    score += mt.sqrt(sum((pred - test)**2)/len(test))*5.55\n",
    "    test = dataframe_y_true[~dataframe_y_true['fridge_freezer'].isna()]['fridge_freezer']\n",
    "    pred = dataframe_y_pred[~dataframe_y_true['fridge_freezer'].isna()]['fridge_freezer']\n",
    "    score += mt.sqrt(sum((pred - test)**2)/len(test))*49.79\n",
    "    test = dataframe_y_true[~dataframe_y_true['TV'].isna()]['TV']\n",
    "    pred = dataframe_y_pred[~dataframe_y_true['TV'].isna()]['TV']\n",
    "    score += mt.sqrt(sum((pred - test)**2)/len(test))*14.57\n",
    "    test = dataframe_y_true[~dataframe_y_true['kettle'].isna()]['kettle']\n",
    "    pred = dataframe_y_pred[~dataframe_y_true['kettle'].isna()]['kettle']\n",
    "    score += mt.sqrt(sum((pred - test)**2)/len(test))*4.95\n",
    "    score /= 74.86\n",
    "    return score"
   ]
  },
  {
   "cell_type": "code",
   "execution_count": 3,
   "metadata": {
    "scrolled": false
   },
   "outputs": [],
   "source": [
    "def rmse(col_true, col_pred):\n",
    "    return mt.sqrt(sum((col_pred - col_true)**2)/len(col_true))"
   ]
  },
  {
   "cell_type": "markdown",
   "metadata": {},
   "source": [
    "## Data preprocessing"
   ]
  },
  {
   "cell_type": "markdown",
   "metadata": {},
   "source": [
    "### Load Data and Inspect"
   ]
  },
  {
   "cell_type": "code",
   "execution_count": null,
   "metadata": {
    "scrolled": false
   },
   "outputs": [],
   "source": [
    "X_train = pd.read_csv(\"X_train.csv\")\n",
    "X_train = X_train[X_train.columns[:-1]]\n",
    "\n",
    "y_train = pd.read_csv(\"y_train.csv\")\n",
    "\n",
    "X_test = pd.read_csv(\"X_test.csv\")\n",
    "X_test = X_test[X_test.columns[:-1]]\n",
    "\n",
    "X_train = X_train.sort_values(by=\"time_step\")\n",
    "y_train = y_train.sort_values(by=\"time_step\")"
   ]
  },
  {
   "cell_type": "markdown",
   "metadata": {},
   "source": [
    "### Data Transformation Function"
   ]
  },
  {
   "cell_type": "markdown",
   "metadata": {},
   "source": [
    "1. Missing value imputaton;\n",
    "2. Derive time features (date, hour, minute, dayofweek, isweekend, hour_sin, hour_cos, minute_sin, minute_cos, time_sin, time_cos);\n",
    "3. Hourly/Semi-hourly aggregations: mean, std, max, min, range (difference);\n",
    "4. PCA of weather features;\n",
    "5. Windows with margin: single threshold (is_kettle, is_washing, kettle_current, washing_current); lower and upper threshold (is_kettle_new, is_washing_new, is_freezer_new, kettle_current_new, washing_current_new, freezer_current_new); \n",
    "6. Consumption shifting (last 5 mins & next 5 mins), derive 3 mins average and 5 mins average; \n",
    "7. Last 5 mins / next 5 mins aggregations: std, max, min, range (difference);"
   ]
  },
  {
   "cell_type": "markdown",
   "metadata": {},
   "source": [
    "```\n",
    "'consumption', 'visibility', 'temperature', 'humidity',\n",
    "       'humidex', 'windchill', 'wind', 'pressure', 'hour', 'minute', 'month',\n",
    "       'dayofweek', 'isweekend', 'day_0', 'day_1', 'day_2', 'day_3', 'day_4',\n",
    "       'day_5', 'day_6', 'hour_0', 'hour_1', 'hour_2', 'hour_3', 'hour_4',\n",
    "       'hour_5', 'hour_6', 'hour_7', 'hour_8', 'hour_9', 'hour_10', 'hour_11',\n",
    "       'hour_12', 'hour_13', 'hour_14', 'hour_15', 'hour_16', 'hour_17',\n",
    "       'hour_18', 'hour_19', 'hour_20', 'hour_21', 'hour_22', 'hour_23',\n",
    "       'hour_sin', 'hour_cos', 'minute_sin', 'minute_cos', 'time', 'time_sin',\n",
    "       'time_cos', 'hourly_avg', 'hourly_max', 'hourly_min',\n",
    "       'hourly_std', 'hourly_diff', 'half_hourly_avg',\n",
    "       'half_hourly_max', 'half_hourly_min', 'half_hourly_std',\n",
    "       'half_hourly_diff', 'WeatherPCA1', 'WeatherPCA2', 'WeatherPCA3',\n",
    "       'is_kettle_2500', 'is_kettle_2700', 'is_kettle_2700_5',\n",
    "       'is_washing_1800_5', 'is_washing_2000_10', 'is_washing_2000_5',\n",
    "       'kettle_current1', 'kettle_current2', 'kettle_current3',\n",
    "       'washing_current1', 'washing_current2', 'washing_current3',\n",
    "       'consumption_last1min', 'consumption_last2min', 'consumption_last3min',\n",
    "       'consumption_last4min', 'consumption_last5min', 'is_washing_new1',\n",
    "       'washing_current_new1', 'is_freezer_new1', 'freezer_current_new1',\n",
    "       'is_kettle_new1', 'kettle_current_new1', 'last_5min_avg',\n",
    "       'last_3min_avg'\n",
    "```"
   ]
  },
  {
   "cell_type": "code",
   "execution_count": 8,
   "metadata": {
    "scrolled": false
   },
   "outputs": [],
   "source": [
    "## Only feasible for transforming X (not y)\n",
    "## fe = FeatureExtractor()\n",
    "## X_DF = fe.transform(X_test, leave_null)\n",
    "## Pass leave_null = True for train data,\n",
    "## leave_null = False for test data.\n",
    "\n",
    "class FeatureExtractor(object):\n",
    "    def __init__(self):\n",
    "        self.X_transformed = None\n",
    "\n",
    "    def fit(self, X_df, y_array):\n",
    "        pass\n",
    "    \n",
    "    def transform(self, X_df, limit=5, leave_null=True):\n",
    "        \n",
    "        X_transformed = X_df.copy()\n",
    "        \n",
    "        # Missing Value Imputation\n",
    "        sample1 = X_transformed.interpolate(method='linear')\n",
    "        sample1 = sample1.interpolate(method='linear', limit_direction='both')\n",
    "        sample1['consumption'] = X_transformed['consumption']\n",
    "        X_transformed = sample1.copy()\n",
    "        \n",
    "        X_transformed = X_transformed.interpolate(method='nearest', limit_direction='forward', limit=limit)\n",
    "        \n",
    "        # Null Value Imputation\n",
    "        if leave_null == False:\n",
    "            X_transformed = X_transformed.fillna(0)\n",
    "        \n",
    "        # Derive Time Features from timestep\n",
    "        X_transformed['month'] = X_transformed['time_step'].str[5:7].astype('int')\n",
    "        \n",
    "        X_transformed['date'] = X_transformed['time_step'].str[:10]\n",
    "        X_transformed['date'] = pd.to_datetime(X_transformed['date'], infer_datetime_format=True)\n",
    "        \n",
    "        X_transformed['hour'] = X_transformed['time_step'].str[11:13].astype('int')\n",
    "        \n",
    "        X_transformed['minute'] = X_transformed['time_step'].str[14:16].astype('int')\n",
    "\n",
    "        X_transformed['dayofweek'] = X_transformed['date'].dt.dayofweek\n",
    "        \n",
    "        # A dummy for whether it's weekend\n",
    "        isweekend = []\n",
    "        for day in list(X_transformed['dayofweek']):\n",
    "            if day in [5,6]:\n",
    "                isweekend.append(1)\n",
    "            else:\n",
    "                isweekend.append(0)\n",
    "        X_transformed['isweekend'] = isweekend\n",
    "        \n",
    "        X_transformed = pd.concat([X_transformed, pd.get_dummies(X_transformed['dayofweek'], prefix='day'),\n",
    "                           pd.get_dummies(X_transformed['hour'], prefix='hour')], axis=1)\n",
    "        \n",
    "        # Triangular transformations of time features\n",
    "        X_transformed['hour_sin'] = np.sin((X_transformed['hour'] + 1) * 360. / 24. * np.pi / 180. )\n",
    "        X_transformed['hour_cos'] = np.cos((X_transformed['hour'] + 1) * 360. / 24. * np.pi / 180. )\n",
    "\n",
    "        X_transformed['minute_sin'] = np.sin((X_transformed['minute'] + 1) * 360. / 60. * np.pi / 180. )\n",
    "        X_transformed['minute_cos'] = np.cos((X_transformed['minute'] + 1) * 360. / 60. * np.pi / 180. )\n",
    "        \n",
    "        X_transformed['time'] = (X_transformed['hour'].astype('int') % 12) * 60 + X_transformed['minute'].astype('int')\n",
    "        X_transformed['time_sin'] = np.sin((X_transformed['time'] + 1) * 360. / 720. * np.pi / 180. )\n",
    "        X_transformed['time_cos'] = np.cos((X_transformed['time'] + 1) * 360. / 720. * np.pi / 180. )\n",
    "        \n",
    "        # Computing Hourly Aggregations\n",
    "        X_transformed['hour_step'] = X_transformed['time_step'].str[:13]\n",
    "        consumption_part_hour = X_transformed[['hour_step', 'consumption']].dropna()\n",
    "        hourly_avg = consumption_part_hour.groupby(by='hour_step').mean().reset_index()\n",
    "        hourly_avg.columns = ['hour_step', 'hourly_avg']\n",
    "        hourly_max = consumption_part_hour.groupby(by='hour_step').max().reset_index()\n",
    "        hourly_max.columns = ['hour_step', 'hourly_max']\n",
    "        hourly_min = consumption_part_hour.groupby(by='hour_step').min().reset_index()\n",
    "        hourly_min.columns = ['hour_step', 'hourly_min']\n",
    "        hourly_std = consumption_part_hour.groupby(by='hour_step').std().reset_index()\n",
    "        hourly_std.columns = ['hour_step', 'hourly_std']\n",
    "        \n",
    "        hourly_agg = hourly_avg.merge(hourly_max,\n",
    "                 how=\"left\",\n",
    "                 left_on=['hour_step'],\n",
    "                 right_on=['hour_step'],\n",
    "                 sort=False\n",
    "                ).merge(hourly_min,\n",
    "                 how=\"left\",\n",
    "                 left_on=['hour_step'],\n",
    "                 right_on=['hour_step'],\n",
    "                 sort=False\n",
    "                ).merge(hourly_std,\n",
    "                 how=\"left\",\n",
    "                 left_on=['hour_step'],\n",
    "                 right_on=['hour_step'],\n",
    "                 sort=False)\n",
    "        \n",
    "        X_transformed = pd.merge(X_transformed, hourly_agg,\n",
    "                                 how=\"left\",\n",
    "                                 left_on=['hour_step'],\n",
    "                                 right_on=['hour_step'],\n",
    "                                 sort=False\n",
    "                                )\n",
    "        X_transformed['hourly_diff'] = X_transformed['hourly_max'] - X_transformed['hourly_min']\n",
    "        \n",
    "        # Computing Half-Hourly Aggregations\n",
    "        X_transformed['half_hour_step'] = pd.to_datetime(X_transformed['time_step'].str[:14] + \n",
    "                                           ((X_transformed['minute'] // 30) * 30).astype(str), \n",
    "                                           format='%Y-%m-%dT%H:%M')\n",
    "                                           \n",
    "        consumption_half_hour = X_transformed[['half_hour_step', 'consumption']].dropna()\n",
    "\n",
    "        hourly30_avg = consumption_half_hour.groupby(by='half_hour_step').mean().reset_index()\n",
    "        hourly30_avg.columns = ['half_hour_step', 'half_hourly_avg']\n",
    "        hourly30_max = consumption_half_hour.groupby(by='half_hour_step').max().reset_index()\n",
    "        hourly30_max.columns = ['half_hour_step', 'half_hourly_max']\n",
    "        hourly30_min = consumption_half_hour.groupby(by='half_hour_step').min().reset_index()\n",
    "        hourly30_min.columns = ['half_hour_step', 'half_hourly_min']\n",
    "        hourly30_std = consumption_half_hour.groupby(by='half_hour_step').std().reset_index()\n",
    "        hourly30_std.columns = ['half_hour_step', 'half_hourly_std']\n",
    "\n",
    "        hourly30_agg = hourly30_avg.merge(hourly30_max,\n",
    "                 how=\"left\",\n",
    "                 left_on=['half_hour_step'],\n",
    "                 right_on=['half_hour_step'],\n",
    "                 sort=False\n",
    "                ).merge(hourly30_min,\n",
    "                 how=\"left\",\n",
    "                 left_on=['half_hour_step'],\n",
    "                 right_on=['half_hour_step'],\n",
    "                 sort=False\n",
    "                ).merge(hourly30_std,\n",
    "                 how=\"left\",\n",
    "                 left_on=['half_hour_step'],\n",
    "                 right_on=['half_hour_step'],\n",
    "                 sort=False)\n",
    "        \n",
    "        X_transformed = pd.merge(X_transformed, hourly30_agg,\n",
    "                                 how=\"left\",\n",
    "                                 left_on=['half_hour_step'],\n",
    "                                 right_on=['half_hour_step'],\n",
    "                                 sort=False\n",
    "                                )\n",
    "        X_transformed['half_hourly_diff'] = X_transformed['half_hourly_max'] - X_transformed['half_hourly_min']\n",
    "        \n",
    "        # PCA of Weather Features\n",
    "        PCA_features = ['visibility', 'temperature', 'humidity', 'humidex', 'windchill', 'wind', 'pressure']\n",
    "        PCA_data = X_transformed[PCA_features]\n",
    "\n",
    "        pca = PCA(n_components=3)\n",
    "        pca3_feature = pca.fit_transform(PCA_data)\n",
    "        \n",
    "        X_transformed['WeatherPCA1'] = pca3_feature[:,0]\n",
    "        X_transformed['WeatherPCA2'] = pca3_feature[:,1]\n",
    "        X_transformed['WeatherPCA3'] = pca3_feature[:,2]\n",
    "        \n",
    "        # Windows with margin\n",
    "        def window_diff(series, start_pos, size, margin):\n",
    "            #begin = time()\n",
    "            starting_avg = np.mean(series[start_pos:start_pos+margin])\n",
    "            ending_avg = np.mean(series[start_pos+size-margin:start_pos+size])\n",
    "            #end = time()\n",
    "            #print(\"CalcDiff Time: %.5f s\" %(end-begin))\n",
    "            return ending_avg - starting_avg\n",
    "\n",
    "        def window_state(series, start_pos, size, margin, threshold):\n",
    "            diff = window_diff(series, start_pos, size, margin)\n",
    "            if diff > threshold:\n",
    "                return 1\n",
    "            elif diff < -threshold:\n",
    "                return -1\n",
    "            else:\n",
    "                return 0\n",
    "            \n",
    "        def window_stateV2(series, start_pos, size, margin, lower, upper):\n",
    "            diff = window_diff(series, start_pos, size, margin)\n",
    "            if diff > lower and diff < upper:\n",
    "                return 1\n",
    "            elif diff > -upper and diff < -lower:\n",
    "                return -1\n",
    "            else:\n",
    "                return 0\n",
    "\n",
    "        def window_update(series, size, margin, threshold):\n",
    "            #begin1 = time()\n",
    "            states = pd.Series(len(series)*[0])\n",
    "            len_series = len(series)\n",
    "            for i in range(len_series-size):\n",
    "                #if i % 10000 == 0:\n",
    "                    #print(i)\n",
    "                #begin = time()\n",
    "                states[i] = window_state(series, i, size, margin, threshold)\n",
    "                #end = time()\n",
    "                #print(\"Update Time: %.5f s\" %(end-begin))\n",
    "            states[len_series-size:] = window_state(series, len_series-size, size, margin, threshold)\n",
    "            #end1 = time()\n",
    "            #print(\"Total Time: %.5f s\" %(end1-begin1))\n",
    "            return states\n",
    "        \n",
    "        def window_updateV2(series, size, margin, lower, upper):\n",
    "            #begin1 = time()\n",
    "            states = pd.Series(len(series)*[0])\n",
    "            len_series = len(series)\n",
    "            for i in range(len_series-size):\n",
    "                #if i % 10000 == 0:\n",
    "                    #print(i)\n",
    "                #begin = time()\n",
    "                states[i] = window_stateV2(series, i, size, margin, lower, upper)\n",
    "                #end = time()\n",
    "                #print(\"Update Time: %.5f s\" %(end-begin))\n",
    "            states[len_series-size:] = window_stateV2(series, len_series-size, size, margin, lower, upper)\n",
    "            #end1 = time()\n",
    "            #print(\"Total Time: %.5f s\" %(end1-begin1))\n",
    "            return states\n",
    "\n",
    "        #######\n",
    "        def OnOff_update(window_series, size):\n",
    "            begin1 = time()\n",
    "            len_series = len(window_series)\n",
    "            states = pd.Series(len_series*[0])\n",
    "            i = 0\n",
    "            while i <= len_series - size:\n",
    "                #if i % 20000 == 0:\n",
    "                    #print(i)\n",
    "                begin = time()\n",
    "                current_state = window_series[i]\n",
    "                next_state = window_series[i+1]\n",
    "                if current_state == 1 and next_state == 0:\n",
    "                    states[i:i+size] = 1\n",
    "                    i = i + size\n",
    "                else:\n",
    "                    i = i + 1\n",
    "                end = time()\n",
    "                #print(\"Update Time: %.5f s\" %(end-begin))\n",
    "            states[i:] = window_series[i]\n",
    "            end1 = time()\n",
    "            #print(\"Total Time: %.5f s\" %(end1-begin1))\n",
    "            return states\n",
    "        \n",
    "        # Generate window margin\n",
    "        X_transformed['is_kettle_2500'] = window_update(X_transformed['consumption'], 3, 1, 2500)\n",
    "        X_transformed['is_kettle_2700'] = window_update(X_transformed['consumption'], 3, 1, 2700)\n",
    "        X_transformed['is_kettle_2700_5'] = window_update(X_transformed['consumption'], 5, 1, 2700)\n",
    "        X_transformed['is_kettle_new1'] = window_updateV2(X_transformed['consumption'], 3, 1, 2600, 3000)\n",
    "        X_transformed['is_washing_1800_5'] = window_update(X_transformed['consumption'], 100, 5, 1800)\n",
    "        X_transformed['is_washing_2000_10'] = window_update(X_transformed['consumption'], 100, 10, 2000)\n",
    "        X_transformed['is_washing_2000_5'] = window_update(X_transformed['consumption'], 100, 5, 2000)\n",
    "        X_transformed['is_washing_new1'] = window_updateV2(X_transformed['consumption'], 100, 5, 1800, 2300)\n",
    "        X_transformed['is_freezer_new1'] = window_updateV2(X_transformed['consumption'], 25, 3, 50, 200)\n",
    "        \n",
    "        # Generate ON-OFF status prediction\n",
    "        X_transformed['kettle_current1'] = OnOff_update(X_transformed['is_kettle_2500'], 3)\n",
    "        X_transformed['kettle_current2'] = OnOff_update(X_transformed['is_kettle_2700'], 3)\n",
    "        X_transformed['kettle_current3'] = OnOff_update(X_transformed['is_kettle_2700_5'], 5)\n",
    "        X_transformed['kettle_current_new1'] = OnOff_update(X_transformed['is_kettle_new1'], 3)\n",
    "        X_transformed['washing_current1'] = OnOff_update(X_transformed['is_washing_1800_5'], 100)\n",
    "        X_transformed['washing_current2'] = OnOff_update(X_transformed['is_washing_2000_10'], 100)\n",
    "        X_transformed['washing_current3'] = OnOff_update(X_transformed['is_washing_2000_5'], 100)\n",
    "        X_transformed['washing_current_new1'] = OnOff_update(X_transformed['is_washing_new1'], 100)\n",
    "        X_transformed['freezer_current_new1'] = OnOff_update(X_transformed['is_freezer_new1'], 25)\n",
    "        \n",
    "        # Consumption Shifting (last 5 min and next 5 min)\n",
    "        X_transformed['consumption_last1min'] = X_transformed['consumption'].shift(1)\n",
    "        X_transformed['consumption_last2min'] = X_transformed['consumption'].shift(2)\n",
    "        X_transformed['consumption_last3min'] = X_transformed['consumption'].shift(3)\n",
    "        X_transformed['consumption_last4min'] = X_transformed['consumption'].shift(4)\n",
    "        X_transformed['consumption_last5min'] = X_transformed['consumption'].shift(5)\n",
    "        \n",
    "        X_transformed['consumption_next1min'] = X_transformed['consumption'].shift(-1)\n",
    "        X_transformed['consumption_next2min'] = X_transformed['consumption'].shift(-2)\n",
    "        X_transformed['consumption_next3min'] = X_transformed['consumption'].shift(-3)\n",
    "        X_transformed['consumption_next4min'] = X_transformed['consumption'].shift(-4)\n",
    "        X_transformed['consumption_next5min'] = X_transformed['consumption'].shift(-5)\n",
    "        \n",
    "        ## Moving average\n",
    "        X_transformed['last_3min_avg'] = (X_transformed['consumption_last1min'] + X_transformed['consumption_last2min'] + X_transformed['consumption_last3min']) / 3\n",
    "        X_transformed['last_5min_avg'] = (X_transformed['consumption_last1min'] + X_transformed['consumption_last2min'] + X_transformed['consumption_last3min'] + X_transformed['consumption_last4min'] + X_transformed['consumption_last5min']) / 5\n",
    "        \n",
    "        X_transformed['next_3min_avg'] = (X_transformed['consumption_next1min'] + X_transformed['consumption_next2min'] + X_transformed['consumption_next3min']) / 3\n",
    "        X_transformed['next_5min_avg'] = (X_transformed['consumption_next1min'] + X_transformed['consumption_next2min'] + X_transformed['consumption_next3min'] + X_transformed['consumption_next4min'] + X_transformed['consumption_next5min']) / 5\n",
    "        \n",
    "        # 5 min aggregations\n",
    "        X_transformed['consumption_last5min_std'] = np.nan\n",
    "        X_transformed['consumption_last5min_min'] = np.nan\n",
    "        X_transformed['consumption_last5min_max'] = np.nan\n",
    "        X_transformed['consumption_last5min_diff'] = np.nan\n",
    "\n",
    "        X_transformed['consumption_next5min_std'] = np.nan\n",
    "        X_transformed['consumption_next5min_min'] = np.nan\n",
    "        X_transformed['consumption_next5min_max'] = np.nan\n",
    "        X_transformed['consumption_next5min_diff'] = np.nan\n",
    "        \n",
    "        for i in range(len(X_transformed)):\n",
    "            list_last5min = [X_transformed.consumption_last1min[i], X_transformed.consumption_last2min[i],\n",
    "                             X_transformed.consumption_last3min[i], X_transformed.consumption_last4min[i],\n",
    "                             X_transformed.consumption_last5min[i]]\n",
    "\n",
    "            list_next5min = [X_transformed.consumption_next1min[i],X_transformed.consumption_next2min[i], \n",
    "                             X_transformed.consumption_next3min[i],X_transformed.consumption_next4min[i], \n",
    "                             X_transformed.consumption_next5min[i]]\n",
    "\n",
    "            X_transformed.consumption_last5min_std[i] = np.std(list_last5min)\n",
    "            X_transformed.consumption_last5min_min[i] = np.min(list_last5min)\n",
    "            X_transformed.consumption_last5min_max[i] = np.max(list_last5min)\n",
    "            X_transformed.consumption_last5min_diff[i] = X_transformed.consumption_last5min_max[i] - X_transformed.consumption_last5min_min[i]\n",
    "\n",
    "            X_transformed.consumption_next5min_std[i] = np.std(list_next5min)\n",
    "            X_transformed.consumption_next5min_min[i] = np.min(list_next5min)\n",
    "            X_transformed.consumption_next5min_max[i] = np.max(list_next5min)\n",
    "            X_transformed.consumption_next5min_diff[i] = X_transformed.consumption_next5min_max[i] - X_transformed.consumption_next5min_min[i]\n",
    "\n",
    "\n",
    "        if leave_null == False:\n",
    "            X_transformed = X_transformed.fillna(0)\n",
    "        \n",
    "        return X_transformed\n",
    "    \n",
    "    def transform_cols(self, X_df):\n",
    "        return self.X_transformed.columns\n",
    "    \n",
    "    def getDF(self):\n",
    "        return self.X_transformed"
   ]
  },
  {
   "cell_type": "code",
   "execution_count": 9,
   "metadata": {
    "scrolled": false
   },
   "outputs": [],
   "source": [
    "### Transform X_train\n",
    "fe = FeatureExtractor()\n",
    "X_train_V2 = fe.transform(X_train, leave_null=False)\n",
    "\n",
    "### Transform X_test\n",
    "X_test_V2 = fe.transform(X_test, leave_null=False)"
   ]
  },
  {
   "cell_type": "code",
   "execution_count": 10,
   "metadata": {
    "scrolled": false
   },
   "outputs": [],
   "source": [
    "# NA values imputation for y_train\n",
    "y_train_V2 = y_train\n",
    "y_train_V2['kettle'] = y_train_V2['kettle'].fillna(0)\n",
    "y_train_V2 = y_train_V2.interpolate(method='nearest', limit_direction='forward', limit=5)\n",
    "y_train_V2 = y_train_V2.fillna(0)"
   ]
  },
  {
   "cell_type": "code",
   "execution_count": 11,
   "metadata": {
    "scrolled": false
   },
   "outputs": [],
   "source": [
    "# Save transformed data to file for future use\n",
    "X_train_V2.to_csv(\"X_train_trans2.csv\", index=False)\n",
    "X_test_V2.to_csv(\"X_test_trans2.csv\", index=False)\n",
    "y_train_V2.to_csv(\"y_train_trans2.csv\", index=False)"
   ]
  },
  {
   "cell_type": "code",
   "execution_count": 12,
   "metadata": {
    "scrolled": false
   },
   "outputs": [],
   "source": [
    "# Load preprocessed data\n",
    "X_train = pd.read_csv(\"X_train_trans2.csv\")\n",
    "X_test  = pd.read_csv(\"X_test_trans2.csv\")\n",
    "y_train = pd.read_csv(\"y_train_trans2.csv\")"
   ]
  },
  {
   "cell_type": "markdown",
   "metadata": {},
   "source": [
    "### Data Integration"
   ]
  },
  {
   "cell_type": "code",
   "execution_count": 13,
   "metadata": {
    "scrolled": false
   },
   "outputs": [],
   "source": [
    "train = pd.merge(X_train, y_train,\n",
    "                 how=\"left\",\n",
    "                 left_on=['time_step'],\n",
    "                 right_on=['time_step'],\n",
    "                 sort=False\n",
    "                )"
   ]
  },
  {
   "cell_type": "markdown",
   "metadata": {},
   "source": [
    "### Data visualization & exploration"
   ]
  },
  {
   "cell_type": "markdown",
   "metadata": {},
   "source": [
    "Below shows a plot of the consumptions of the entire household and of the 4 appliances in a given time period."
   ]
  },
  {
   "cell_type": "code",
   "execution_count": 16,
   "metadata": {
    "scrolled": false
   },
   "outputs": [
    {
     "data": {
      "image/png": "[encoded data removed]",
      "text/plain": [
       "<Figure size 1440x720 with 1 Axes>"
      ]
     },
     "metadata": {
      "needs_background": "light"
     },
     "output_type": "display_data"
    }
   ],
   "source": [
    "fig = plt.figure(figsize=(20,10))\n",
    "\n",
    "size = 1000\n",
    "start = 2400\n",
    "\n",
    "plot_sample = train.iloc[start:start+size,:]\n",
    "plt.plot(np.arange(0,size,1), plot_sample['consumption'], label='Consumption')\n",
    "plt.plot(np.arange(0,size,1), plot_sample['washing_machine'], label='washing_machine')\n",
    "plt.plot(np.arange(0,size,1), plot_sample['fridge_freezer'], label='fridge_freezer')\n",
    "plt.plot(np.arange(0,size,1), plot_sample['TV'], label='TV', color=\"purple\")\n",
    "plt.plot(np.arange(0,size,1), plot_sample['kettle'], label='kettle', color=\"red\")\n",
    "\n",
    "plt.legend()\n",
    "\n",
    "plt.show()"
   ]
  },
  {
   "cell_type": "markdown",
   "metadata": {},
   "source": [
    "Below shows the histograms of the electrivity consumption of each appliance."
   ]
  },
  {
   "cell_type": "code",
   "execution_count": 17,
   "metadata": {
    "scrolled": false
   },
   "outputs": [
    {
     "data": {
      "image/png": "[encoded data removed]",
      "text/plain": [
       "<Figure size 1440x1152 with 4 Axes>"
      ]
     },
     "metadata": {
      "needs_background": "light"
     },
     "output_type": "display_data"
    }
   ],
   "source": [
    "plt.figure(1,figsize = (20,16))\n",
    "\n",
    "size = 100000\n",
    "plot_sample = train.iloc[:size,:]\n",
    "\n",
    "plt.subplot(221)\n",
    "plt.hist(plot_sample.washing_machine, bins=100, density=True)\n",
    "plt.xlim(0,2500)\n",
    "\n",
    "plt.subplot(222)\n",
    "plt.hist(plot_sample.fridge_freezer, bins=50, density=True)\n",
    "plt.xlim(0,300)\n",
    "\n",
    "plt.subplot(223)\n",
    "plt.hist(plot_sample.TV, bins=50, density=True)\n",
    "plt.xlim(0,150)\n",
    "\n",
    "plt.subplot(224)\n",
    "plt.hist(plot_sample.kettle, bins=10, density=True)\n",
    "plt.xlim(0,3000)\n",
    "\n",
    "plt.show()"
   ]
  },
  {
   "cell_type": "markdown",
   "metadata": {},
   "source": [
    "Below we group the consumptions in smaller ranges and count the frequency within each smaller range for each appliance."
   ]
  },
  {
   "cell_type": "code",
   "execution_count": 20,
   "metadata": {
    "scrolled": false
   },
   "outputs": [],
   "source": [
    "y_train_ = train[['washing_machine', 'fridge_freezer', 'TV', 'kettle', 'time_step']]\n",
    "\n",
    "y_train_['w_m'] = pd.cut(y_train_.washing_machine, [-1, 50, 100, 500, 1000, 1500, 2000, 2500, 3000])\n",
    "y_train_['f_f'] = pd.cut(y_train_.fridge_freezer, [-1, 50, 150, 200, 250, 300])\n",
    "y_train_['_tv'] = pd.cut(y_train_.TV, [-1, 10, 20, 30, 40, 50, 60, 70, 80, 90, 100, 120, 140])\n",
    "y_train_['_kettle'] = pd.cut(y_train_.kettle, [-1, 100, 500, 1000, 1500, 2000, 2500, 3000])"
   ]
  },
  {
   "cell_type": "code",
   "execution_count": 21,
   "metadata": {
    "scrolled": false
   },
   "outputs": [
    {
     "data": {
      "text/html": [
       "<div>\n",
       "<style scoped>\n",
       "    .dataframe tbody tr th:only-of-type {\n",
       "        vertical-align: middle;\n",
       "    }\n",
       "\n",
       "    .dataframe tbody tr th {\n",
       "        vertical-align: top;\n",
       "    }\n",
       "\n",
       "    .dataframe thead th {\n",
       "        text-align: right;\n",
       "    }\n",
       "</style>\n",
       "<table border=\"1\" class=\"dataframe\">\n",
       "  <thead>\n",
       "    <tr style=\"text-align: right;\">\n",
       "      <th></th>\n",
       "      <th>time_step</th>\n",
       "    </tr>\n",
       "    <tr>\n",
       "      <th>w_m</th>\n",
       "      <th></th>\n",
       "    </tr>\n",
       "  </thead>\n",
       "  <tbody>\n",
       "    <tr>\n",
       "      <th>(-1, 50]</th>\n",
       "      <td>403493</td>\n",
       "    </tr>\n",
       "    <tr>\n",
       "      <th>(50, 100]</th>\n",
       "      <td>7812</td>\n",
       "    </tr>\n",
       "    <tr>\n",
       "      <th>(100, 500]</th>\n",
       "      <td>5828</td>\n",
       "    </tr>\n",
       "    <tr>\n",
       "      <th>(500, 1000]</th>\n",
       "      <td>152</td>\n",
       "    </tr>\n",
       "    <tr>\n",
       "      <th>(1000, 1500]</th>\n",
       "      <td>127</td>\n",
       "    </tr>\n",
       "    <tr>\n",
       "      <th>(1500, 2000]</th>\n",
       "      <td>65</td>\n",
       "    </tr>\n",
       "    <tr>\n",
       "      <th>(2000, 2500]</th>\n",
       "      <td>122</td>\n",
       "    </tr>\n",
       "    <tr>\n",
       "      <th>(2500, 3000]</th>\n",
       "      <td>0</td>\n",
       "    </tr>\n",
       "  </tbody>\n",
       "</table>\n",
       "</div>"
      ],
      "text/plain": [
       "              time_step\n",
       "w_m                    \n",
       "(-1, 50]         403493\n",
       "(50, 100]          7812\n",
       "(100, 500]         5828\n",
       "(500, 1000]         152\n",
       "(1000, 1500]        127\n",
       "(1500, 2000]         65\n",
       "(2000, 2500]        122\n",
       "(2500, 3000]          0"
      ]
     },
     "execution_count": 21,
     "metadata": {},
     "output_type": "execute_result"
    }
   ],
   "source": [
    "y_train_.groupby('w_m').count()[['time_step']]"
   ]
  },
  {
   "cell_type": "code",
   "execution_count": 22,
   "metadata": {
    "scrolled": false
   },
   "outputs": [
    {
     "data": {
      "text/html": [
       "<div>\n",
       "<style scoped>\n",
       "    .dataframe tbody tr th:only-of-type {\n",
       "        vertical-align: middle;\n",
       "    }\n",
       "\n",
       "    .dataframe tbody tr th {\n",
       "        vertical-align: top;\n",
       "    }\n",
       "\n",
       "    .dataframe thead th {\n",
       "        text-align: right;\n",
       "    }\n",
       "</style>\n",
       "<table border=\"1\" class=\"dataframe\">\n",
       "  <thead>\n",
       "    <tr style=\"text-align: right;\">\n",
       "      <th></th>\n",
       "      <th>time_step</th>\n",
       "    </tr>\n",
       "    <tr>\n",
       "      <th>f_f</th>\n",
       "      <th></th>\n",
       "    </tr>\n",
       "  </thead>\n",
       "  <tbody>\n",
       "    <tr>\n",
       "      <th>(-1, 50]</th>\n",
       "      <td>210976</td>\n",
       "    </tr>\n",
       "    <tr>\n",
       "      <th>(50, 150]</th>\n",
       "      <td>180255</td>\n",
       "    </tr>\n",
       "    <tr>\n",
       "      <th>(150, 200]</th>\n",
       "      <td>26122</td>\n",
       "    </tr>\n",
       "    <tr>\n",
       "      <th>(200, 250]</th>\n",
       "      <td>215</td>\n",
       "    </tr>\n",
       "    <tr>\n",
       "      <th>(250, 300]</th>\n",
       "      <td>22</td>\n",
       "    </tr>\n",
       "  </tbody>\n",
       "</table>\n",
       "</div>"
      ],
      "text/plain": [
       "            time_step\n",
       "f_f                  \n",
       "(-1, 50]       210976\n",
       "(50, 150]      180255\n",
       "(150, 200]      26122\n",
       "(200, 250]        215\n",
       "(250, 300]         22"
      ]
     },
     "execution_count": 22,
     "metadata": {},
     "output_type": "execute_result"
    }
   ],
   "source": [
    "y_train_.groupby('f_f').count()[['time_step']]"
   ]
  },
  {
   "cell_type": "code",
   "execution_count": 23,
   "metadata": {
    "scrolled": false
   },
   "outputs": [
    {
     "data": {
      "text/html": [
       "<div>\n",
       "<style scoped>\n",
       "    .dataframe tbody tr th:only-of-type {\n",
       "        vertical-align: middle;\n",
       "    }\n",
       "\n",
       "    .dataframe tbody tr th {\n",
       "        vertical-align: top;\n",
       "    }\n",
       "\n",
       "    .dataframe thead th {\n",
       "        text-align: right;\n",
       "    }\n",
       "</style>\n",
       "<table border=\"1\" class=\"dataframe\">\n",
       "  <thead>\n",
       "    <tr style=\"text-align: right;\">\n",
       "      <th></th>\n",
       "      <th>time_step</th>\n",
       "    </tr>\n",
       "    <tr>\n",
       "      <th>_tv</th>\n",
       "      <th></th>\n",
       "    </tr>\n",
       "  </thead>\n",
       "  <tbody>\n",
       "    <tr>\n",
       "      <th>(-1, 10]</th>\n",
       "      <td>323182</td>\n",
       "    </tr>\n",
       "    <tr>\n",
       "      <th>(10, 20]</th>\n",
       "      <td>36402</td>\n",
       "    </tr>\n",
       "    <tr>\n",
       "      <th>(20, 30]</th>\n",
       "      <td>10772</td>\n",
       "    </tr>\n",
       "    <tr>\n",
       "      <th>(30, 40]</th>\n",
       "      <td>872</td>\n",
       "    </tr>\n",
       "    <tr>\n",
       "      <th>(40, 50]</th>\n",
       "      <td>9692</td>\n",
       "    </tr>\n",
       "    <tr>\n",
       "      <th>(50, 60]</th>\n",
       "      <td>12561</td>\n",
       "    </tr>\n",
       "    <tr>\n",
       "      <th>(60, 70]</th>\n",
       "      <td>15284</td>\n",
       "    </tr>\n",
       "    <tr>\n",
       "      <th>(70, 80]</th>\n",
       "      <td>5722</td>\n",
       "    </tr>\n",
       "    <tr>\n",
       "      <th>(80, 90]</th>\n",
       "      <td>2987</td>\n",
       "    </tr>\n",
       "    <tr>\n",
       "      <th>(90, 100]</th>\n",
       "      <td>56</td>\n",
       "    </tr>\n",
       "    <tr>\n",
       "      <th>(100, 120]</th>\n",
       "      <td>69</td>\n",
       "    </tr>\n",
       "    <tr>\n",
       "      <th>(120, 140]</th>\n",
       "      <td>0</td>\n",
       "    </tr>\n",
       "  </tbody>\n",
       "</table>\n",
       "</div>"
      ],
      "text/plain": [
       "            time_step\n",
       "_tv                  \n",
       "(-1, 10]       323182\n",
       "(10, 20]        36402\n",
       "(20, 30]        10772\n",
       "(30, 40]          872\n",
       "(40, 50]         9692\n",
       "(50, 60]        12561\n",
       "(60, 70]        15284\n",
       "(70, 80]         5722\n",
       "(80, 90]         2987\n",
       "(90, 100]          56\n",
       "(100, 120]         69\n",
       "(120, 140]          0"
      ]
     },
     "execution_count": 23,
     "metadata": {},
     "output_type": "execute_result"
    }
   ],
   "source": [
    "y_train_.groupby('_tv').count()[['time_step']]"
   ]
  },
  {
   "cell_type": "code",
   "execution_count": 24,
   "metadata": {
    "scrolled": false
   },
   "outputs": [
    {
     "data": {
      "text/html": [
       "<div>\n",
       "<style scoped>\n",
       "    .dataframe tbody tr th:only-of-type {\n",
       "        vertical-align: middle;\n",
       "    }\n",
       "\n",
       "    .dataframe tbody tr th {\n",
       "        vertical-align: top;\n",
       "    }\n",
       "\n",
       "    .dataframe thead th {\n",
       "        text-align: right;\n",
       "    }\n",
       "</style>\n",
       "<table border=\"1\" class=\"dataframe\">\n",
       "  <thead>\n",
       "    <tr style=\"text-align: right;\">\n",
       "      <th></th>\n",
       "      <th>time_step</th>\n",
       "    </tr>\n",
       "    <tr>\n",
       "      <th>_kettle</th>\n",
       "      <th></th>\n",
       "    </tr>\n",
       "  </thead>\n",
       "  <tbody>\n",
       "    <tr>\n",
       "      <th>(-1, 100]</th>\n",
       "      <td>416397</td>\n",
       "    </tr>\n",
       "    <tr>\n",
       "      <th>(100, 500]</th>\n",
       "      <td>183</td>\n",
       "    </tr>\n",
       "    <tr>\n",
       "      <th>(500, 1000]</th>\n",
       "      <td>256</td>\n",
       "    </tr>\n",
       "    <tr>\n",
       "      <th>(1000, 1500]</th>\n",
       "      <td>182</td>\n",
       "    </tr>\n",
       "    <tr>\n",
       "      <th>(1500, 2000]</th>\n",
       "      <td>103</td>\n",
       "    </tr>\n",
       "    <tr>\n",
       "      <th>(2000, 2500]</th>\n",
       "      <td>109</td>\n",
       "    </tr>\n",
       "    <tr>\n",
       "      <th>(2500, 3000]</th>\n",
       "      <td>337</td>\n",
       "    </tr>\n",
       "  </tbody>\n",
       "</table>\n",
       "</div>"
      ],
      "text/plain": [
       "              time_step\n",
       "_kettle                \n",
       "(-1, 100]        416397\n",
       "(100, 500]          183\n",
       "(500, 1000]         256\n",
       "(1000, 1500]        182\n",
       "(1500, 2000]        103\n",
       "(2000, 2500]        109\n",
       "(2500, 3000]        337"
      ]
     },
     "execution_count": 24,
     "metadata": {},
     "output_type": "execute_result"
    }
   ],
   "source": [
    "y_train_.groupby('_kettle').count()[['time_step']]"
   ]
  },
  {
   "cell_type": "markdown",
   "metadata": {},
   "source": [
    "### Define basic feature subsets"
   ]
  },
  {
   "cell_type": "code",
   "execution_count": 25,
   "metadata": {
    "scrolled": false
   },
   "outputs": [],
   "source": [
    "X_vars_full = ['consumption', 'visibility', 'temperature', 'humidity',\n",
    "       'humidex', 'windchill', 'wind', 'pressure', 'hour', 'minute', 'month',\n",
    "       'dayofweek', 'isweekend', 'day_0', 'day_1', 'day_2', 'day_3', 'day_4',\n",
    "       'day_5', 'day_6', 'hour_0', 'hour_1', 'hour_2', 'hour_3', 'hour_4',\n",
    "       'hour_5', 'hour_6', 'hour_7', 'hour_8', 'hour_9', 'hour_10', 'hour_11',\n",
    "       'hour_12', 'hour_13', 'hour_14', 'hour_15', 'hour_16', 'hour_17',\n",
    "       'hour_18', 'hour_19', 'hour_20', 'hour_21', 'hour_22', 'hour_23',\n",
    "       'hour_sin', 'hour_cos', 'minute_sin', 'minute_cos', 'time', 'time_sin',\n",
    "       'time_cos', 'hourly_avg', 'hourly_max', 'hourly_min',\n",
    "       'hourly_std', 'hourly_diff', 'half_hourly_avg',\n",
    "       'half_hourly_max', 'half_hourly_min', 'half_hourly_std',\n",
    "       'half_hourly_diff', 'WeatherPCA1', 'WeatherPCA2', 'WeatherPCA3',\n",
    "       'is_kettle_2500', 'is_kettle_2700', 'is_kettle_2700_5',\n",
    "       'is_washing_1800_5', 'is_washing_2000_10', 'is_washing_2000_5',\n",
    "       'kettle_current1', 'kettle_current2', 'kettle_current3',\n",
    "       'washing_current1', 'washing_current2', 'washing_current3',\n",
    "       'consumption_last1min', 'consumption_last2min', 'consumption_last3min',\n",
    "       'consumption_last4min', 'consumption_last5min', 'is_washing_new1',\n",
    "       'washing_current_new1', 'is_freezer_new1', 'freezer_current_new1',\n",
    "       'is_kettle_new1', 'kettle_current_new1', 'last_5min_avg',\n",
    "       'last_3min_avg']\n",
    "Y_vars_full = ['washing_machine', 'fridge_freezer', 'TV', 'kettle']"
   ]
  },
  {
   "cell_type": "code",
   "execution_count": 26,
   "metadata": {
    "scrolled": false
   },
   "outputs": [],
   "source": [
    "X_vars_base = ['consumption']\n",
    "X_vars_3mins = ['consumption_last1min', 'consumption_last2min', 'consumption_last3min']\n",
    "X_vars_5mins = ['consumption_last1min', 'consumption_last2min', 'consumption_last3min',\n",
    "               'consumption_last4min', 'consumption_last5min']\n",
    "X_vars_day = ['isweekend', 'day_0', 'day_1',\n",
    "       'day_2', 'day_3', 'day_4', 'day_5', 'day_6']\n",
    "X_vars_hour1 = ['hour_0', 'hour_1',\n",
    "       'hour_2', 'hour_3', 'hour_4', 'hour_5', 'hour_6', 'hour_7', 'hour_8',\n",
    "       'hour_9', 'hour_10', 'hour_11', 'hour_12', 'hour_13', 'hour_14',\n",
    "       'hour_15', 'hour_16', 'hour_17', 'hour_18', 'hour_19', 'hour_20',\n",
    "       'hour_21', 'hour_22', 'hour_23']\n",
    "X_vars_hour2 = ['hour_sin', 'hour_cos']\n",
    "X_vars_minute = ['minute_sin', 'minute_cos']\n",
    "X_vars_time = ['time_sin', 'time_cos']\n",
    "X_vars_hourly = ['hourly_avg', 'hourly_std', 'hourly_max', 'hourly_min']\n",
    "X_vars_half_hourly = ['half_hourly_avg', 'half_hourly_std', 'half_hourly_max', 'half_hourly_min']\n",
    "X_vars_weather1 = ['visibility', 'temperature', 'humidity',\n",
    "                   'humidex', 'windchill', 'wind', 'pressure']\n",
    "X_vars_weather2 = ['WeatherPCA1', 'WeatherPCA2', 'WeatherPCA3']\n",
    "X_vars_window1 = ['is_kettle_2500', 'is_washing_1800_5', 'kettle_current1', 'washing_current1']\n",
    "X_vars_window2 = ['is_kettle_2700', 'is_washing_2000_10', 'kettle_current2', 'washing_current2']\n",
    "X_vars_window3 = ['is_kettle_2700_5', 'is_washing_2000_5', 'kettle_current3', 'washing_current3']"
   ]
  },
  {
   "cell_type": "markdown",
   "metadata": {},
   "source": [
    "## Linear model"
   ]
  },
  {
   "cell_type": "markdown",
   "metadata": {},
   "source": [
    "`sklearn.LinearRegression()`"
   ]
  },
  {
   "cell_type": "code",
   "execution_count": 27,
   "metadata": {
    "scrolled": false
   },
   "outputs": [],
   "source": [
    "X_linear_set = X_vars_base + X_vars_day + X_vars_time + X_vars_half_hourly"
   ]
  },
  {
   "cell_type": "code",
   "execution_count": 28,
   "metadata": {
    "scrolled": false
   },
   "outputs": [],
   "source": [
    "X_linear = train[['time_step'] + X_linear_set]\n",
    "y_linear = train[Y_vars_full]"
   ]
  },
  {
   "cell_type": "code",
   "execution_count": 29,
   "metadata": {
    "scrolled": false
   },
   "outputs": [
    {
     "name": "stdout",
     "output_type": "stream",
     "text": [
      "Train size: 375839, Validation size: 41760\n"
     ]
    }
   ],
   "source": [
    "x_train, x_valid, y_train, y_valid = train_test_split(X_linear, y_linear, test_size=0.1)\n",
    "print('Train size: {train}, Validation size: {test}'.format(train=x_train.shape[0], test=x_valid.shape[0]))"
   ]
  },
  {
   "cell_type": "code",
   "execution_count": 30,
   "metadata": {
    "scrolled": false
   },
   "outputs": [],
   "source": [
    "# May lead to very bad results\n",
    "# scaler = StandardScaler()\n",
    "# x_scaled = scaler.fit_transform(x_train[x_train.columns[1:]])\n",
    "# y_scaled = scaler.fit_transform(y_train)"
   ]
  },
  {
   "cell_type": "code",
   "execution_count": 31,
   "metadata": {
    "scrolled": false
   },
   "outputs": [],
   "source": [
    "x_scaled = x_train[x_train.columns[1:]].to_numpy()\n",
    "y_scaled = y_train.to_numpy()"
   ]
  },
  {
   "cell_type": "code",
   "execution_count": 33,
   "metadata": {
    "scrolled": false
   },
   "outputs": [],
   "source": [
    "y_pred = x_valid[['time_step']]\n",
    "\n",
    "reg1 = LinearRegression().fit(x_scaled, y_scaled[:,0])\n",
    "y_pred['washing_machine'] = reg1.predict(x_valid[X_linear_set])\n",
    "\n",
    "reg2 = LinearRegression().fit(x_scaled, y_scaled[:,1])\n",
    "y_pred['fridge_freezer'] = reg2.predict(x_valid[X_linear_set])\n",
    "\n",
    "reg3 = LinearRegression().fit(x_scaled, y_scaled[:,2])\n",
    "y_pred['TV'] = reg3.predict(x_valid[X_linear_set])\n",
    "\n",
    "reg4 = LinearRegression().fit(x_scaled, y_scaled[:,3])\n",
    "y_pred['kettle'] = reg4.predict(x_valid[X_linear_set])"
   ]
  },
  {
   "cell_type": "code",
   "execution_count": 34,
   "metadata": {
    "scrolled": false
   },
   "outputs": [
    {
     "data": {
      "text/plain": [
       "48.002380646499184"
      ]
     },
     "execution_count": 34,
     "metadata": {},
     "output_type": "execute_result"
    }
   ],
   "source": [
    "metric_nilm(y_valid, y_pred)"
   ]
  },
  {
   "cell_type": "markdown",
   "metadata": {},
   "source": [
    "## ELM / H-ELMs"
   ]
  },
  {
   "cell_type": "code",
   "execution_count": 35,
   "metadata": {
    "scrolled": false
   },
   "outputs": [],
   "source": [
    "def ELMCV(X, y, test_size=0.2, k_fold=5, random_state=24, n_hidden=512, activation_func='multiquadric', alpha=0.7):\n",
    "    sumRMSE = 0\n",
    "    \n",
    "    for i in range(k_fold):\n",
    "        X_train, x_valid, Y_train, y_valid = train_test_split(X, y, test_size=test_size)\n",
    "        \n",
    "        x_scaled = X_train[X_train.columns[1:]].values\n",
    "        y_scaled = Y_train.values\n",
    "        x_valid_scaled = x_valid[x_valid.columns[1:]].values\n",
    "        y_valid_scaled = y_valid.values\n",
    "        \n",
    "        elmr = ELMRegressor(random_state=random_state, n_hidden=n_hidden, activation_func=activation_func, alpha=alpha)\n",
    "        elmr.fit(x_scaled, y_scaled)\n",
    "        y_pred = elmr.predict(x_valid_scaled)\n",
    "        \n",
    "        RMSE = rmse(y_valid_scaled, y_pred)\n",
    "        print(\"One-time RMSE: %.2f\" %RMSE)\n",
    "        sumRMSE += RMSE\n",
    "    \n",
    "    avgRMSE = sumRMSE / k_fold\n",
    "    print(\"%d fold validation average RMSE: %.2f\" %(k_fold, avgRMSE))"
   ]
  },
  {
   "cell_type": "markdown",
   "metadata": {},
   "source": [
    "### Feature & hyperparameter selection"
   ]
  },
  {
   "cell_type": "markdown",
   "metadata": {},
   "source": [
    "We use the same feature set for modeling all appliance."
   ]
  },
  {
   "cell_type": "code",
   "execution_count": null,
   "metadata": {
    "scrolled": false
   },
   "outputs": [],
   "source": [
    "X_vars_set = ['consumption', 'consumption_last1min', 'consumption_last2min',\n",
    "       'consumption_last3min', 'consumption_last4min', 'consumption_last5min',\n",
    "       'isweekend', 'day_6', 'hour_1', 'hour_9', 'hour_10', 'hour_14',\n",
    "       'hour_15', 'hour_21', 'hour_23', 'hour_cos', 'minute_sin', 'minute_cos',\n",
    "       'time_sin', 'time_cos', 'hourly_avg', 'hourly_std', 'hourly_max',\n",
    "       'hourly_min', 'half_hourly_avg', 'half_hourly_std', 'half_hourly_max',\n",
    "       'half_hourly_min', 'visibility', 'temperature', 'humidity', 'humidex',\n",
    "       'windchill', 'wind', 'pressure', 'WeatherPCA1', 'WeatherPCA2',\n",
    "       'WeatherPCA3']"
   ]
  },
  {
   "cell_type": "code",
   "execution_count": null,
   "metadata": {
    "scrolled": false
   },
   "outputs": [],
   "source": [
    "X_elm_washing = train[['time_step'] + X_vars_set]\n",
    "y_elm_washing = train[['washing_machine']]"
   ]
  },
  {
   "cell_type": "code",
   "execution_count": null,
   "metadata": {
    "scrolled": false
   },
   "outputs": [],
   "source": [
    "rmse512 = ELMCV(X_elm_washing, y_elm_washing, k_fold=5, random_state=24, n_hidden=512)"
   ]
  },
  {
   "cell_type": "code",
   "execution_count": null,
   "metadata": {
    "scrolled": false
   },
   "outputs": [],
   "source": [
    "rmse256 = ELMCV(X_elm_washing, y_elm_washing, k_fold=5, random_state=24, n_hidden=256)"
   ]
  },
  {
   "cell_type": "markdown",
   "metadata": {},
   "source": [
    "*** Test results for different feature sets: ***\n",
    "\n",
    "n_hidden = 256, activation_func='multiquadric', random_state=24 (the result is largely dependent on the random state)\n",
    "1. X_vars_set = X_vars_base + X_vars_day + X_vars_time: 102.3\n",
    "2. X_vars_set = X_vars_base + X_vars_day + X_vars_time + X_vars_hourly: 40.8\n",
    "3. X_vars_set = X_vars_base + X_vars_day + X_vars_time + X_vars_half_hourly: 41.6\n",
    "4. X_vars_set = X_vars_base + X_vars_day + X_vars_time + X_vars_hourly + X_vars_window3: 41.12\n",
    "5. X_vars_set = X_vars_base + X_vars_day + X_vars_time + X_vars_hourly + X_vars_window2: 41.10\n",
    "6. X_vars_set = X_vars_base + X_vars_day + X_vars_time + X_vars_hourly + X_vars_window1: 41.0\n",
    "7. X_vars_set = X_vars_base + X_vars_day + X_vars_time + X_vars_window1: 57.2\n",
    "8. X_vars_set = X_vars_base + X_vars_day + X_vars_time + X_vars_window2: 60.1\n",
    "9. X_vars_set = X_vars_base + X_vars_day + X_vars_hour1 + X_vars_time + X_vars_hourly: 40.5"
   ]
  },
  {
   "cell_type": "markdown",
   "metadata": {},
   "source": [
    "### Train ELM model"
   ]
  },
  {
   "cell_type": "code",
   "execution_count": null,
   "metadata": {
    "scrolled": false
   },
   "outputs": [],
   "source": [
    "x_scaled = x_train[x_train.columns[1:]].to_numpy()\n",
    "y_scaled = y_train.to_numpy()"
   ]
  },
  {
   "cell_type": "code",
   "execution_count": null,
   "metadata": {
    "scrolled": false
   },
   "outputs": [],
   "source": [
    "# it is better to run this step first\n",
    "y_pred = x_valid[['time_step']]"
   ]
  },
  {
   "cell_type": "code",
   "execution_count": null,
   "metadata": {
    "scrolled": false
   },
   "outputs": [],
   "source": [
    "elmr = pipeline.Pipeline([('rhl', RandomLayer(random_state=0, n_hidden=256, activation_func='multiquadric', alpha=0.7)),\n",
    "                          ('rh2', RandomLayer(random_state=42, n_hidden=256, activation_func='multiquadric', alpha=0.5)),\n",
    "                          ('lr', LinearRegression(fit_intercept=True))])\n",
    "\n",
    "elmr1 = elmr.fit(x_scaled, y_scaled[:,0])\n",
    "y_pred['washing_machine'] = elmr1.predict(x_valid[X_vars_set])\n",
    "\n",
    "elmr2 = elmr.fit(x_scaled, y_scaled[:,1])\n",
    "y_pred['fridge_freezer'] = elmr2.predict(x_valid[X_vars_set])\n",
    "\n",
    "elmr3 = elmr.fit(x_scaled, y_scaled[:,2])\n",
    "y_pred['TV'] = elmr3.predict(x_valid[X_vars_set])\n",
    "\n",
    "elmr4 = elmr.fit(x_scaled, y_scaled[:,3])\n",
    "y_pred['kettle'] = elmr4.predict(x_valid[X_vars_set])"
   ]
  },
  {
   "cell_type": "code",
   "execution_count": null,
   "metadata": {
    "scrolled": false
   },
   "outputs": [],
   "source": [
    "metric_nilm(y_valid, y_pred)"
   ]
  },
  {
   "cell_type": "markdown",
   "metadata": {},
   "source": [
    "## XGBoost"
   ]
  },
  {
   "cell_type": "markdown",
   "metadata": {},
   "source": [
    "### Regressor and utility functions"
   ]
  },
  {
   "cell_type": "code",
   "execution_count": null,
   "metadata": {
    "scrolled": false
   },
   "outputs": [],
   "source": [
    "class XGB_Regressor(BaseEstimator):\n",
    "    def __init__(self):\n",
    "        self.scr = preprocessing.StandardScaler()\n",
    "        #0.45\n",
    "        self.param ={'objective':'reg:squarederror',\n",
    "                    'max_depth':4,\n",
    "                    'n_estimators':500,\n",
    "                    'n_jobs':4,\n",
    "                     'min_child_weight': 7\n",
    "                    }\n",
    "        self.reg = xgb.XGBRegressor(**self.param)\n",
    "\n",
    "\n",
    "    def fit(self, X, y):\n",
    "        #X = self.scr.fit_transform(X)\n",
    "        self.reg.fit(X, y)\n",
    "\n",
    "    def predict(self, X):\n",
    "        X = self.scr.transform(X)\n",
    "        return self.reg.predict(X)"
   ]
  },
  {
   "cell_type": "code",
   "execution_count": null,
   "metadata": {
    "scrolled": false
   },
   "outputs": [],
   "source": [
    "def model_cv(model, X, y, cv_folds=5, early_stopping_rounds=50, seed=42):\n",
    "    xgb_param = model.get_xgb_params()\n",
    "    xgtrain = xgb.DMatrix(X, label=y)\n",
    "    cvresult = xgb.cv(xgb_param, xgtrain, num_boost_round=model.get_params()['n_estimators'], nfold=cv_folds,\n",
    "                    metrics='rmse', seed=seed, callbacks=[\n",
    "            xgb.callback.print_evaluation(show_stdv=False),\n",
    "            xgb.callback.early_stop(early_stopping_rounds)\n",
    "       ])\n",
    "    num_round_best = cvresult.shape[0] - 1\n",
    "    print('Best round num: ', num_round_best)\n",
    "    return num_round_best"
   ]
  },
  {
   "cell_type": "code",
   "execution_count": null,
   "metadata": {
    "scrolled": false
   },
   "outputs": [],
   "source": [
    "def importance(model, cols):\n",
    "    # Plot feature importance\n",
    "    feature_importance = model.feature_importances_\n",
    "    # make importances relative to max importance\n",
    "    feature_importance = 100.0 * (feature_importance / feature_importance.max())\n",
    "    sorted_idx = np.argsort(feature_importance)\n",
    "    pos = np.arange(sorted_idx.shape[0]) + .5\n",
    "    fig=plt.figure(figsize=(50, 50), dpi= 80, facecolor='w', edgecolor='k')\n",
    "    plt.subplot(2, 1, 2)\n",
    "    plt.barh(pos, feature_importance[sorted_idx], align='center')\n",
    "    plt.yticks(pos, cols[sorted_idx])\n",
    "    plt.xlabel('Relative Importance')\n",
    "    plt.title('Variable Importance')\n",
    "    plt.show()"
   ]
  },
  {
   "cell_type": "code",
   "execution_count": null,
   "metadata": {
    "scrolled": false
   },
   "outputs": [],
   "source": [
    "# Utility function to report best scores\n",
    "def report(results, n_top=3):\n",
    "    for i in range(1, n_top + 1):\n",
    "        candidates = np.flatnonzero(results['rank_test_score'] == i)\n",
    "        for candidate in candidates:\n",
    "            print(\"Model with rank: {0}\".format(i))\n",
    "            print(\"Mean validation score: {0:.3f} (std: {1:.3f})\".format(\n",
    "                  results['mean_test_score'][candidate],\n",
    "                  results['std_test_score'][candidate]))\n",
    "            print(\"Parameters: {0}\".format(results['params'][candidate]))"
   ]
  },
  {
   "cell_type": "code",
   "execution_count": null,
   "metadata": {},
   "outputs": [],
   "source": [
    "def rmse1(col_true, col_pred):\n",
    "    y_pv1 = col_pred - col_true\n",
    "    r1 = np.power(y_pv1, 2)\n",
    "    return mt.sqrt(r1.sum() / len(col_pred))"
   ]
  },
  {
   "cell_type": "markdown",
   "metadata": {},
   "source": [
    "### Feature set selection and preprocessing"
   ]
  },
  {
   "cell_type": "code",
   "execution_count": null,
   "metadata": {
    "scrolled": false
   },
   "outputs": [],
   "source": [
    "X_vars_set = X_vars_base + X_vars_5mins + X_vars_day + X_vars_hour1 + X_vars_hour2 + X_vars_minute + X_vars_time + X_vars_hourly + X_vars_half_hourly + X_vars_weather1 + X_vars_weather2 + X_vars_window1 + X_vars_window2 + X_vars_window3"
   ]
  },
  {
   "cell_type": "code",
   "execution_count": null,
   "metadata": {
    "scrolled": false
   },
   "outputs": [],
   "source": [
    "X = train[['time_step']+X_vars_set]\n",
    "y = train[y_vars]"
   ]
  },
  {
   "cell_type": "code",
   "execution_count": null,
   "metadata": {
    "scrolled": false
   },
   "outputs": [],
   "source": [
    "x_train, x_valid, y_train, y_valid = train_test_split(X, y, test_size=0.1, random_state=42)\n",
    "print('Train size: {train}, Validation size: {test}'.format(train=x_train.shape[0], test=x_valid.shape[0]))"
   ]
  },
  {
   "cell_type": "code",
   "execution_count": null,
   "metadata": {
    "scrolled": false
   },
   "outputs": [],
   "source": [
    "x_scaled = x_train[X_vars_set].values\n",
    "y_scaled = y_train.values"
   ]
  },
  {
   "cell_type": "markdown",
   "metadata": {},
   "source": [
    "### Model training (seperately on each appliances)"
   ]
  },
  {
   "cell_type": "code",
   "execution_count": null,
   "metadata": {
    "scrolled": false
   },
   "outputs": [],
   "source": [
    "params = {'objective':'reg:squarederror',\n",
    "                    'max_depth':5,\n",
    "                    'n_estimators':500,\n",
    "                    'n_jobs':4,\n",
    "                    'min_child_weight':8\n",
    "                    }\n",
    "clf1 = xgb.XGBRegressor(**params)\n",
    "clf1.fit(x_scaled, y_scaled[:,0])"
   ]
  },
  {
   "cell_type": "code",
   "execution_count": null,
   "metadata": {
    "scrolled": false
   },
   "outputs": [],
   "source": [
    "importance(clf1, x_train.columns[1:])"
   ]
  },
  {
   "cell_type": "code",
   "execution_count": null,
   "metadata": {
    "scrolled": false
   },
   "outputs": [],
   "source": [
    "params = {'objective':'reg:squarederror',\n",
    "                    'max_depth':5,\n",
    "                    'n_estimators':500,\n",
    "                    'n_jobs':4,\n",
    "                    'min_child_weight':8\n",
    "                    }\n",
    "clf2 = xgb.XGBRegressor(**params)\n",
    "clf2.fit(x_scaled, y_scaled[:,1])"
   ]
  },
  {
   "cell_type": "code",
   "execution_count": null,
   "metadata": {
    "scrolled": false
   },
   "outputs": [],
   "source": [
    "importance(clf2, x_train.columns[1:])"
   ]
  },
  {
   "cell_type": "code",
   "execution_count": null,
   "metadata": {
    "scrolled": false
   },
   "outputs": [],
   "source": [
    "params = {'objective':'reg:squarederror',\n",
    "                    'max_depth':5,\n",
    "                    'n_estimators':500,\n",
    "                    'n_jobs':4,\n",
    "                    'min_child_weight':8\n",
    "                    }\n",
    "clf3 = xgb.XGBRegressor(**params)\n",
    "begin = time()\n",
    "clf3.fit(x_scaled, y_scaled[:,2])\n",
    "end = time()\n",
    "print(\"Total time: %.2f\" %(end-begin))"
   ]
  },
  {
   "cell_type": "code",
   "execution_count": null,
   "metadata": {
    "scrolled": false
   },
   "outputs": [],
   "source": [
    "importance(clf3, x_train.columns[1:])"
   ]
  },
  {
   "cell_type": "code",
   "execution_count": null,
   "metadata": {
    "scrolled": false
   },
   "outputs": [],
   "source": [
    "params = {'objective':'reg:squarederror',\n",
    "                    'max_depth':5,\n",
    "                    'n_estimators':500,\n",
    "                    'n_jobs':4,\n",
    "                    'min_child_weight':8\n",
    "                    }\n",
    "clf4 = xgb.XGBRegressor(**params)\n",
    "clf4.fit(x_scaled, y_scaled[:,3])"
   ]
  },
  {
   "cell_type": "code",
   "execution_count": null,
   "metadata": {
    "scrolled": false
   },
   "outputs": [],
   "source": [
    "importance(clf4, x_train.columns[1:])"
   ]
  },
  {
   "cell_type": "code",
   "execution_count": null,
   "metadata": {
    "scrolled": false
   },
   "outputs": [],
   "source": [
    "# Evaluate on validation set:\n",
    "y_pred = x_valid[['time_step']]"
   ]
  },
  {
   "cell_type": "code",
   "execution_count": null,
   "metadata": {
    "scrolled": false
   },
   "outputs": [],
   "source": [
    "y_pred['washing_machine'] = clf1.predict(x_valid_scaled)\n",
    "y_pred['fridge_freezer'] = clf2.predict(x_valid_scaled)\n",
    "y_pred['TV'] = clf3.predict(x_valid_scaled)\n",
    "y_pred['kettle'] = clf4.predict(x_valid_scaled)"
   ]
  },
  {
   "cell_type": "code",
   "execution_count": null,
   "metadata": {
    "scrolled": false
   },
   "outputs": [],
   "source": [
    "metric_nilm(y_valid, y_pred)"
   ]
  },
  {
   "cell_type": "markdown",
   "metadata": {},
   "source": [
    "### Predictions on test data"
   ]
  },
  {
   "cell_type": "code",
   "execution_count": null,
   "metadata": {
    "scrolled": false
   },
   "outputs": [],
   "source": [
    "x_test_sub = X_test[['time_step']+X_vars_set]\n",
    "x_test_scaled = x_test_sub[X_vars_set].values\n",
    "y_pred = x_test_sub[['time_step']]"
   ]
  },
  {
   "cell_type": "code",
   "execution_count": null,
   "metadata": {
    "scrolled": false
   },
   "outputs": [],
   "source": [
    "y_pred['washing_machine'] = clf1.predict(x_test_scaled)\n",
    "y_pred['fridge_freezer'] = clf2.predict(x_test_scaled)\n",
    "y_pred['TV'] = clf3.predict(x_test_scaled)\n",
    "y_pred['kettle'] = clf4.predict(x_test_scaled)"
   ]
  },
  {
   "cell_type": "code",
   "execution_count": null,
   "metadata": {
    "scrolled": false
   },
   "outputs": [],
   "source": [
    "y_pred_notnull = y_pred[y_pred[y_pred.columns[1:]] >= 0].fillna(0)\n",
    "y_pred_notnull['time_step'] = y_pred['time_step']"
   ]
  },
  {
   "cell_type": "code",
   "execution_count": null,
   "metadata": {
    "scrolled": false
   },
   "outputs": [],
   "source": [
    "y_pred_notnull.to_csv(\"y_pred1.csv\",index=False)"
   ]
  },
  {
   "cell_type": "markdown",
   "metadata": {},
   "source": [
    "### XGB using minimal feature set\n",
    "\n",
    "Consider only these features: \n",
    "\n",
    "hour realted features, dayofweek, isweekend, hourly aggregations, \n",
    "weather PCAs, shifted consumptions, window features for each appliance, \n",
    "last 3 min and 5 min average."
   ]
  },
  {
   "cell_type": "markdown",
   "metadata": {},
   "source": [
    "#### Washing machine"
   ]
  },
  {
   "cell_type": "code",
   "execution_count": null,
   "metadata": {
    "scrolled": false
   },
   "outputs": [],
   "source": [
    "washing_min = ['consumption', 'hour', 'dayofweek', 'isweekend', \n",
    "               'hour_sin', 'hour_cos', 'hourly_avg',\n",
    "               'hourly_max', 'hourly_min', 'hourly_std', 'hourly_diff', \n",
    "               'WeatherPCA1', 'WeatherPCA2','WeatherPCA3', \n",
    "               'consumption_last1min', 'consumption_last3min', 'consumption_last5min',\n",
    "               'is_washing_1800_5', 'is_washing_2000_10', 'is_washing_2000_5',\n",
    "               'washing_current1', 'washing_current2', 'washing_current3', 'is_washing_new1',\n",
    "               'washing_current_new1', 'last_5min_avg',\n",
    "               'last_3min_avg']"
   ]
  },
  {
   "cell_type": "code",
   "execution_count": null,
   "metadata": {
    "scrolled": false
   },
   "outputs": [],
   "source": [
    "paramw = {'objective':'reg:squarederror',\n",
    "                    'max_depth':6,\n",
    "                    'n_estimators':1000,\n",
    "                    'n_jobs':4,\n",
    "                    'min_child_weight':8\n",
    "                    }\n",
    "clf_w1 = xgb.XGBRegressor(**paramw)\n",
    "clf_w1.fit(X_train[washing_min].values, y_train['washing_machine'].values)"
   ]
  },
  {
   "cell_type": "code",
   "execution_count": null,
   "metadata": {
    "scrolled": false
   },
   "outputs": [],
   "source": [
    "y_pred_w1 = clf_w1.predict(X_valid[washing_min].values)"
   ]
  },
  {
   "cell_type": "code",
   "execution_count": null,
   "metadata": {
    "scrolled": false
   },
   "outputs": [],
   "source": [
    "print(rmse1(y_valid['washing_machine'].values, y_pred_w1))\n",
    "# Result: 57.32"
   ]
  },
  {
   "cell_type": "code",
   "execution_count": null,
   "metadata": {
    "scrolled": false
   },
   "outputs": [],
   "source": [
    "xgb.plot_importance(clf_w1)"
   ]
  },
  {
   "cell_type": "code",
   "execution_count": null,
   "metadata": {
    "scrolled": false
   },
   "outputs": [],
   "source": [
    "# Selected features based on importance plot\n",
    "washing_min_2 = ['consumption', 'hour', 'isweekend', \n",
    "               'hourly_avg',\n",
    "               'hourly_max', 'hourly_min', 'hourly_std', 'hourly_diff', \n",
    "               'WeatherPCA1', 'WeatherPCA2','WeatherPCA3', \n",
    "               'consumption_last1min', 'consumption_last3min', 'consumption_last5min',\n",
    "               'last_5min_avg',\n",
    "               'last_3min_avg']"
   ]
  },
  {
   "cell_type": "code",
   "execution_count": null,
   "metadata": {
    "scrolled": false
   },
   "outputs": [],
   "source": [
    "paramw2 = {'objective':'reg:squarederror',\n",
    "                    'max_depth':6,\n",
    "                    'n_estimators':1000,\n",
    "                    'n_jobs':4,\n",
    "                    'min_child_weight':8\n",
    "                    }\n",
    "clf_w2 = xgb.XGBRegressor(**paramw2)\n",
    "clf_w2.fit(X_train[washing_min_2].values, y_train['washing_machine'].values)"
   ]
  },
  {
   "cell_type": "code",
   "execution_count": null,
   "metadata": {
    "scrolled": false
   },
   "outputs": [],
   "source": [
    "y_pred_w2 = clf_w2.predict(X_valid[washing_min_2].values)"
   ]
  },
  {
   "cell_type": "code",
   "execution_count": null,
   "metadata": {
    "scrolled": false
   },
   "outputs": [],
   "source": [
    "print(rmse1(y_valid['washing_machine'].values, y_pred_w2))\n",
    "# Result: 58.24"
   ]
  },
  {
   "cell_type": "markdown",
   "metadata": {},
   "source": [
    "#### Freezer"
   ]
  },
  {
   "cell_type": "code",
   "execution_count": null,
   "metadata": {
    "scrolled": false
   },
   "outputs": [],
   "source": [
    "freezer_min = ['consumption', 'hour', 'dayofweek', 'isweekend',\n",
    "               'hour_sin', 'hour_cos', 'hourly_avg',\n",
    "               'hourly_max', 'hourly_min', 'hourly_std', 'hourly_diff',\n",
    "               'WeatherPCA1', 'WeatherPCA2','WeatherPCA3', \n",
    "               'consumption_last1min', 'consumption_last3min', 'consumption_last5min',\n",
    "               'is_freezer_new1', 'freezer_current_new1', \n",
    "               'last_5min_avg', 'last_3min_avg']"
   ]
  },
  {
   "cell_type": "code",
   "execution_count": null,
   "metadata": {
    "scrolled": false
   },
   "outputs": [],
   "source": [
    "paramf = {'objective':'reg:squarederror',\n",
    "                    'max_depth':6,\n",
    "                    'n_estimators':1000,\n",
    "                    'n_jobs':4,\n",
    "                    'min_child_weight':8\n",
    "                    }\n",
    "clf_f1 = xgb.XGBRegressor(**paramf)\n",
    "clf_f1.fit(X_train[freezer_min].values, y_train['fridge_freezer'].values)"
   ]
  },
  {
   "cell_type": "code",
   "execution_count": null,
   "metadata": {
    "scrolled": false
   },
   "outputs": [],
   "source": [
    "y_pred_f1 = clf_f1.predict(X_valid[freezer_min].values)"
   ]
  },
  {
   "cell_type": "code",
   "execution_count": null,
   "metadata": {
    "scrolled": false
   },
   "outputs": [],
   "source": [
    "print(rmse1(y_valid['fridge_freezer'].values, y_pred_f1))"
   ]
  },
  {
   "cell_type": "code",
   "execution_count": null,
   "metadata": {
    "scrolled": false
   },
   "outputs": [],
   "source": [
    "xgb.plot_importance(clf_f1)"
   ]
  },
  {
   "cell_type": "code",
   "execution_count": null,
   "metadata": {
    "scrolled": false
   },
   "outputs": [],
   "source": [
    "# Selected features based on importance plot\n",
    "freezer_min_2 = ['consumption', 'hour', 'dayofweek', 'isweekend',\n",
    "               'hour_sin', 'hour_cos', 'hourly_avg',\n",
    "               'hourly_max', 'hourly_min', 'hourly_std', 'hourly_diff',\n",
    "               'WeatherPCA1', 'WeatherPCA2','WeatherPCA3', \n",
    "               'consumption_last1min', 'consumption_last3min', 'consumption_last5min',\n",
    "               'last_5min_avg', 'last_3min_avg']"
   ]
  },
  {
   "cell_type": "code",
   "execution_count": null,
   "metadata": {
    "scrolled": false
   },
   "outputs": [],
   "source": [
    "paramf2 = {'objective':'reg:squarederror',\n",
    "                    'max_depth':6,\n",
    "                    'n_estimators':1000,\n",
    "                    'n_jobs':4,\n",
    "                    'min_child_weight':8\n",
    "                    }\n",
    "clf_f2 = xgb.XGBRegressor(**paramf2)\n",
    "clf_f2.fit(X_train[freezer_min_2].values, y_train['fridge_freezer'].values)"
   ]
  },
  {
   "cell_type": "code",
   "execution_count": null,
   "metadata": {
    "scrolled": false
   },
   "outputs": [],
   "source": [
    "y_pred_f2 = clf_f2.predict(X_valid[freezer_min_2].values)"
   ]
  },
  {
   "cell_type": "code",
   "execution_count": null,
   "metadata": {
    "scrolled": false
   },
   "outputs": [],
   "source": [
    "print(rmse1(y_valid['fridge_freezer'].values, y_pred_f2))"
   ]
  },
  {
   "cell_type": "markdown",
   "metadata": {},
   "source": [
    "#### TV"
   ]
  },
  {
   "cell_type": "code",
   "execution_count": null,
   "metadata": {
    "scrolled": false
   },
   "outputs": [],
   "source": [
    "tv_min = ['consumption', 'hour', 'dayofweek', 'isweekend',\n",
    "               'hour_sin', 'hour_cos', 'hourly_avg',\n",
    "               'hourly_max', 'hourly_min', 'hourly_std', 'hourly_diff',\n",
    "               'WeatherPCA1', 'WeatherPCA2','WeatherPCA3', \n",
    "               'consumption_last1min', 'consumption_last3min', 'consumption_last5min',\n",
    "               'last_5min_avg', 'last_3min_avg']"
   ]
  },
  {
   "cell_type": "code",
   "execution_count": null,
   "metadata": {
    "scrolled": false
   },
   "outputs": [],
   "source": [
    "# XGBoost\n",
    "paramt = {'objective':'reg:squarederror',\n",
    "                    'max_depth':6,\n",
    "                    'n_estimators':1000,\n",
    "                    'n_jobs':4,\n",
    "                    'min_child_weight':8\n",
    "                    }\n",
    "clf_t1 = xgb.XGBRegressor(**paramt)\n",
    "clf_t1.fit(X_train[tv_min].values, y_train['TV'].values)"
   ]
  },
  {
   "cell_type": "code",
   "execution_count": null,
   "metadata": {
    "scrolled": false
   },
   "outputs": [],
   "source": [
    "y_pred_t1 = clf_t1.predict(X_valid[tv_min].values)"
   ]
  },
  {
   "cell_type": "code",
   "execution_count": null,
   "metadata": {
    "scrolled": false
   },
   "outputs": [],
   "source": [
    "print(rmse1(y_valid['TV'].values, y_pred_t1))"
   ]
  },
  {
   "cell_type": "code",
   "execution_count": null,
   "metadata": {
    "scrolled": false
   },
   "outputs": [],
   "source": [
    "xgb.plot_importance(clf_t1)"
   ]
  },
  {
   "cell_type": "code",
   "execution_count": null,
   "metadata": {
    "scrolled": false
   },
   "outputs": [],
   "source": [
    "# Selected features based on importance plot\n",
    "tv_min_2 = ['consumption', 'hour', 'dayofweek', 'isweekend',\n",
    "               'hour_sin', 'hourly_avg',\n",
    "               'hourly_max', 'hourly_min', 'hourly_std', 'hourly_diff',\n",
    "               'WeatherPCA1', 'WeatherPCA2','WeatherPCA3', \n",
    "               'consumption_last1min', 'consumption_last3min', 'consumption_last5min',\n",
    "               'last_5min_avg', 'last_3min_avg']"
   ]
  },
  {
   "cell_type": "code",
   "execution_count": null,
   "metadata": {
    "scrolled": false
   },
   "outputs": [],
   "source": [
    "# XGBoost\n",
    "paramt2 = {'objective':'reg:squarederror',\n",
    "                    'max_depth':6,\n",
    "                    'n_estimators':1000,\n",
    "                    'n_jobs':4,\n",
    "                    'min_child_weight':8\n",
    "                    }\n",
    "clf_t2 = xgb.XGBRegressor(**paramt2)\n",
    "clf_t2.fit(X_train[tv_min_2].values, y_train['TV'].values)"
   ]
  },
  {
   "cell_type": "code",
   "execution_count": null,
   "metadata": {
    "scrolled": false
   },
   "outputs": [],
   "source": [
    "y_pred_t2 = clf_t2.predict(X_valid[tv_min_2].values)"
   ]
  },
  {
   "cell_type": "code",
   "execution_count": null,
   "metadata": {
    "scrolled": false
   },
   "outputs": [],
   "source": [
    "print(rmse1(y_valid['TV'].values, y_pred_t2))"
   ]
  },
  {
   "cell_type": "markdown",
   "metadata": {},
   "source": [
    "#### Kettle"
   ]
  },
  {
   "cell_type": "code",
   "execution_count": null,
   "metadata": {
    "scrolled": false
   },
   "outputs": [],
   "source": [
    "kettle_min = ['consumption', 'hour', 'dayofweek', 'isweekend',\n",
    "               'hour_sin', 'hour_cos', 'hourly_avg',\n",
    "               'hourly_max', 'hourly_min', 'hourly_std', 'hourly_diff',\n",
    "               'WeatherPCA1', 'WeatherPCA2','WeatherPCA3', \n",
    "               'consumption_last1min', 'consumption_last3min', 'consumption_last5min',\n",
    "               'is_kettle_2500', 'is_kettle_2700', 'is_kettle_2700_5', \n",
    "               'kettle_current1', 'kettle_current2', 'kettle_current3',\n",
    "               'is_kettle_new1', 'kettle_current_new1', \n",
    "               'last_5min_avg', 'last_3min_avg']"
   ]
  },
  {
   "cell_type": "code",
   "execution_count": null,
   "metadata": {
    "scrolled": false
   },
   "outputs": [],
   "source": [
    "# XGBoost\n",
    "paramk = {'objective':'reg:squarederror',\n",
    "                    'max_depth':6,\n",
    "                    'n_estimators':1000,\n",
    "                    'n_jobs':4,\n",
    "                    'min_child_weight':8\n",
    "                    }\n",
    "clf_k1 = xgb.XGBRegressor(**paramk)\n",
    "clf_k1.fit(X_train[kettle_min].values, y_train['kettle'].values)"
   ]
  },
  {
   "cell_type": "code",
   "execution_count": null,
   "metadata": {
    "scrolled": false
   },
   "outputs": [],
   "source": [
    "y_pred_k1 = clf_k1.predict(X_valid[kettle_min].values)"
   ]
  },
  {
   "cell_type": "code",
   "execution_count": null,
   "metadata": {
    "scrolled": false
   },
   "outputs": [],
   "source": [
    "print(rmse1(y_valid['kettle'].values, y_pred_k1))"
   ]
  },
  {
   "cell_type": "code",
   "execution_count": null,
   "metadata": {
    "scrolled": false
   },
   "outputs": [],
   "source": [
    "xgb.plot_importance(clf_k1)"
   ]
  },
  {
   "cell_type": "code",
   "execution_count": null,
   "metadata": {
    "scrolled": false
   },
   "outputs": [],
   "source": [
    "# Selected features based on importance plot\n",
    "kettle_min_2 = ['consumption', 'hour', 'dayofweek', 'isweekend',\n",
    "               'hour_sin', 'hourly_avg',\n",
    "               'hourly_max', 'hourly_min', 'hourly_std', 'hourly_diff',\n",
    "               'WeatherPCA1', 'WeatherPCA2','WeatherPCA3', \n",
    "               'consumption_last1min', 'consumption_last3min', 'consumption_last5min',\n",
    "               'last_5min_avg', 'last_3min_avg']"
   ]
  },
  {
   "cell_type": "code",
   "execution_count": null,
   "metadata": {
    "scrolled": false
   },
   "outputs": [],
   "source": [
    "# XGBoost\n",
    "paramk2 = {'objective':'reg:squarederror',\n",
    "                    'max_depth':6,\n",
    "                    'n_estimators':1000,\n",
    "                    'n_jobs':4,\n",
    "                    'min_child_weight':8\n",
    "                    }\n",
    "clf_k2 = xgb.XGBRegressor(**paramk2)\n",
    "clf_k2.fit(X_train[kettle_min_2].values, y_train['kettle'].values)"
   ]
  },
  {
   "cell_type": "code",
   "execution_count": null,
   "metadata": {
    "scrolled": false
   },
   "outputs": [],
   "source": [
    "y_pred_k2 = clf_k2.predict(X_valid[kettle_min_2].values)"
   ]
  },
  {
   "cell_type": "code",
   "execution_count": null,
   "metadata": {
    "scrolled": false
   },
   "outputs": [],
   "source": [
    "print(rmse1(y_valid['TV'].values, y_pred_k2))"
   ]
  },
  {
   "cell_type": "markdown",
   "metadata": {},
   "source": [
    "#### Predictions"
   ]
  },
  {
   "cell_type": "code",
   "execution_count": null,
   "metadata": {
    "scrolled": false
   },
   "outputs": [],
   "source": [
    "y_pred_min = X_test[['time_step']]\n",
    "\n",
    "y_pred_min['washing_machine'] = clf_w1.predict(X_test[washing_min].values)\n",
    "y_pred_min['fridge_freezer'] = clf_f1.predict(X_test[freezer_min].values)\n",
    "y_pred_min['TV'] = clf_t1.predict(X_test[tv_min].values)\n",
    "y_pred_min['kettle'] = clf_k1.predict(X_test[kettle_min].values)\n",
    "\n",
    "y_pred_min_1 = y_pred_min[y_pred_min[y_pred_min.columns[1:]] >= 0].fillna(0)\n",
    "y_pred_min_1['time_step'] = y_pred_min['time_step']"
   ]
  },
  {
   "cell_type": "code",
   "execution_count": null,
   "metadata": {
    "scrolled": false
   },
   "outputs": [],
   "source": [
    "y_pred_min_1.to_csv(\"y_pred_xgbmin.csv\",index=False)"
   ]
  },
  {
   "cell_type": "markdown",
   "metadata": {},
   "source": [
    "## LGBM"
   ]
  },
  {
   "cell_type": "markdown",
   "metadata": {},
   "source": [
    "### Feature selection"
   ]
  },
  {
   "cell_type": "markdown",
   "metadata": {},
   "source": [
    "1. Washing Machine"
   ]
  },
  {
   "cell_type": "code",
   "execution_count": 26,
   "metadata": {
    "scrolled": false
   },
   "outputs": [],
   "source": [
    "washing_set = ['consumption', 'visibility', 'temperature', 'humidity', 'humidex',\n",
    "    'windchill', 'wind', 'pressure', 'hour', 'minute', 'month', 'dayofweek',\n",
    "    'hour_sin', 'hour_cos', 'time', 'time_sin', 'time_cos', 'hourly_avg',\n",
    "    'hourly_max', 'hourly_min', 'hourly_std', 'hourly_diff',\n",
    "    'half_hourly_avg', 'half_hourly_max', 'half_hourly_min',\n",
    "    'half_hourly_std', 'half_hourly_diff', 'WeatherPCA1', 'WeatherPCA2',\n",
    "    'WeatherPCA3', 'consumption_last1min', 'consumption_last2min',\n",
    "    'consumption_last3min', 'consumption_last4min', 'consumption_last5min',\n",
    "    'last_5min_avg']"
   ]
  },
  {
   "cell_type": "code",
   "execution_count": null,
   "metadata": {
    "scrolled": false
   },
   "outputs": [],
   "source": [
    "lgb_washing = lgb.LGBMRegressor(objective='regression', \n",
    "                                num_leaves=31, \n",
    "                                learning_rate=0.05, \n",
    "                                n_estimators=10000)\n",
    "\n",
    "lgb_washing.fit(X_train[washing_set].values, y_train['washing_machine'].values, \n",
    "                eval_set=[(X_valid[washing_set].values, y_valid['washing_machine'].values)], \n",
    "                eval_metric='l2', \n",
    "                early_stopping_rounds=50)\n",
    "\n",
    "y_pred_lgb_washing = lgb_washing.predict(X_valid[washing_set].values, num_iteration=lgb_washing.best_iteration_)\n",
    "\n",
    "print('The rmse of prediction is:', mean_squared_error(y_valid['washing_machine'].values, y_pred_lgb_washing) ** 0.5)\n",
    "print('Feature importances:', list(lgb_washing.feature_importances_))"
   ]
  },
  {
   "cell_type": "markdown",
   "metadata": {},
   "source": [
    "2. Fridge Freezer\n"
   ]
  },
  {
   "cell_type": "code",
   "execution_count": 27,
   "metadata": {
    "scrolled": false
   },
   "outputs": [],
   "source": [
    "freezer_set = ['consumption', 'visibility', 'temperature', 'humidity', 'humidex',\n",
    "    'windchill', 'wind', 'pressure', 'hour', 'minute', 'month', 'dayofweek',\n",
    "    'day_4', 'hour_7', 'hour_8', 'hour_10', 'hour_14', 'hour_15', 'hour_16',\n",
    "    'hour_18', 'hour_19', 'hour_20', 'hour_sin', 'hour_cos', 'minute_cos',\n",
    "    'time', 'time_sin', 'time_cos', 'hourly_avg', 'hourly_max',\n",
    "    'hourly_min', 'hourly_std', 'hourly_diff', 'half_hourly_avg',\n",
    "    'half_hourly_max', 'half_hourly_min', 'half_hourly_std',\n",
    "    'half_hourly_diff', 'WeatherPCA1', 'WeatherPCA2', 'WeatherPCA3',\n",
    "    'consumption_last1min', 'consumption_last2min', 'consumption_last3min',\n",
    "    'consumption_last4min', 'consumption_last5min', 'is_freezer_new1',\n",
    "    'freezer_current_new1', 'last_5min_avg', 'last_3min_avg']"
   ]
  },
  {
   "cell_type": "code",
   "execution_count": null,
   "metadata": {
    "scrolled": false
   },
   "outputs": [],
   "source": [
    "lgb_freezer = lgb.LGBMRegressor(objective='regression', \n",
    "                                num_leaves=31, \n",
    "                                learning_rate=0.05, \n",
    "                                n_estimators=15000)\n",
    "\n",
    "lgb_freezer.fit(X_train[freezer_set].values, y_train['fridge_freezer'].values, \n",
    "                eval_set=[(X_valid[freezer_set].values, y_valid['fridge_freezer'].values)], \n",
    "                eval_metric='l2', \n",
    "                early_stopping_rounds=50)\n",
    "\n",
    "y_pred_lgb_freezer = lgb_freezer.predict(X_valid[freezer_set].values, num_iteration=lgb_freezer.best_iteration_)\n",
    "\n",
    "print('The rmse of prediction is:', mean_squared_error(y_valid['fridge_freezer'].values, y_pred_lgb_freezer) ** 0.5)\n",
    "print('Feature importances:', list(lgb_freezer.feature_importances_))"
   ]
  },
  {
   "cell_type": "markdown",
   "metadata": {},
   "source": [
    "3. TV\n"
   ]
  },
  {
   "cell_type": "code",
   "execution_count": 28,
   "metadata": {
    "scrolled": false
   },
   "outputs": [],
   "source": [
    "TV_set = ['consumption', 'visibility', 'temperature', 'humidity', 'humidex',\n",
    "       'windchill', 'wind', 'pressure', 'hour', 'minute', 'month', 'dayofweek',\n",
    "       'day_1', 'day_2', 'day_3', 'day_4', 'day_5', 'hour_3', 'hour_4',\n",
    "       'hour_18', 'hour_19', 'hour_20', 'hour_21', 'hour_22', 'hour_sin',\n",
    "       'hour_cos', 'time', 'time_sin', 'time_cos', 'hourly_avg', 'hourly_max',\n",
    "       'hourly_min', 'hourly_std', 'hourly_diff', 'half_hourly_avg',\n",
    "       'half_hourly_max', 'half_hourly_min', 'half_hourly_std',\n",
    "       'half_hourly_diff', 'WeatherPCA1', 'WeatherPCA2', 'WeatherPCA3',\n",
    "       'washing_current1', 'washing_current3', 'consumption_last1min',\n",
    "       'consumption_last2min', 'consumption_last3min', 'consumption_last5min',\n",
    "       'last_5min_avg', 'last_3min_avg']"
   ]
  },
  {
   "cell_type": "code",
   "execution_count": null,
   "metadata": {
    "scrolled": false
   },
   "outputs": [],
   "source": [
    "lgb_TV = lgb.LGBMRegressor(objective='regression', \n",
    "                                num_leaves=31, \n",
    "                                learning_rate=0.05, \n",
    "                                n_estimators=10000)\n",
    "\n",
    "lgb_TV.fit(X_train[TV_set].values, y_train['TV'].values, \n",
    "                eval_set=[(X_valid[TV_set].values, y_valid['TV'].values)], \n",
    "                eval_metric='l2', \n",
    "                early_stopping_rounds=50)\n",
    "\n",
    "y_pred_lgb_TV = lgb_TV.predict(X_valid[TV_set].values, num_iteration=lgb_TV.best_iteration_)\n",
    "\n",
    "print('The rmse of prediction is:', mean_squared_error(y_valid['TV'].values, y_pred_lgb_TV) ** 0.5)\n",
    "print('Feature importances:', list(lgb_TV.feature_importances_))"
   ]
  },
  {
   "cell_type": "markdown",
   "metadata": {},
   "source": [
    "4. Kettle"
   ]
  },
  {
   "cell_type": "code",
   "execution_count": 29,
   "metadata": {
    "scrolled": false
   },
   "outputs": [],
   "source": [
    "kettle_set = ['consumption', 'visibility', 'temperature', 'humidity', 'humidex',\n",
    "       'windchill', 'wind', 'pressure', 'hour', 'minute', 'month', 'dayofweek',\n",
    "       'day_1', 'day_2', 'day_3', 'day_4', 'hour_18', 'hour_20', 'hour_sin',\n",
    "       'hour_cos', 'minute_sin', 'minute_cos', 'time', 'time_sin', 'time_cos',\n",
    "       'hourly_avg', 'hourly_max', 'hourly_min', 'hourly_std', 'hourly_diff',\n",
    "       'half_hourly_avg', 'half_hourly_max', 'half_hourly_min',\n",
    "       'half_hourly_std', 'half_hourly_diff', 'WeatherPCA1', 'WeatherPCA2',\n",
    "       'WeatherPCA3', 'is_kettle_2500', 'is_kettle_2700', 'is_kettle_2700_5',\n",
    "       'is_washing_1800_5', 'is_washing_2000_10', 'is_washing_2000_5',\n",
    "       'kettle_current1', 'kettle_current2', 'kettle_current3',\n",
    "       'washing_current1', 'washing_current2', 'washing_current3',\n",
    "       'consumption_last1min', 'consumption_last2min', 'consumption_last3min',\n",
    "       'consumption_last4min', 'consumption_last5min', 'is_washing_new1',\n",
    "       'washing_current_new1', 'freezer_current_new1', 'is_kettle_new1',\n",
    "       'kettle_current_new1', 'last_5min_avg', 'last_3min_avg']"
   ]
  },
  {
   "cell_type": "code",
   "execution_count": null,
   "metadata": {
    "scrolled": false
   },
   "outputs": [],
   "source": [
    "lgb_kettle = lgb.LGBMRegressor(objective='regression', \n",
    "                                num_leaves=25, \n",
    "                                learning_rate=0.05, \n",
    "                                n_estimators=10000)\n",
    "\n",
    "lgb_kettle.fit(X_train[kettle_set].values, y_train['kettle'].values, \n",
    "                eval_set=[(X_valid[kettle_set].values, y_valid['kettle'].values)], \n",
    "                eval_metric='l2', \n",
    "                early_stopping_rounds=50)\n",
    "\n",
    "y_pred_lgb_kettle = lgb_kettle.predict(X_valid[kettle_set].values, num_iteration=lgb_kettle.best_iteration_)\n",
    "\n",
    "print('The rmse of prediction is:', mean_squared_error(y_valid['kettle'].values, y_pred_lgb_kettle) ** 0.5)\n",
    "print('Feature importances:', list(lgb_kettle.feature_importances_))"
   ]
  },
  {
   "cell_type": "markdown",
   "metadata": {},
   "source": [
    "### Hyperparameter Tuning"
   ]
  },
  {
   "cell_type": "code",
   "execution_count": null,
   "metadata": {
    "scrolled": false
   },
   "outputs": [],
   "source": [
    "## Washing Machine\n",
    "lgb_washing = lgb.LGBMRegressor(objective='regression', n_estimators=500)\n",
    "\n",
    "start = time() \n",
    "\n",
    "param_dist ={'max_bin': [50, 150, 255, 400],\n",
    "            'learning_rate': [0.01, 0.05, 0.1, 0.5],\n",
    "            'num_leaves': [20,30,40,50,60],\n",
    "            'min_data_in_leaf': [5,25,50],\n",
    "            'min_sum_hessian_in_leaf': [5,10],\n",
    "            'feature_fraction': [0.8],\n",
    "            'bagging_fraction': [0.8],\n",
    "            'bagging_freq': [5],\n",
    "            #'early_stopping_round': [50],\n",
    "            'lambda_l1': [0.01,0.05,0.1],\n",
    "            'lambda_l2': [0.01,0.05,0.1],\n",
    "            'max_depth': [5,10,15]\n",
    "            }\n",
    "\n",
    "# run randomized search\n",
    "n_iter_search = 30\n",
    "random_search = RandomizedSearchCV(lgb_washing, param_distributions=param_dist,\n",
    "                                   n_iter=n_iter_search, cv=5, iid=False, \n",
    "                                   scoring='neg_mean_squared_error',\n",
    "                                   n_jobs = 5)\n",
    "\n",
    "\n",
    "random_search.fit(X_train[washing_set].values, y_train['washing_machine'].values)\n",
    "print(time() - start)"
   ]
  },
  {
   "cell_type": "code",
   "execution_count": null,
   "metadata": {
    "scrolled": false
   },
   "outputs": [],
   "source": [
    "report(random_search.cv_results_, 10)"
   ]
  },
  {
   "cell_type": "code",
   "execution_count": null,
   "metadata": {
    "scrolled": false
   },
   "outputs": [],
   "source": [
    "## Fridge freezer\n",
    "lgb_freezer = lgb.LGBMRegressor(objective='regression', n_estimators=500)\n",
    "\n",
    "start = time() \n",
    "\n",
    "param_dist ={'max_bin': [50, 150, 255, 400],\n",
    "            'learning_rate': [0.01, 0.05, 0.1, 0.5],\n",
    "            'num_leaves': [20,30,40,50,60],\n",
    "            'min_data_in_leaf': [5,25,50],\n",
    "            'min_sum_hessian_in_leaf': [5,10],\n",
    "            'feature_fraction': [0.8],\n",
    "            'bagging_fraction': [0.8],\n",
    "            'bagging_freq': [5],\n",
    "            #'early_stopping_round': [50],\n",
    "            'lambda_l1': [0.01,0.05,0.1],\n",
    "            'lambda_l2': [0.01,0.05,0.1],\n",
    "            'max_depth': [5,10,15]\n",
    "            }\n",
    "\n",
    "# run randomized search\n",
    "n_iter_search = 30\n",
    "random_search = RandomizedSearchCV(lgb_freezer, param_distributions=param_dist,\n",
    "                                   n_iter=n_iter_search, cv=5, iid=False, \n",
    "                                   scoring='neg_mean_squared_error',\n",
    "                                   n_jobs = 5)\n",
    "\n",
    "\n",
    "random_search.fit(X_train[freezer_set].values, y_train['fridge_freezer'].values)\n",
    "print(time() - start)"
   ]
  },
  {
   "cell_type": "code",
   "execution_count": null,
   "metadata": {
    "scrolled": false
   },
   "outputs": [],
   "source": [
    "report(random_search.cv_results_, 10)"
   ]
  },
  {
   "cell_type": "code",
   "execution_count": null,
   "metadata": {
    "scrolled": false
   },
   "outputs": [],
   "source": [
    "## TV\n",
    "lgb_TV = lgb.LGBMRegressor(objective='regression', n_estimators=500)\n",
    "\n",
    "start = time() \n",
    "\n",
    "param_dist ={'max_bin': [50, 150, 255, 400],\n",
    "            'learning_rate': [0.01, 0.05, 0.1, 0.5],\n",
    "            'num_leaves': [20,30,40,50,60],\n",
    "            'min_data_in_leaf': [5,25,50],\n",
    "            'min_sum_hessian_in_leaf': [5,10],\n",
    "            'feature_fraction': [0.8],\n",
    "            'bagging_fraction': [0.8],\n",
    "            'bagging_freq': [5],\n",
    "            #'early_stopping_round': [50],\n",
    "            'lambda_l1': [0.01,0.05,0.1],\n",
    "            'lambda_l2': [0.01,0.05,0.1],\n",
    "            'max_depth': [5,10,15]\n",
    "            }\n",
    "\n",
    "# run randomized search\n",
    "n_iter_search = 30\n",
    "random_search = RandomizedSearchCV(lgb_TV, param_distributions=param_dist,\n",
    "                                   n_iter=n_iter_search, cv=5, iid=False, \n",
    "                                   scoring='neg_mean_squared_error',\n",
    "                                   n_jobs = 5)\n",
    "\n",
    "\n",
    "random_search.fit(X_train[TV_set].values, y_train['TV'].values)\n",
    "print(time() - start)"
   ]
  },
  {
   "cell_type": "code",
   "execution_count": null,
   "metadata": {
    "scrolled": false
   },
   "outputs": [],
   "source": [
    "report(random_search.cv_results_, 10)"
   ]
  },
  {
   "cell_type": "code",
   "execution_count": null,
   "metadata": {
    "scrolled": false
   },
   "outputs": [],
   "source": [
    "## kettle\n",
    "lgb_kettle = lgb.LGBMRegressor(objective='regression', n_estimators=500)\n",
    "\n",
    "start = time() \n",
    "\n",
    "param_dist ={'max_bin': [50, 150, 255, 400],\n",
    "            'learning_rate': [0.01, 0.05, 0.1, 0.5],\n",
    "            'num_leaves': [20,30,40,50,60],\n",
    "            'min_data_in_leaf': [5,25,50],\n",
    "            'min_sum_hessian_in_leaf': [5,10],\n",
    "            'feature_fraction': [0.8],\n",
    "            'bagging_fraction': [0.8],\n",
    "            'bagging_freq': [5],\n",
    "            #'early_stopping_round': [50],\n",
    "            'lambda_l1': [0.01,0.05,0.1],\n",
    "            'lambda_l2': [0.01,0.05,0.1],\n",
    "            'max_depth': [5,10,15]\n",
    "            }\n",
    "\n",
    "# run randomized search\n",
    "n_iter_search = 30\n",
    "random_search = RandomizedSearchCV(lgb_kettle, param_distributions=param_dist,\n",
    "                                   n_iter=n_iter_search, cv=5, iid=False, \n",
    "                                   scoring='neg_mean_squared_error',\n",
    "                                   n_jobs = 5)\n",
    "\n",
    "\n",
    "random_search.fit(X_train[kettle_set].values, y_train['kettle'].values)\n",
    "print(time() - start)"
   ]
  },
  {
   "cell_type": "code",
   "execution_count": null,
   "metadata": {
    "scrolled": false
   },
   "outputs": [],
   "source": [
    "report(random_search.cv_results_, 10)"
   ]
  },
  {
   "cell_type": "markdown",
   "metadata": {},
   "source": [
    "### Cross validation: lgbm"
   ]
  },
  {
   "cell_type": "code",
   "execution_count": 56,
   "metadata": {
    "scrolled": false
   },
   "outputs": [],
   "source": [
    "def model_cv_l(model, X, y, cv_folds=5, early_stopping_rounds=50, seed=42):\n",
    "    lgb_param = model.get_params()\n",
    "    lgbtrain = lgb.Dataset(X, label=y)\n",
    "    cvresult = lgb.cv(lgb_param, lgbtrain, num_boost_round=model.get_params()['n_estimators'], nfold=cv_folds,\n",
    "                      metrics='rmse', seed=seed, callbacks=[lgb.callback.print_evaluation(show_stdv=False)], \n",
    "                      eval_train_metric=True, early_stopping_rounds = early_stopping_rounds, \n",
    "                      stratified=False, shuffle=False)\n",
    "    num_round_best = len(cvresult.keys())\n",
    "    print('Best round num: ', num_round_best)\n",
    "    return num_round_best"
   ]
  },
  {
   "cell_type": "code",
   "execution_count": null,
   "metadata": {
    "scrolled": false
   },
   "outputs": [],
   "source": [
    "# Washing machine\n",
    "param_washing_l ={ 'objective': 'regression', 'num_leaves': 50, \n",
    "                  'min_sum_hessian_in_leaf': 5, \n",
    "                  'min_data_in_leaf': 5, 'max_depth': 10, \n",
    "                  'max_bin': 255, 'learning_rate': 0.1, \n",
    "                  'lambda_l2': 0.1, 'lambda_l1': 0.1, \n",
    "                  'feature_fraction': 0.8, 'bagging_freq': 5, \n",
    "                  'bagging_fraction': 0.8}\n",
    "\n",
    "reg_washing_l = lgb.LGBMRegressor(**param_washing_l, n_estimators=10000)\n",
    "        \n",
    "model_cv_l(reg_washing_l, X_train[washing_set].values, y_train['washing_machine'].values)"
   ]
  },
  {
   "cell_type": "code",
   "execution_count": null,
   "metadata": {
    "scrolled": false
   },
   "outputs": [],
   "source": [
    "reg_w2 = lgb.LGBMRegressor(**param_washing_l, n_estimators=2328)\n",
    "reg_w2.fit(X_train[washing_set].values, y_train['washing_machine'].values)"
   ]
  },
  {
   "cell_type": "code",
   "execution_count": 395,
   "metadata": {
    "scrolled": false
   },
   "outputs": [],
   "source": [
    "y_washing = reg_w2.predict(X_test[washing_set].values)"
   ]
  },
  {
   "cell_type": "code",
   "execution_count": null,
   "metadata": {
    "scrolled": false
   },
   "outputs": [],
   "source": [
    "# Freezer\n",
    "param_freezer_l ={'objective':'regression', \n",
    "                'num_leaves': 50, \n",
    "                'min_sum_hessian_in_leaf': 5, \n",
    "                'min_data_in_leaf': 25, 'max_depth': 10, \n",
    "                'max_bin': 150, 'learning_rate': 0.5, \n",
    "                'lambda_l2': 0.1, 'lambda_l1': 0.05, \n",
    "                'feature_fraction': 0.8, 'bagging_freq': 5, \n",
    "                'bagging_fraction': 0.8}\n",
    "\n",
    "reg_freezer_l = lgb.LGBMRegressor(**param_freezer_l, n_estimators=10000)\n",
    "        \n",
    "model_cv_l(reg_freezer_l, X_train[freezer_set].values, y_train['fridge_freezer'].values)"
   ]
  },
  {
   "cell_type": "code",
   "execution_count": null,
   "metadata": {
    "scrolled": false
   },
   "outputs": [],
   "source": [
    "reg_f2 = lgb.LGBMRegressor(**param_freezer_l, n_estimators=8742)\n",
    "reg_f2.fit(X_train[freezer_set].values, y_train['fridge_freezer'].values)"
   ]
  },
  {
   "cell_type": "code",
   "execution_count": 69,
   "metadata": {
    "scrolled": false
   },
   "outputs": [],
   "source": [
    "y_freezer = reg_f2.predict(X_test[freezer_set].values)"
   ]
  },
  {
   "cell_type": "code",
   "execution_count": null,
   "metadata": {
    "scrolled": false
   },
   "outputs": [],
   "source": [
    "# TV\n",
    "param_tv_l ={'objective':'regression', \n",
    "           'num_leaves': 50, \n",
    "           'min_sum_hessian_in_leaf': 10, \n",
    "           'min_data_in_leaf': 5, 'max_depth': 10, \n",
    "           'max_bin': 255, 'learning_rate': 0.5, \n",
    "           'lambda_l2': 0.01, 'lambda_l1': 0.1, \n",
    "           'feature_fraction': 0.8, 'bagging_freq': 5, \n",
    "           'bagging_fraction': 0.8}\n",
    "\n",
    "reg_tv_l = lgb.LGBMRegressor(**param_tv_l, n_estimators=10000)\n",
    "        \n",
    "model_cv_l(reg_tv_l, X_train[TV_set].values, y_train['TV'].values)"
   ]
  },
  {
   "cell_type": "code",
   "execution_count": null,
   "metadata": {
    "scrolled": false
   },
   "outputs": [],
   "source": [
    "reg_t2 = lgb.LGBMRegressor(**param_tv_l, n_estimators=4907)\n",
    "reg_t2.fit(X_train[TV_set].values, y_train['TV'].values)"
   ]
  },
  {
   "cell_type": "code",
   "execution_count": 71,
   "metadata": {
    "scrolled": false
   },
   "outputs": [],
   "source": [
    "y_tv = reg_t2.predict(X_test[TV_set].values)"
   ]
  },
  {
   "cell_type": "code",
   "execution_count": null,
   "metadata": {
    "scrolled": false
   },
   "outputs": [],
   "source": [
    "# Kettle\n",
    "param_kettle_l ={'objective':'regression', \n",
    "               'num_leaves': 30, \n",
    "               'min_sum_hessian_in_leaf': 5, \n",
    "               'min_data_in_leaf': 5, 'max_depth': 15, \n",
    "               'max_bin': 400, 'learning_rate': 0.1, \n",
    "               'lambda_l2': 0.01, 'lambda_l1': 0.05, \n",
    "               'feature_fraction': 0.8, 'bagging_freq': 5, \n",
    "               'bagging_fraction': 0.8}\n",
    "\n",
    "reg_kettle_l = lgb.LGBMRegressor(**param_kettle_l, n_estimators=10000)\n",
    "        \n",
    "model_cv_l(reg_kettle_l, X_train[kettle_set].values, y_train['kettle'].values)"
   ]
  },
  {
   "cell_type": "code",
   "execution_count": null,
   "metadata": {
    "scrolled": false
   },
   "outputs": [],
   "source": [
    "reg_k2 = lgb.LGBMRegressor(**param_kettle_l, n_estimators=852)\n",
    "reg_k2.fit(X_train[kettle_set].values, y_train['kettle'].values)"
   ]
  },
  {
   "cell_type": "code",
   "execution_count": 73,
   "metadata": {
    "scrolled": false
   },
   "outputs": [],
   "source": [
    "y_kettle = reg_k2.predict(X_test[kettle_set].values)"
   ]
  },
  {
   "cell_type": "markdown",
   "metadata": {},
   "source": [
    "#### Check with overfitting"
   ]
  },
  {
   "cell_type": "code",
   "execution_count": null,
   "metadata": {
    "scrolled": false
   },
   "outputs": [],
   "source": [
    "param_washing_l3 ={ 'objective': 'regression', 'num_leaves': 50, \n",
    "                  'min_sum_hessian_in_leaf': 7, \n",
    "                  'min_data_in_leaf': 5, 'max_depth': 5, \n",
    "                  'max_bin': 255, 'learning_rate': 0.1, \n",
    "                  'lambda_l2': 0.1, 'lambda_l1': 0.1, \n",
    "                  'feature_fraction': 0.8, 'bagging_freq': 5, \n",
    "                  'bagging_fraction': 0.8}\n",
    "\n",
    "reg_w3 = lgb.LGBMRegressor(**param_washing_l3, n_estimators=1500)\n",
    "reg_w3.fit(X_train[washing_set].values, y_train['washing_machine'].values)\n",
    "\n",
    "y_washing3 = reg_w3.predict(X_test[washing_set].values)"
   ]
  },
  {
   "cell_type": "code",
   "execution_count": 119,
   "metadata": {
    "scrolled": false
   },
   "outputs": [],
   "source": [
    "param_freezer_l3 ={'objective':'regression', \n",
    "                'num_leaves': 50, \n",
    "                'min_sum_hessian_in_leaf': 5, \n",
    "                'min_data_in_leaf': 25, 'max_depth': 7, \n",
    "                'max_bin': 150, 'learning_rate': 0.5, \n",
    "                'lambda_l2': 0.1, 'lambda_l1': 0.05, \n",
    "                'feature_fraction': 0.8, 'bagging_freq': 5, \n",
    "                'bagging_fraction': 0.8}\n",
    "\n",
    "reg_f3 = lgb.LGBMRegressor(**param_freezer_l3, n_estimators=1500)\n",
    "reg_f3.fit(X_train[freezer_set].values, y_train['fridge_freezer'].values)\n",
    "\n",
    "y_freezer3 = reg_f3.predict(X_test[freezer_set].values)"
   ]
  },
  {
   "cell_type": "code",
   "execution_count": 120,
   "metadata": {
    "scrolled": false
   },
   "outputs": [],
   "source": [
    "param_tv_l3 ={'objective':'regression', \n",
    "           'num_leaves': 50, \n",
    "           'min_sum_hessian_in_leaf': 10, \n",
    "           'min_data_in_leaf': 5, 'max_depth': 7, \n",
    "           'max_bin': 255, 'learning_rate': 0.5, \n",
    "           'lambda_l2': 0.01, 'lambda_l1': 0.1, \n",
    "           'feature_fraction': 0.8, 'bagging_freq': 5, \n",
    "           'bagging_fraction': 0.8}\n",
    "\n",
    "reg_t3 = lgb.LGBMRegressor(**param_tv_l3, n_estimators=1500)\n",
    "reg_t3.fit(X_train[TV_set].values, y_train['TV'].values)\n",
    "\n",
    "y_tv3 = reg_t3.predict(X_test[TV_set].values)"
   ]
  },
  {
   "cell_type": "code",
   "execution_count": 121,
   "metadata": {
    "scrolled": false
   },
   "outputs": [],
   "source": [
    "param_kettle_l3 ={'objective':'regression', \n",
    "               'num_leaves': 30, \n",
    "               'min_sum_hessian_in_leaf': 5, \n",
    "               'min_data_in_leaf': 5, 'max_depth': 7, \n",
    "               'max_bin': 400, 'learning_rate': 0.1, \n",
    "               'lambda_l2': 0.01, 'lambda_l1': 0.05, \n",
    "               'feature_fraction': 0.8, 'bagging_freq': 5, \n",
    "               'bagging_fraction': 0.8}\n",
    "\n",
    "reg_k3 = lgb.LGBMRegressor(**param_kettle_l3, n_estimators=1500)\n",
    "reg_k3.fit(X_train[kettle_set].values, y_train['kettle'].values)\n",
    "\n",
    "y_kettle3 = reg_k3.predict(X_test[kettle_set].values)"
   ]
  },
  {
   "cell_type": "code",
   "execution_count": 122,
   "metadata": {
    "scrolled": false
   },
   "outputs": [],
   "source": [
    "y_pred3 = X_test[['time_step']]"
   ]
  },
  {
   "cell_type": "code",
   "execution_count": 123,
   "metadata": {
    "scrolled": false
   },
   "outputs": [],
   "source": [
    "y_pred3['washing_machine'] = y_washing3\n",
    "y_pred3['fridge_freezer'] = y_freezer3\n",
    "y_pred3['TV'] = y_tv3\n",
    "y_pred3['kettle'] = y_kettle3"
   ]
  },
  {
   "cell_type": "code",
   "execution_count": 124,
   "metadata": {
    "scrolled": false
   },
   "outputs": [],
   "source": [
    "y_pred33 = y_pred3[y_pred3[y_pred3.columns[1:]] >= 0].fillna(0)\n",
    "y_pred33['time_step'] = y_pred3['time_step']"
   ]
  },
  {
   "cell_type": "code",
   "execution_count": 126,
   "metadata": {
    "scrolled": false
   },
   "outputs": [],
   "source": [
    "y_pred33.to_csv(\"y_pred_lgb3.csv\",index=False)"
   ]
  },
  {
   "cell_type": "markdown",
   "metadata": {},
   "source": [
    "### LGBM prediction"
   ]
  },
  {
   "cell_type": "code",
   "execution_count": 74,
   "metadata": {
    "scrolled": false
   },
   "outputs": [],
   "source": [
    "y_pred = X_test[['time_step']]"
   ]
  },
  {
   "cell_type": "code",
   "execution_count": 75,
   "metadata": {
    "scrolled": false
   },
   "outputs": [],
   "source": [
    "y_pred['washing_machine'] = y_washing\n",
    "y_pred['fridge_freezer'] = y_freezer\n",
    "y_pred['TV'] = y_tv\n",
    "y_pred['kettle'] = y_kettle"
   ]
  },
  {
   "cell_type": "code",
   "execution_count": 76,
   "metadata": {
    "scrolled": false
   },
   "outputs": [],
   "source": [
    "y_pred1 = y_pred[y_pred[y_pred.columns[1:]] >= 0].fillna(0)\n",
    "y_pred1['time_step'] = y_pred['time_step']"
   ]
  },
  {
   "cell_type": "code",
   "execution_count": 79,
   "metadata": {
    "scrolled": false
   },
   "outputs": [],
   "source": [
    "y_pred1.to_csv(\"y_pred_lgb.csv\",index=False)"
   ]
  },
  {
   "cell_type": "markdown",
   "metadata": {},
   "source": [
    "### Feature importance"
   ]
  },
  {
   "cell_type": "code",
   "execution_count": null,
   "metadata": {
    "scrolled": false
   },
   "outputs": [],
   "source": [
    "lgb.plot_importance(reg_w2, importance_type='gain', figsize=(10, 10))"
   ]
  },
  {
   "cell_type": "code",
   "execution_count": null,
   "metadata": {
    "scrolled": false
   },
   "outputs": [],
   "source": [
    "lgb.plot_importance(reg_f2, importance_type='gain', figsize=(10, 10))"
   ]
  },
  {
   "cell_type": "code",
   "execution_count": null,
   "metadata": {
    "scrolled": false
   },
   "outputs": [],
   "source": [
    "lgb.plot_importance(reg_t2, importance_type='gain', figsize=(10, 10))"
   ]
  },
  {
   "cell_type": "code",
   "execution_count": null,
   "metadata": {
    "scrolled": false
   },
   "outputs": [],
   "source": [
    "lgb.plot_importance(reg_k2, importance_type='gain', figsize=(10, 15))"
   ]
  },
  {
   "cell_type": "markdown",
   "metadata": {},
   "source": [
    " ### Retrain model using optimal feature set and parameter"
   ]
  },
  {
   "cell_type": "code",
   "execution_count": 401,
   "metadata": {
    "scrolled": false
   },
   "outputs": [],
   "source": [
    "washing_set_re = ['consumption', 'visibility', 'temperature', 'humidity', 'humidex',\n",
    "                 'windchill', 'wind', 'pressure', 'hour', 'minute', \n",
    "                 'hour_cos', 'time', 'time_sin', 'time_cos', 'hourly_avg',\n",
    "                 'hourly_max', 'hourly_min', 'hourly_std', 'hourly_diff',\n",
    "                 'half_hourly_avg', 'half_hourly_max', 'half_hourly_min',\n",
    "                 'half_hourly_std', 'half_hourly_diff', 'WeatherPCA1', 'WeatherPCA2',\n",
    "                 'WeatherPCA3', 'consumption_last1min', 'consumption_last2min',\n",
    "                 'consumption_last3min', 'consumption_last4min', 'consumption_last5min',\n",
    "                 'last_5min_avg', 'next_3min_avg', 'next_5min_avg']"
   ]
  },
  {
   "cell_type": "code",
   "execution_count": 405,
   "metadata": {
    "scrolled": false
   },
   "outputs": [
    {
     "data": {
      "text/plain": [
       "LGBMRegressor(bagging_fraction=0.8, bagging_freq=5, boosting_type='gbdt',\n",
       "              class_weight=None, colsample_bytree=1.0, feature_fraction=0.8,\n",
       "              importance_type='split', lambda_l1=0.1, lambda_l2=0.1,\n",
       "              learning_rate=0.01, max_bin=250, max_depth=30,\n",
       "              min_child_samples=20, min_child_weight=0.001, min_data_in_leaf=25,\n",
       "              min_split_gain=0.0, min_sum_hessian_in_leaf=15,\n",
       "              n_estimators=15000, n_jobs=-1, num_leaves=200,\n",
       "              objective='regression', random_state=None, reg_alpha=0.0,\n",
       "              reg_lambda=0.0, silent=True, subsample=1.0,\n",
       "              subsample_for_bin=200000, subsample_freq=0)"
      ]
     },
     "execution_count": 405,
     "metadata": {},
     "output_type": "execute_result"
    }
   ],
   "source": [
    "param_w_re ={'objective':'regression', \n",
    "               'num_leaves': 200, \n",
    "               'min_sum_hessian_in_leaf': 15, \n",
    "               'min_data_in_leaf': 25, 'max_depth':30, \n",
    "               'max_bin': 250, 'learning_rate': 0.01, \n",
    "               'lambda_l2': 0.1, 'lambda_l1': 0.1, \n",
    "               'feature_fraction': 0.8, 'bagging_freq': 5, \n",
    "               'bagging_fraction': 0.8}\n",
    "\n",
    "reg_w_re = lgb.LGBMRegressor(**param_w_re, n_estimators=15000)\n",
    "reg_w_re.fit(train[washing_set_re].values, train['washing_machine'].values)"
   ]
  },
  {
   "cell_type": "code",
   "execution_count": 402,
   "metadata": {
    "scrolled": false
   },
   "outputs": [],
   "source": [
    "freezer_set_re = ['consumption', 'visibility', 'temperature', 'humidity', 'humidex',\n",
    "                 'windchill', 'wind', 'pressure', 'hour', 'minute', 'month', 'dayofweek',\n",
    "                 'hour_sin', 'hour_cos', 'minute_cos',\n",
    "                 'time', 'time_sin', 'time_cos', 'hourly_avg', 'hourly_max',\n",
    "                 'hourly_min', 'hourly_std', 'hourly_diff', 'half_hourly_avg',\n",
    "                 'half_hourly_max', 'half_hourly_min', 'half_hourly_std',\n",
    "                 'half_hourly_diff', 'WeatherPCA1', 'WeatherPCA2', 'WeatherPCA3',\n",
    "                 'consumption_last1min', 'consumption_last2min', 'consumption_last3min',\n",
    "                 'consumption_last4min', 'consumption_last5min', 'is_freezer_new1',\n",
    "                 'freezer_current_new1', 'next_3min_avg', 'next_5min_avg']"
   ]
  },
  {
   "cell_type": "code",
   "execution_count": 406,
   "metadata": {
    "scrolled": false
   },
   "outputs": [
    {
     "data": {
      "text/plain": [
       "LGBMRegressor(bagging_fraction=0.8, bagging_freq=5, boosting_type='gbdt',\n",
       "              class_weight=None, colsample_bytree=1.0, feature_fraction=0.8,\n",
       "              importance_type='split', lambda_l1=0.5, lambda_l2=0.1,\n",
       "              learning_rate=0.01, max_bin=200, max_depth=30,\n",
       "              min_child_samples=20, min_child_weight=0.001, min_data_in_leaf=25,\n",
       "              min_split_gain=0.0, min_sum_hessian_in_leaf=10,\n",
       "              n_estimators=15000, n_jobs=-1, num_leaves=250,\n",
       "              objective='regression', random_state=None, reg_alpha=0.0,\n",
       "              reg_lambda=0.0, silent=True, subsample=1.0,\n",
       "              subsample_for_bin=200000, subsample_freq=0)"
      ]
     },
     "execution_count": 406,
     "metadata": {},
     "output_type": "execute_result"
    }
   ],
   "source": [
    "param_f_re ={'objective':'regression', \n",
    "               'num_leaves': 250, \n",
    "               'min_sum_hessian_in_leaf': 10, \n",
    "               'min_data_in_leaf': 25, 'max_depth':30, \n",
    "               'max_bin': 200, 'learning_rate': 0.01, \n",
    "               'lambda_l2': 0.1, 'lambda_l1': 0.5, \n",
    "               'feature_fraction': 0.8, 'bagging_freq': 5, \n",
    "               'bagging_fraction': 0.8}\n",
    "\n",
    "reg_f_re = lgb.LGBMRegressor(**param_f_re, n_estimators=15000)\n",
    "reg_f_re.fit(train[freezer_set_re].values, train['fridge_freezer'].values)"
   ]
  },
  {
   "cell_type": "code",
   "execution_count": 403,
   "metadata": {
    "scrolled": false
   },
   "outputs": [],
   "source": [
    "TV_set_re = ['consumption', 'visibility', 'temperature', 'humidity', 'humidex',\n",
    "            'windchill', 'wind', 'pressure', 'hour', 'minute', 'month', 'dayofweek',\n",
    "            'hour_sin',\n",
    "            'hour_cos', 'time', 'time_sin', 'time_cos', 'hourly_avg', 'hourly_max',\n",
    "            'hourly_min', 'hourly_std', 'hourly_diff', 'half_hourly_avg',\n",
    "            'half_hourly_max', 'half_hourly_min', 'half_hourly_std',\n",
    "            'half_hourly_diff', 'WeatherPCA1', 'WeatherPCA2', 'WeatherPCA3',\n",
    "            'consumption_last1min',\n",
    "            'consumption_last2min', 'consumption_last3min', 'consumption_last5min',\n",
    "            'last_5min_avg', 'last_3min_avg', 'next_3min_avg', 'next_5min_avg']"
   ]
  },
  {
   "cell_type": "code",
   "execution_count": 407,
   "metadata": {
    "scrolled": false
   },
   "outputs": [
    {
     "data": {
      "text/plain": [
       "LGBMRegressor(bagging_fraction=0.8, bagging_freq=5, boosting_type='gbdt',\n",
       "              class_weight=None, colsample_bytree=1.0, feature_fraction=0.8,\n",
       "              importance_type='split', lambda_l1=0.1, lambda_l2=0.1,\n",
       "              learning_rate=0.005, max_bin=250, max_depth=25,\n",
       "              min_child_samples=20, min_child_weight=0.001, min_data_in_leaf=25,\n",
       "              min_split_gain=0.0, min_sum_hessian_in_leaf=10,\n",
       "              n_estimators=15000, n_jobs=-1, num_leaves=200,\n",
       "              objective='regression', random_state=None, reg_alpha=0.0,\n",
       "              reg_lambda=0.0, silent=True, subsample=1.0,\n",
       "              subsample_for_bin=200000, subsample_freq=0)"
      ]
     },
     "execution_count": 407,
     "metadata": {},
     "output_type": "execute_result"
    }
   ],
   "source": [
    "param_t_re ={'objective':'regression', \n",
    "               'num_leaves': 200, \n",
    "               'min_sum_hessian_in_leaf': 10, \n",
    "               'min_data_in_leaf': 25, 'max_depth':25, \n",
    "               'max_bin': 250, 'learning_rate': 0.005, \n",
    "               'lambda_l2': 0.1, 'lambda_l1': 0.1, \n",
    "               'feature_fraction': 0.8, 'bagging_freq': 5, \n",
    "               'bagging_fraction': 0.8}\n",
    "\n",
    "reg_t_re = lgb.LGBMRegressor(**param_t_re, n_estimators=15000)\n",
    "reg_t_re.fit(train[TV_set_re].values, train['TV'].values)"
   ]
  },
  {
   "cell_type": "code",
   "execution_count": 404,
   "metadata": {
    "scrolled": false
   },
   "outputs": [],
   "source": [
    "kettle_set_re = ['consumption', 'visibility', 'temperature', 'humidity', 'humidex',\n",
    "                'windchill', 'wind', 'pressure', 'minute', \n",
    "                'month',  \n",
    "                'minute_sin', 'minute_cos', 'time', 'time_sin', 'time_cos',\n",
    "                'hourly_avg', 'hourly_max', 'hourly_min', 'hourly_std', 'hourly_diff',\n",
    "                'half_hourly_avg', 'half_hourly_max', 'half_hourly_min','half_hourly_std', 'half_hourly_diff', \n",
    "                'WeatherPCA1', 'WeatherPCA2','WeatherPCA3', \n",
    "                'consumption_last1min', 'consumption_last2min', 'consumption_last3min',\n",
    "                'consumption_last4min', 'consumption_last5min',\n",
    "                'last_5min_avg', 'last_3min_avg', 'next_3min_avg', 'next_5min_avg']"
   ]
  },
  {
   "cell_type": "code",
   "execution_count": 408,
   "metadata": {
    "scrolled": false
   },
   "outputs": [
    {
     "data": {
      "text/plain": [
       "LGBMRegressor(bagging_fraction=0.8, bagging_freq=5, boosting_type='gbdt',\n",
       "              class_weight=None, colsample_bytree=1.0, feature_fraction=0.8,\n",
       "              importance_type='split', lambda_l1=0.1, lambda_l2=0.1,\n",
       "              learning_rate=0.01, max_bin=255, max_depth=30,\n",
       "              min_child_samples=20, min_child_weight=0.001, min_data_in_leaf=25,\n",
       "              min_split_gain=0.0, min_sum_hessian_in_leaf=15,\n",
       "              n_estimators=15000, n_jobs=-1, num_leaves=250,\n",
       "              objective='regression', random_state=None, reg_alpha=0.0,\n",
       "              reg_lambda=0.0, silent=True, subsample=1.0,\n",
       "              subsample_for_bin=200000, subsample_freq=0)"
      ]
     },
     "execution_count": 408,
     "metadata": {},
     "output_type": "execute_result"
    }
   ],
   "source": [
    "param_k_re ={'objective':'regression', \n",
    "               'num_leaves': 250, \n",
    "               'min_sum_hessian_in_leaf': 15, \n",
    "               'min_data_in_leaf': 25, 'max_depth':30, \n",
    "               'max_bin': 255, 'learning_rate': 0.01, \n",
    "               'lambda_l2': 0.1, 'lambda_l1': 0.1, \n",
    "               'feature_fraction': 0.8, 'bagging_freq': 5, \n",
    "               'bagging_fraction': 0.8}\n",
    "\n",
    "reg_k_re = lgb.LGBMRegressor(**param_k_re, n_estimators=15000)\n",
    "reg_k_re.fit(train[kettle_set_re].values, train['kettle'].values)"
   ]
  },
  {
   "cell_type": "code",
   "execution_count": 412,
   "metadata": {
    "scrolled": false
   },
   "outputs": [],
   "source": [
    "# Prediction on test data\n",
    "y_pred_re = X_test[['time_step']]"
   ]
  },
  {
   "cell_type": "code",
   "execution_count": null,
   "metadata": {
    "scrolled": false
   },
   "outputs": [],
   "source": [
    "y_pred_re['washing_machine'] = reg_w_re.predict(X_test[washing_set_re].values)\n",
    "y_pred_re['fridge_freezer'] = reg_f_re.predict(X_test[freezer_set_re].values)\n",
    "y_pred_re['TV'] = reg_t_re.predict(X_test[TV_set_re].values)\n",
    "y_pred_re['kettle'] = reg_k_re.predict(X_test[kettle_set_re].values)\n",
    "\n",
    "y_pred_re1 = y_pred_re[y_pred_re[y_pred_re.columns[1:]] >= 0].fillna(0)\n",
    "y_pred_re1['time_step'] = y_pred_re['time_step']"
   ]
  },
  {
   "cell_type": "code",
   "execution_count": null,
   "metadata": {
    "scrolled": false
   },
   "outputs": [],
   "source": [
    "y_pred_re1 = y_pred_re[y_pred_re[y_pred_re.columns[1:]] >= 0].fillna(0)\n",
    "y_pred_re1['time_step'] = y_pred_re['time_step']"
   ]
  },
  {
   "cell_type": "code",
   "execution_count": null,
   "metadata": {
    "scrolled": false
   },
   "outputs": [],
   "source": [
    "y_pred_re1.to_csv(\"y_pred_lgb_re.csv\",index=False)"
   ]
  },
  {
   "cell_type": "code",
   "execution_count": null,
   "metadata": {
    "scrolled": false
   },
   "outputs": [],
   "source": [
    "train.columns"
   ]
  },
  {
   "cell_type": "markdown",
   "metadata": {},
   "source": [
    "## Combination of methods (general selection)"
   ]
  },
  {
   "cell_type": "markdown",
   "metadata": {},
   "source": [
    "### ELM vs. XGB"
   ]
  },
  {
   "cell_type": "markdown",
   "metadata": {},
   "source": [
    "**Using different feature sets and models for different appliances**.  \n",
    "Models to choose from: ELM, XGBoost, Step-wise function with windows  \n",
    "Metric: rmse(col_true, col_pred)  \n",
    "Goal: to minimize the RMSE for each appliance"
   ]
  },
  {
   "cell_type": "code",
   "execution_count": null,
   "metadata": {
    "scrolled": false
   },
   "outputs": [],
   "source": [
    "X_train, X_valid, Y_train, Y_valid = train_test_split(train, train[y_vars], test_size=0.0001, random_state=51)\n",
    "print('Train size: {train}, Validation size: {test}'.format(train=X_train.shape[0], test=Y_valid.shape[0]))"
   ]
  },
  {
   "cell_type": "markdown",
   "metadata": {},
   "source": [
    "#### Washing_machine"
   ]
  },
  {
   "cell_type": "markdown",
   "metadata": {},
   "source": [
    "ELM: "
   ]
  },
  {
   "cell_type": "code",
   "execution_count": null,
   "metadata": {
    "scrolled": false
   },
   "outputs": [],
   "source": [
    "X_vars_washing_elm = X_vars_base + X_vars_day + X_vars_time + X_vars_hourly\n",
    "\n",
    "x_train_elm = X_train[['time_step']+X_vars_washing_elm]\n",
    "y_train = Y_train[y_vars]\n",
    "\n",
    "x_scaled_elm = x_train_elm[x_train_elm.columns[1:]].values\n",
    "y_scaled = y_train.values\n",
    "\n",
    "y_valid1 = Y_valid['washing_machine'].values\n",
    "\n",
    "# ELM Regressor\n",
    "elmr1 = ELMRegressor(random_state=24, n_hidden=256, activation_func='multiquadric', alpha=0.7)\n",
    "elmr1.fit(x_scaled_elm, y_scaled[:,0])\n",
    "y_pred1_elm = elmr1.predict(X_valid[X_vars_washing_elm])"
   ]
  },
  {
   "cell_type": "markdown",
   "metadata": {},
   "source": [
    "XGB: "
   ]
  },
  {
   "cell_type": "code",
   "execution_count": null,
   "metadata": {
    "scrolled": false
   },
   "outputs": [],
   "source": [
    "X_vars_washing_xgb = X_vars_base + X_vars_5mins + X_vars_day + X_vars_hour1 + X_vars_hour2 + X_vars_minute + X_vars_time + X_vars_hourly + X_vars_half_hourly + X_vars_weather1 + X_vars_weather2 + X_vars_window1 + X_vars_window2 + X_vars_window3"
   ]
  },
  {
   "cell_type": "code",
   "execution_count": null,
   "metadata": {
    "scrolled": false
   },
   "outputs": [],
   "source": [
    "x_train_xgb = X_train[['time_step']+X_vars_washing_xgb]\n",
    "y_train = Y_train[y_vars]"
   ]
  },
  {
   "cell_type": "code",
   "execution_count": null,
   "metadata": {
    "scrolled": false
   },
   "outputs": [],
   "source": [
    "len(x_train_xgb), len(y_train)"
   ]
  },
  {
   "cell_type": "code",
   "execution_count": null,
   "metadata": {
    "scrolled": false
   },
   "outputs": [],
   "source": [
    "x_scaled_xgb = x_train_xgb[x_train_xgb.columns[1:]].values\n",
    "y_scaled = y_train.values"
   ]
  },
  {
   "cell_type": "code",
   "execution_count": null,
   "metadata": {
    "scrolled": false
   },
   "outputs": [],
   "source": [
    "# XGBoost\n",
    "params = {'objective':'reg:squarederror',\n",
    "                    'max_depth':5,\n",
    "                    'n_estimators':500,\n",
    "                    'n_jobs':4,\n",
    "                    'min_child_weight':8\n",
    "                    }\n",
    "clf1 = xgb.XGBRegressor(**params)\n",
    "clf1.fit(x_scaled_xgb, y_scaled[:,0])\n",
    "y_pred1_xgb = clf1.predict(X_valid[X_vars_washing_xgb].values)"
   ]
  },
  {
   "cell_type": "code",
   "execution_count": null,
   "metadata": {
    "scrolled": false
   },
   "outputs": [],
   "source": [
    "# Compare results\n",
    "print(rmse(y_valid1, y_pred1_elm))\n",
    "print(rmse(y_valid1, y_pred1_xgb))"
   ]
  },
  {
   "cell_type": "code",
   "execution_count": null,
   "metadata": {
    "scrolled": false
   },
   "outputs": [],
   "source": [
    "# Feature selection\n",
    "params = {'objective':'reg:squarederror',\n",
    "                    'max_depth':5,\n",
    "                    'n_estimators':100,\n",
    "                    'n_jobs':4,\n",
    "                    'min_child_weight': 7\n",
    "                    }\n",
    "clf1 = xgb.XGBRegressor(**params\n",
    "#scr = preprocessing.StandardScaler()\n",
    "#x_scaled = scr.fit_transform(x_train[x_train.columns[1:]])\n",
    "\n",
    "rfecv = RFECV(estimator=clf1, step=1, cv=4, scoring='neg_mean_squared_error',verbose = True)   #5-fold cross-validation\n",
    "rfecv = rfecv.fit(x_scaled_xgb, y_scaled[:,0])\n",
    "\n",
    "print('Optimal number of features :', rfecv.n_features_)\n",
    "print('Best features :', x_train_xgb[x_train_xgb.columns[1:]].columns[rfecv.support_])"
   ]
  },
  {
   "cell_type": "code",
   "execution_count": null,
   "metadata": {
    "scrolled": false
   },
   "outputs": [],
   "source": [
    "# RFECV selected optimal features\n",
    "washing_set = ['consumption', 'consumption_last1min', 'consumption_last2min',\n",
    "       'consumption_last3min', 'consumption_last4min', 'consumption_last5min',\n",
    "       'isweekend', 'day_6', 'hour_1', 'hour_9', 'hour_10', 'hour_14',\n",
    "       'hour_15', 'hour_21', 'hour_23', 'hour_cos', 'minute_sin', 'minute_cos',\n",
    "       'time_sin', 'time_cos', 'hourly_avg', 'hourly_std', 'hourly_max',\n",
    "       'hourly_min', 'half_hourly_avg', 'half_hourly_std', 'half_hourly_max',\n",
    "       'half_hourly_min', 'visibility', 'temperature', 'humidity', 'humidex',\n",
    "       'windchill', 'wind', 'pressure', 'WeatherPCA1', 'WeatherPCA2',\n",
    "       'WeatherPCA3']"
   ]
  },
  {
   "cell_type": "code",
   "execution_count": null,
   "metadata": {
    "scrolled": false
   },
   "outputs": [],
   "source": [
    "y_train_washing = train[['washing_machine']]\n",
    "y_train_washing_scaled = y_train_washing.values\n",
    "\n",
    "X_train_washing = train[['time_step'] + washing_set]\n",
    "X_train_washing_scaled = X_train_washing[X_train_washing.columns[1:]].values\n",
    "\n",
    "X_train_washing = train_notnull[['time_step'] + washing_set]\n",
    "X_train_washing_scaled = X_train_washing[X_train_washing.columns[1:]].values"
   ]
  },
  {
   "cell_type": "code",
   "execution_count": null,
   "metadata": {
    "scrolled": false
   },
   "outputs": [],
   "source": [
    "# Hyperparameter selection\n",
    "param1 ={'objective':'reg:squarederror',\n",
    "                    'max_depth':5,\n",
    "                    'n_estimators':500,\n",
    "                    'n_jobs':4,\n",
    "                     'min_child_weight': 7\n",
    "                    }\n",
    "\n",
    "reg1 = xgb.XGBRegressor(**param1)\n",
    "        \n",
    "model_cv(reg1, X_train_washing_scaled, y_train_scaled)"
   ]
  },
  {
   "cell_type": "markdown",
   "metadata": {},
   "source": [
    "#### Freezer"
   ]
  },
  {
   "cell_type": "markdown",
   "metadata": {},
   "source": [
    "ELM:"
   ]
  },
  {
   "cell_type": "code",
   "execution_count": null,
   "metadata": {
    "scrolled": false
   },
   "outputs": [],
   "source": [
    "X_vars_freezer_elm = X_vars_base + X_vars_day + X_vars_hour1 + X_vars_time + X_vars_hourly\n",
    "\n",
    "x_train_elm = X_train[['time_step']+X_vars_freezer_elm]\n",
    "y_train = Y_train[y_vars]\n",
    "\n",
    "x_scaled_elm = x_train_elm[x_train_elm.columns[1:]].values\n",
    "y_scaled = y_train.values\n",
    "\n",
    "y_valid2 = Y_valid['fridge_freezer'].values\n",
    "\n",
    "# ELM Regressor\n",
    "elmr2 = ELMRegressor(random_state=24, n_hidden=32, activation_func='multiquadric', alpha=0.7)\n",
    "elmr2.fit(x_scaled_elm, y_scaled[:,1])\n",
    "y_pred2_elm = elmr2.predict(X_valid[X_vars_freezer_elm])"
   ]
  },
  {
   "cell_type": "markdown",
   "metadata": {},
   "source": [
    "XGB:"
   ]
  },
  {
   "cell_type": "markdown",
   "metadata": {},
   "source": [
    "Best param: 'max_depth':6, 'n_estimators':1000, 'n_jobs':4, 'min_child_weight':8\n",
    "\n",
    "all features: X_vars_freezer_elm"
   ]
  },
  {
   "cell_type": "code",
   "execution_count": null,
   "metadata": {
    "scrolled": false
   },
   "outputs": [],
   "source": [
    "X_vars_freezer_xgb = X_vars_freezer_elm\n",
    "\n",
    "x_train_xgb = X_train[['time_step']+X_vars_freezer_xgb]\n",
    "y_train = Y_train[y_vars]\n",
    "\n",
    "x_scaled_xgb = x_train_xgb[x_train_xgb.columns[1:]].values\n",
    "y_scaled = y_train.values\n",
    "\n",
    "# XGBoost\n",
    "params = {'objective':'reg:squarederror',\n",
    "                    'max_depth':6,\n",
    "                    'n_estimators':1000,\n",
    "                    'n_jobs':4,\n",
    "                    'min_child_weight':8\n",
    "                    }\n",
    "clf2 = xgb.XGBRegressor(**params)\n",
    "clf2.fit(x_scaled_xgb, y_scaled[:,1])\n",
    "y_pred2_xgb = clf2.predict(X_valid[X_vars_freezer_xgb].values)\n",
    "\n",
    "print(rmse(y_valid2, y_pred2_elm))\n",
    "print(rmse(y_valid2, y_pred2_xgb))"
   ]
  },
  {
   "cell_type": "markdown",
   "metadata": {},
   "source": [
    "'max_depth':5, 'n_estimators':100, 'n_jobs':4, 'min_child_weight': 7\n",
    "\n",
    "RFECV selected features: freezer_set"
   ]
  },
  {
   "cell_type": "code",
   "execution_count": null,
   "metadata": {
    "scrolled": false
   },
   "outputs": [],
   "source": [
    "params = {'objective':'reg:squarederror',\n",
    "                    'max_depth':5,\n",
    "                    'n_estimators':100,\n",
    "                    'n_jobs':4,\n",
    "                    'min_child_weight': 7\n",
    "                    }\n",
    "clf2 = xgb.XGBRegressor(**params)\n",
    "#scr = preprocessing.StandardScaler()\n",
    "#x_scaled = scr.fit_transform(x_train[x_train.columns[1:]])\n",
    "\n",
    "rfecv = RFECV(estimator=clf2, step=1, cv=4, scoring='neg_mean_squared_error',verbose = True)   #5-fold cross-validation\n",
    "rfecv = rfecv.fit(x_scaled_xgb, y_scaled[:,1])\n",
    "\n",
    "print('Optimal number of features :', rfecv.n_features_)\n",
    "print('Best features :', x_train_xgb[x_train_xgb.columns[1:]].columns[rfecv.support_])"
   ]
  },
  {
   "cell_type": "code",
   "execution_count": null,
   "metadata": {
    "scrolled": false
   },
   "outputs": [],
   "source": [
    "freezer_set = ['consumption', 'consumption_last1min', 'consumption_last2min',\n",
    "       'consumption_last3min', 'consumption_last4min', 'consumption_last5min',\n",
    "       'day_0', 'day_2', 'day_3', 'day_4', 'hour_0', 'hour_4', 'hour_5',\n",
    "       'hour_7', 'hour_9', 'hour_10', 'hour_11', 'hour_12', 'hour_14',\n",
    "       'hour_17', 'hour_18', 'hour_22', 'hour_23', 'hour_sin', 'hour_cos',\n",
    "       'minute_sin', 'time_sin', 'time_cos', 'hourly_avg', 'hourly_std',\n",
    "       'hourly_max', 'hourly_min', 'half_hourly_avg', 'half_hourly_std',\n",
    "       'half_hourly_max', 'half_hourly_min', 'visibility', 'temperature',\n",
    "       'humidity', 'humidex', 'windchill', 'wind', 'pressure', 'WeatherPCA1',\n",
    "       'WeatherPCA2', 'WeatherPCA3', 'washing_current1', 'washing_current2']"
   ]
  },
  {
   "cell_type": "code",
   "execution_count": null,
   "metadata": {
    "scrolled": false
   },
   "outputs": [],
   "source": [
    "y_train_freezer = X_train[['fridge_freezer']]\n",
    "y_train_freezer_scaled = y_train_freezer.values\n",
    "\n",
    "X_train_freezer = X_train[['time_step'] + freezer_set]\n",
    "X_train_freezer_scaled = X_train_freezer[X_train_freezer.columns[1:]].values"
   ]
  },
  {
   "cell_type": "code",
   "execution_count": null,
   "metadata": {
    "scrolled": false
   },
   "outputs": [],
   "source": [
    "# Hyperparameter selection\n",
    "param ={'objective':'reg:squarederror',\n",
    "                    'max_depth':5,\n",
    "                    'n_estimators':6000,\n",
    "                    'n_jobs':4,\n",
    "                     'min_child_weight': 5\n",
    "                    }\n",
    "\n",
    "reg6 = xgb.XGBRegressor(**param)\n",
    "        \n",
    "model_cv(reg6, X_train_freezer_scaled, y_train_freezer_scaled)"
   ]
  },
  {
   "cell_type": "markdown",
   "metadata": {},
   "source": [
    "#### TV"
   ]
  },
  {
   "cell_type": "markdown",
   "metadata": {},
   "source": [
    "ELM:"
   ]
  },
  {
   "cell_type": "code",
   "execution_count": null,
   "metadata": {
    "scrolled": false
   },
   "outputs": [],
   "source": [
    "X_vars_TV_elm = X_vars_base + X_vars_day + X_vars_hour1 + X_vars_time + X_vars_hourly\n",
    "\n",
    "x_train_elm = X_train[['time_step']+X_vars_TV_elm]\n",
    "y_train = Y_train[y_vars]\n",
    "\n",
    "x_scaled_elm = x_train_elm[x_train_elm.columns[1:]].values\n",
    "y_scaled = y_train.values\n",
    "\n",
    "y_valid3 = Y_valid['TV'].values\n",
    "\n",
    "# ELM Regressor\n",
    "elmr3 = ELMRegressor(random_state=24, n_hidden=32, activation_func='multiquadric', alpha=0.7)\n",
    "elmr3.fit(x_scaled_elm, y_scaled[:,2])\n",
    "y_pred3_elm = elmr3.predict(X_valid[X_vars_TV_elm])"
   ]
  },
  {
   "cell_type": "markdown",
   "metadata": {},
   "source": [
    "XGB:"
   ]
  },
  {
   "cell_type": "code",
   "execution_count": null,
   "metadata": {
    "scrolled": false
   },
   "outputs": [],
   "source": [
    "X_vars_TV_xgb = X_vars_base + X_vars_5mins + X_vars_day + X_vars_hour1 + X_vars_hour2 + X_vars_minute + X_vars_time + X_vars_hourly + X_vars_half_hourly + X_vars_weather1 + X_vars_weather2 + X_vars_window1 + X_vars_window2 + X_vars_window3\n",
    "\n",
    "x_train_xgb = X_train[['time_step']+X_vars_TV_xgb]\n",
    "y_train = Y_train[y_vars]\n",
    "\n",
    "x_scaled_xgb = x_train_xgb[x_train_xgb.columns[1:]].values\n",
    "y_scaled = y_train.values\n",
    "\n",
    "# XGBoost\n",
    "params = {'objective':'reg:squarederror',\n",
    "                    'max_depth':6,\n",
    "                    'n_estimators':1000,\n",
    "                    'n_jobs':4,\n",
    "                    'min_child_weight':8\n",
    "                    }\n",
    "\n",
    "clf3 = xgb.XGBRegressor(**params)\n",
    "clf3.fit(x_scaled_xgb, y_scaled[:,2])\n",
    "y_pred3_xgb = clf3.predict(X_valid[X_vars_TV_xgb].values)\n",
    "\n",
    "print(rmse(y_valid3, y_pred3_elm))\n",
    "print(rmse(y_valid3, y_pred3_xgb))"
   ]
  },
  {
   "cell_type": "code",
   "execution_count": null,
   "metadata": {
    "scrolled": false
   },
   "outputs": [],
   "source": [
    "# Feature selection\n",
    "params = {'objective':'reg:squarederror',\n",
    "                    'max_depth':5,\n",
    "                    'n_estimators':100,\n",
    "                    'n_jobs':4,\n",
    "                    'min_child_weight': 7\n",
    "                    }\n",
    "clf3 = xgb.XGBRegressor(**params)\n",
    "#scr = preprocessing.StandardScaler()\n",
    "#x_scaled = scr.fit_transform(x_train[x_train.columns[1:]])\n",
    "\n",
    "rfecv = RFECV(estimator=clf3, step=1, cv=4, scoring='neg_mean_squared_error',verbose = True)   #5-fold cross-validation\n",
    "rfecv = rfecv.fit(x_scaled_xgb, y_scaled[:,2])\n",
    "\n",
    "print('Optimal number of features :', rfecv.n_features_)\n",
    "print('Best features :', x_train_xgb[x_train_xgb.columns[1:]].columns[rfecv.support_])"
   ]
  },
  {
   "cell_type": "code",
   "execution_count": null,
   "metadata": {
    "scrolled": false
   },
   "outputs": [],
   "source": [
    "TV_set = ['consumption', 'consumption_last1min', 'consumption_last2min',\n",
    "       'consumption_last4min', 'day_0', 'day_2', 'day_3', 'hour_0', 'hour_3',\n",
    "       'hour_9', 'hour_12', 'hour_15', 'hour_18', 'hour_19', 'hour_22',\n",
    "       'hour_23', 'hour_sin', 'hour_cos', 'time_sin', 'time_cos', 'hourly_avg',\n",
    "       'hourly_std', 'hourly_max', 'hourly_min', 'half_hourly_avg',\n",
    "       'half_hourly_std', 'half_hourly_max', 'half_hourly_min', 'visibility',\n",
    "       'temperature', 'humidity', 'humidex', 'windchill', 'wind', 'pressure',\n",
    "       'WeatherPCA1', 'WeatherPCA2', 'WeatherPCA3', 'washing_current1',\n",
    "       'washing_current3']"
   ]
  },
  {
   "cell_type": "markdown",
   "metadata": {},
   "source": [
    "#### Kettle"
   ]
  },
  {
   "cell_type": "markdown",
   "metadata": {},
   "source": [
    "ELM:"
   ]
  },
  {
   "cell_type": "code",
   "execution_count": null,
   "metadata": {
    "scrolled": false
   },
   "outputs": [],
   "source": [
    "X_vars_washing_elm = X_vars_base + X_vars_day + X_vars_time + X_vars_hourly\n",
    "\n",
    "x_train_elm = X_train[['time_step']+X_vars_washing_elm]\n",
    "y_train = Y_train[y_vars]\n",
    "\n",
    "x_scaled_elm = x_train_elm[x_train_elm.columns[1:]].values\n",
    "y_scaled = y_train.values\n",
    "\n",
    "y_valid1 = Y_valid['washing_machine'].values\n",
    "\n",
    "# ELM Regressor\n",
    "elmr1 = ELMRegressor(random_state=24, n_hidden=256, activation_func='multiquadric', alpha=0.7)\n",
    "elmr1.fit(x_scaled_elm, y_scaled[:,0])\n",
    "y_pred1_elm = elmr1.predict(X_valid[X_vars_washing_elm])"
   ]
  },
  {
   "cell_type": "markdown",
   "metadata": {},
   "source": [
    "XGB:"
   ]
  },
  {
   "cell_type": "code",
   "execution_count": null,
   "metadata": {
    "scrolled": false
   },
   "outputs": [],
   "source": [
    "X_vars_washing_xgb = X_vars_base + X_vars_5mins + X_vars_day + X_vars_hour1 + X_vars_hour2 + X_vars_minute + X_vars_time + X_vars_hourly + X_vars_half_hourly + X_vars_weather1 + X_vars_weather2 + X_vars_window1 + X_vars_window2 + X_vars_window3\n",
    "\n",
    "x_train_xgb = X_train[['time_step']+X_vars_washing_xgb]\n",
    "y_train = Y_train[y_vars]\n",
    "\n",
    "x_scaled_xgb = x_train_xgb[x_train_xgb.columns[1:]].values\n",
    "y_scaled = y_train.values"
   ]
  },
  {
   "cell_type": "markdown",
   "metadata": {},
   "source": [
    "'max_depth':5, 'n_estimators':500, 'n_jobs':4, 'min_child_weight':8\n",
    "\n",
    "All washing xgb features"
   ]
  },
  {
   "cell_type": "code",
   "execution_count": null,
   "metadata": {
    "scrolled": false
   },
   "outputs": [],
   "source": [
    "# XGBoost\n",
    "params = {'objective':'reg:squarederror',\n",
    "                    'max_depth':5,\n",
    "                    'n_estimators':500,\n",
    "                    'n_jobs':4,\n",
    "                    'min_child_weight':8\n",
    "                    }\n",
    "clf1 = xgb.XGBRegressor(**params)\n",
    "clf1.fit(x_scaled_xgb, y_scaled[:,0])\n",
    "y_pred1_xgb = clf1.predict(X_valid[X_vars_washing_xgb].values)"
   ]
  },
  {
   "cell_type": "code",
   "execution_count": null,
   "metadata": {
    "scrolled": false
   },
   "outputs": [],
   "source": [
    "print(rmse(y_valid1, y_pred1_elm))\n",
    "print(rmse(y_valid1, y_pred1_xgb))"
   ]
  },
  {
   "cell_type": "code",
   "execution_count": null,
   "metadata": {
    "scrolled": false
   },
   "outputs": [],
   "source": [
    "params = {'objective':'reg:squarederror',\n",
    "                    'max_depth':5,\n",
    "                    'n_estimators':100,\n",
    "                    'n_jobs':4,\n",
    "                    'min_child_weight': 5\n",
    "                    }\n",
    "clf4 = xgb.XGBRegressor(**params)\n",
    "#scr = preprocessing.StandardScaler()\n",
    "#x_scaled = scr.fit_transform(x_train[x_train.columns[1:]])\n",
    "\n",
    "rfecv = RFECV(estimator=clf4, step=1, cv=4, scoring='neg_mean_squared_error',verbose = True)   #5-fold cross-validation\n",
    "rfecv = rfecv.fit(x_scaled_xgb, y_scaled[:,3])\n",
    "\n",
    "print('Optimal number of features :', rfecv.n_features_)\n",
    "print('Best features :', x_train_xgb[x_train_xgb.columns[1:]].columns[rfecv.support_])"
   ]
  },
  {
   "cell_type": "code",
   "execution_count": null,
   "metadata": {
    "scrolled": false
   },
   "outputs": [],
   "source": [
    "kettle_set = ['consumption', 'consumption_last1min', 'consumption_last2min',\n",
    "       'consumption_last3min', 'consumption_last4min', 'consumption_last5min',\n",
    "       'isweekend', 'day_0', 'day_1', 'day_5', 'day_6', 'hour_6', 'hour_8',\n",
    "       'hour_13', 'hour_15', 'hour_20', 'hour_sin', 'hour_cos', 'minute_sin',\n",
    "       'minute_cos', 'time_sin', 'time_cos', 'hourly_avg', 'hourly_std',\n",
    "       'hourly_max', 'hourly_min', 'half_hourly_avg', 'half_hourly_std',\n",
    "       'half_hourly_max', 'half_hourly_min', 'visibility', 'temperature',\n",
    "       'humidity', 'humidex', 'windchill', 'wind', 'pressure', 'WeatherPCA2',\n",
    "       'WeatherPCA3', 'is_kettle_2500', 'kettle_current1', 'washing_current1',\n",
    "       'is_kettle_2700', 'kettle_current2', 'washing_current2',\n",
    "       'washing_current3']"
   ]
  },
  {
   "cell_type": "code",
   "execution_count": null,
   "metadata": {
    "scrolled": false
   },
   "outputs": [],
   "source": [
    "y_train_kettle = train_notnull[['kettle']]\n",
    "y_train_kettle_scaled = y_train_kettle.values\n",
    "X_train_kettle = train_notnull[['time_step'] + kettle_set]\n",
    "X_train_kettle_scaled = X_train_kettle[X_train_kettle.columns[1:]].values"
   ]
  },
  {
   "cell_type": "code",
   "execution_count": null,
   "metadata": {
    "scrolled": false
   },
   "outputs": [],
   "source": [
    "param5 = {'objective':'reg:squarederror',\n",
    "                    'max_depth':6,\n",
    "                    'n_estimators':1000,\n",
    "                    'n_jobs':4,\n",
    "                     'min_child_weight': 8\n",
    "                    }\n",
    "\n",
    "reg5 = xgb.XGBRegressor(**param5)\n",
    "        \n",
    "model_cv(reg5, X_train_kettle_scaled, y_train_kettle_scaled)"
   ]
  },
  {
   "cell_type": "markdown",
   "metadata": {},
   "source": [
    "### XGB vs LGBM"
   ]
  },
  {
   "cell_type": "markdown",
   "metadata": {},
   "source": [
    " Fit XGB model using optimal feature set generated in section 5. Compare the performance of XGB and LGB."
   ]
  },
  {
   "cell_type": "markdown",
   "metadata": {},
   "source": [
    "*** XGB using lgbm optimized feature set ***"
   ]
  },
  {
   "cell_type": "code",
   "execution_count": null,
   "metadata": {
    "scrolled": false
   },
   "outputs": [],
   "source": [
    "# Perform train test split without shuffle to preserve continuity in time\n",
    "X_train,X_valid,y_train,y_valid = train_test_split(train[X_vars_full], train[Y_vars_full], test_size=0.2, shuffle=False)\n",
    "print('Train size: {train}, Validation size: {test}'.format(train=X_train.shape[0], test=X_valid.shape[0]))"
   ]
  },
  {
   "cell_type": "markdown",
   "metadata": {},
   "source": [
    "#### Washing machine"
   ]
  },
  {
   "cell_type": "code",
   "execution_count": null,
   "metadata": {
    "scrolled": false
   },
   "outputs": [],
   "source": [
    "paramw = {'objective':'reg:squarederror',\n",
    "                    'max_depth':6,\n",
    "                    'n_estimators':1000,\n",
    "                    'n_jobs':4,\n",
    "                    'min_child_weight':8\n",
    "                    }\n",
    "clf_w = xgb.XGBRegressor(**paramw)\n",
    "clf_w.fit(X_train[washing_set].values, y_train['washing_machine'].values)"
   ]
  },
  {
   "cell_type": "code",
   "execution_count": 256,
   "metadata": {
    "scrolled": false
   },
   "outputs": [],
   "source": [
    "y_pred_w = clf_w.predict(X_valid[washing_set].values)"
   ]
  },
  {
   "cell_type": "code",
   "execution_count": 257,
   "metadata": {
    "scrolled": true
   },
   "outputs": [
    {
     "name": "stdout",
     "output_type": "stream",
     "text": [
      "54.857348612281314\n"
     ]
    }
   ],
   "source": [
    "print(rmse1(y_valid['washing_machine'].values, y_pred_w))"
   ]
  },
  {
   "cell_type": "code",
   "execution_count": null,
   "metadata": {
    "scrolled": false
   },
   "outputs": [],
   "source": [
    "ax = xgb.plot_importance(clf_w)\n",
    "fig = ax.figure\n",
    "fig.set_size_inches(10, 15)"
   ]
  },
  {
   "cell_type": "code",
   "execution_count": 369,
   "metadata": {
    "scrolled": false
   },
   "outputs": [],
   "source": [
    "washing_set_2 = ['consumption', 'visibility', 'temperature', 'humidity', 'humidex',\n",
    "                 'windchill', 'wind', 'pressure', 'hour', 'minute', \n",
    "                 'hour_cos', 'time', 'time_sin', 'time_cos', 'hourly_avg',\n",
    "                 'hourly_max', 'hourly_min', 'hourly_std', 'hourly_diff',\n",
    "                 'half_hourly_avg', 'half_hourly_max', 'half_hourly_min',\n",
    "                 'half_hourly_std', 'half_hourly_diff', 'WeatherPCA1', 'WeatherPCA2',\n",
    "                 'WeatherPCA3', 'consumption_last1min', 'consumption_last2min',\n",
    "                 'consumption_last3min', 'consumption_last4min', 'consumption_last5min',\n",
    "                 'last_5min_avg', 'next_3min_avg', 'next_5min_avg', \n",
    "                 'consumption_next1min', 'consumption_next2min', 'consumption_next3min', \n",
    "                 'consumption_next4min', 'consumption_next5min', 'consumption_last5min_avg', 'consumption_last5min_std',\n",
    "                 'consumption_last5min_min', 'consumption_last5min_max',\n",
    "                 'consumption_last5min_diff', 'consumption_next5min_avg',\n",
    "                 'consumption_next5min_std', 'consumption_next5min_min',\n",
    "                 'consumption_next5min_max', 'consumption_next5min_diff']"
   ]
  },
  {
   "cell_type": "code",
   "execution_count": null,
   "metadata": {
    "scrolled": false
   },
   "outputs": [],
   "source": [
    "paramw = {'objective':'reg:squarederror',\n",
    "                    'max_depth':6,\n",
    "                    'n_estimators':1000,\n",
    "                    'n_jobs':4,\n",
    "                    'min_child_weight':8\n",
    "                    }\n",
    "clf_w_2 = xgb.XGBRegressor(**paramw)\n",
    "clf_w_2.fit(train[washing_set_2].values, train['washing_machine'].values)"
   ]
  },
  {
   "cell_type": "code",
   "execution_count": null,
   "metadata": {
    "scrolled": false
   },
   "outputs": [],
   "source": [
    "ax = xgb.plot_importance(clf_w_2)\n",
    "fig = ax.figure\n",
    "fig.set_size_inches(10, 15)"
   ]
  },
  {
   "cell_type": "code",
   "execution_count": null,
   "metadata": {
    "scrolled": false
   },
   "outputs": [],
   "source": [
    "y_pred_w_2 = clf_w_2.predict(X_valid[washing_set_2].values)"
   ]
  },
  {
   "cell_type": "code",
   "execution_count": null,
   "metadata": {
    "scrolled": false
   },
   "outputs": [],
   "source": [
    "print(rmse1(y_valid['washing_machine'].values, y_pred_w_2))"
   ]
  },
  {
   "cell_type": "markdown",
   "metadata": {},
   "source": [
    "#### Freezer"
   ]
  },
  {
   "cell_type": "code",
   "execution_count": null,
   "metadata": {
    "scrolled": false
   },
   "outputs": [],
   "source": [
    "paramf = {'objective':'reg:squarederror',\n",
    "                    'max_depth':6,\n",
    "                    'n_estimators':1000,\n",
    "                    'n_jobs':4,\n",
    "                    'min_child_weight':8\n",
    "                    }\n",
    "clf_f = xgb.XGBRegressor(**paramf)\n",
    "clf_f.fit(X_train[freezer_set].values, y_train['fridge_freezer'].values)"
   ]
  },
  {
   "cell_type": "code",
   "execution_count": 258,
   "metadata": {
    "scrolled": false
   },
   "outputs": [],
   "source": [
    "y_pred_f = clf_f.predict(X_valid[freezer_set].values)"
   ]
  },
  {
   "cell_type": "code",
   "execution_count": 259,
   "metadata": {
    "scrolled": false
   },
   "outputs": [
    {
     "name": "stdout",
     "output_type": "stream",
     "text": [
      "42.52132293884686\n"
     ]
    }
   ],
   "source": [
    "print(rmse1(y_valid['fridge_freezer'].values, y_pred_f))"
   ]
  },
  {
   "cell_type": "code",
   "execution_count": null,
   "metadata": {
    "scrolled": false
   },
   "outputs": [],
   "source": [
    "ax = xgb.plot_importance(clf_f)\n",
    "fig = ax.figure\n",
    "fig.set_size_inches(10, 15)"
   ]
  },
  {
   "cell_type": "code",
   "execution_count": 370,
   "metadata": {
    "scrolled": false
   },
   "outputs": [],
   "source": [
    "freezer_set_2 = ['consumption', 'visibility', 'temperature', 'humidity', 'humidex',\n",
    "                 'windchill', 'wind', 'pressure', 'hour', 'minute', 'month', 'dayofweek',\n",
    "                 'hour_sin', 'hour_cos', 'minute_cos',\n",
    "                 'time', 'time_sin', 'time_cos', 'hourly_avg', 'hourly_max',\n",
    "                 'hourly_min', 'hourly_std', 'hourly_diff', 'half_hourly_avg',\n",
    "                 'half_hourly_max', 'half_hourly_min', 'half_hourly_std',\n",
    "                 'half_hourly_diff', 'WeatherPCA1', 'WeatherPCA2', 'WeatherPCA3',\n",
    "                 'consumption_last1min', 'consumption_last2min', 'consumption_last3min',\n",
    "                 'consumption_last4min', 'consumption_last5min', 'is_freezer_new1',\n",
    "                 'freezer_current_new1', 'last_5min_avg', 'last_3min_avg', 'next_3min_avg', 'next_5min_avg', \n",
    "                 'consumption_next1min', 'consumption_next2min', 'consumption_next3min', \n",
    "                 'consumption_next4min', 'consumption_next5min', 'consumption_last5min_avg', 'consumption_last5min_std',\n",
    "                 'consumption_last5min_min', 'consumption_last5min_max',\n",
    "                 'consumption_last5min_diff', 'consumption_next5min_avg',\n",
    "                 'consumption_next5min_std', 'consumption_next5min_min',\n",
    "                 'consumption_next5min_max', 'consumption_next5min_diff']"
   ]
  },
  {
   "cell_type": "code",
   "execution_count": null,
   "metadata": {
    "scrolled": false
   },
   "outputs": [],
   "source": [
    "paramf = {'objective':'reg:squarederror',\n",
    "                    'max_depth':6,\n",
    "                    'n_estimators':1000,\n",
    "                    'n_jobs':4,\n",
    "                    'min_child_weight':8\n",
    "                    }\n",
    "clf_f_2 = xgb.XGBRegressor(**paramf)\n",
    "clf_f_2.fit(train[freezer_set_2].values, train['fridge_freezer'].values)"
   ]
  },
  {
   "cell_type": "code",
   "execution_count": null,
   "metadata": {
    "scrolled": false
   },
   "outputs": [],
   "source": [
    "ax = xgb.plot_importance(clf_f_2)\n",
    "fig = ax.figure\n",
    "fig.set_size_inches(10, 15)"
   ]
  },
  {
   "cell_type": "code",
   "execution_count": null,
   "metadata": {
    "scrolled": false
   },
   "outputs": [],
   "source": [
    "y_pred_f_2 = clf_f_2.predict(X_valid[freezer_set_2].values)"
   ]
  },
  {
   "cell_type": "code",
   "execution_count": null,
   "metadata": {
    "scrolled": false
   },
   "outputs": [],
   "source": [
    "print(rmse1(y_valid['fridge_freezer'].values, y_pred_f_2))"
   ]
  },
  {
   "cell_type": "markdown",
   "metadata": {},
   "source": [
    "#### TV"
   ]
  },
  {
   "cell_type": "code",
   "execution_count": null,
   "metadata": {
    "scrolled": false
   },
   "outputs": [],
   "source": [
    "# XGBoost\n",
    "paramt = {'objective':'reg:squarederror',\n",
    "                    'max_depth':6,\n",
    "                    'n_estimators':1000,\n",
    "                    'n_jobs':4,\n",
    "                    'min_child_weight':8\n",
    "                    }\n",
    "clf_t = xgb.XGBRegressor(**paramt)\n",
    "clf_t.fit(X_train[TV_set].values, y_train['TV'].values)"
   ]
  },
  {
   "cell_type": "code",
   "execution_count": 260,
   "metadata": {
    "scrolled": false
   },
   "outputs": [],
   "source": [
    "y_pred_t = clf_t.predict(X_valid[TV_set].values)"
   ]
  },
  {
   "cell_type": "code",
   "execution_count": 261,
   "metadata": {
    "scrolled": false
   },
   "outputs": [
    {
     "name": "stdout",
     "output_type": "stream",
     "text": [
      "17.04375491662241\n"
     ]
    }
   ],
   "source": [
    "print(rmse1(y_valid['TV'].values, y_pred_t))"
   ]
  },
  {
   "cell_type": "code",
   "execution_count": null,
   "metadata": {
    "scrolled": false
   },
   "outputs": [],
   "source": [
    "ax = xgb.plot_importance(clf_t)\n",
    "fig = ax.figure\n",
    "fig.set_size_inches(10, 15)"
   ]
  },
  {
   "cell_type": "code",
   "execution_count": 371,
   "metadata": {
    "scrolled": false
   },
   "outputs": [],
   "source": [
    "TV_set_2 = ['consumption', 'visibility', 'temperature', 'humidity', 'humidex',\n",
    "            'windchill', 'wind', 'pressure', 'hour', 'minute', 'month', 'dayofweek',\n",
    "            'hour_sin',\n",
    "            'hour_cos', 'time', 'time_sin', 'time_cos', 'hourly_avg', 'hourly_max',\n",
    "            'hourly_min', 'hourly_std', 'hourly_diff', 'half_hourly_avg',\n",
    "            'half_hourly_max', 'half_hourly_min', 'half_hourly_std',\n",
    "            'half_hourly_diff', 'WeatherPCA1', 'WeatherPCA2', 'WeatherPCA3',\n",
    "            'consumption_last1min',\n",
    "            'consumption_last2min', 'consumption_last3min', 'consumption_last5min',\n",
    "            'last_5min_avg', 'last_3min_avg', 'next_3min_avg', 'next_5min_avg', \n",
    "            'consumption_next1min', 'consumption_next2min', 'consumption_next3min', \n",
    "            'consumption_next4min', 'consumption_next5min', 'consumption_last5min_avg', 'consumption_last5min_std',\n",
    "            'consumption_last5min_min', 'consumption_last5min_max',\n",
    "            'consumption_last5min_diff', 'consumption_next5min_avg',\n",
    "            'consumption_next5min_std', 'consumption_next5min_min',\n",
    "            'consumption_next5min_max', 'consumption_next5min_diff']"
   ]
  },
  {
   "cell_type": "code",
   "execution_count": 391,
   "metadata": {
    "scrolled": false
   },
   "outputs": [
    {
     "data": {
      "text/plain": [
       "53"
      ]
     },
     "execution_count": 391,
     "metadata": {},
     "output_type": "execute_result"
    }
   ],
   "source": [
    "len(TV_set_2)"
   ]
  },
  {
   "cell_type": "code",
   "execution_count": null,
   "metadata": {
    "scrolled": false
   },
   "outputs": [],
   "source": [
    "# XGBoost\n",
    "paramt = {'objective':'reg:squarederror',\n",
    "                    'max_depth':6,\n",
    "                    'n_estimators':1000,\n",
    "                    'n_jobs':4,\n",
    "                    'min_child_weight':8\n",
    "                    }\n",
    "clf_t_2 = xgb.XGBRegressor(**paramt)\n",
    "clf_t_2.fit(train[TV_set_2].values, train['TV'].values)"
   ]
  },
  {
   "cell_type": "code",
   "execution_count": null,
   "metadata": {
    "scrolled": false
   },
   "outputs": [],
   "source": [
    "ax = xgb.plot_importance(clf_t_2)\n",
    "fig = ax.figure\n",
    "fig.set_size_inches(10, 15)"
   ]
  },
  {
   "cell_type": "code",
   "execution_count": null,
   "metadata": {
    "scrolled": false
   },
   "outputs": [],
   "source": [
    "y_pred_t_2 = clf_t_2.predict(X_valid[TV_set_2].values)"
   ]
  },
  {
   "cell_type": "code",
   "execution_count": null,
   "metadata": {
    "scrolled": false
   },
   "outputs": [],
   "source": [
    "print(rmse1(y_valid['TV'].values, y_pred_t_2))"
   ]
  },
  {
   "cell_type": "markdown",
   "metadata": {},
   "source": [
    "#### Kettle"
   ]
  },
  {
   "cell_type": "code",
   "execution_count": null,
   "metadata": {
    "scrolled": false
   },
   "outputs": [],
   "source": [
    "# XGBoost\n",
    "paramk = {'objective':'reg:squarederror',\n",
    "                    'max_depth':6,\n",
    "                    'n_estimators':1000,\n",
    "                    'n_jobs':4,\n",
    "                    'min_child_weight':8\n",
    "                    }\n",
    "clf_k = xgb.XGBRegressor(**paramk)\n",
    "clf_k.fit(X_train[kettle_set].values, y_train['kettle'].values)"
   ]
  },
  {
   "cell_type": "code",
   "execution_count": 262,
   "metadata": {
    "scrolled": false
   },
   "outputs": [],
   "source": [
    "y_pred_k = clf_k.predict(X_valid[kettle_set].values)"
   ]
  },
  {
   "cell_type": "code",
   "execution_count": 263,
   "metadata": {
    "scrolled": false
   },
   "outputs": [
    {
     "name": "stdout",
     "output_type": "stream",
     "text": [
      "88.00743418046251\n"
     ]
    }
   ],
   "source": [
    "print(rmse1(y_valid['kettle'].values, y_pred_k))"
   ]
  },
  {
   "cell_type": "code",
   "execution_count": null,
   "metadata": {
    "scrolled": true
   },
   "outputs": [],
   "source": [
    "#xgb.plot_importance(clf_k, height=0.8)\n",
    "#clf_k.get_booster().get_score(importance_type=\"gain\")\n",
    "ax = xgb.plot_importance(clf_k)\n",
    "fig = ax.figure\n",
    "fig.set_size_inches(10, 15)"
   ]
  },
  {
   "cell_type": "code",
   "execution_count": 372,
   "metadata": {
    "scrolled": false
   },
   "outputs": [],
   "source": [
    "kettle_set_2 = ['consumption', 'visibility', 'temperature', 'humidity', 'humidex',\n",
    "                'windchill', 'wind', 'pressure', 'minute', \n",
    "                'month',  \n",
    "                'minute_sin', 'minute_cos', 'time', 'time_sin', 'time_cos',\n",
    "                'hourly_avg', 'hourly_max', 'hourly_min', 'hourly_std', 'hourly_diff',\n",
    "                'half_hourly_avg', 'half_hourly_max', 'half_hourly_min','half_hourly_std', 'half_hourly_diff', \n",
    "                'WeatherPCA1', 'WeatherPCA2','WeatherPCA3', \n",
    "                'consumption_last1min', 'consumption_last2min', 'consumption_last3min',\n",
    "                'consumption_last4min', 'consumption_last5min',\n",
    "                'last_5min_avg', 'last_3min_avg', 'next_3min_avg', 'next_5min_avg', \n",
    "                'consumption_next1min', 'consumption_next2min', 'consumption_next3min', \n",
    "                'consumption_next4min', 'consumption_next5min', 'consumption_last5min_avg', 'consumption_last5min_std',\n",
    "                'consumption_last5min_min', 'consumption_last5min_max',\n",
    "                'consumption_last5min_diff', 'consumption_next5min_avg',\n",
    "                'consumption_next5min_std', 'consumption_next5min_min',\n",
    "                'consumption_next5min_max', 'consumption_next5min_diff']"
   ]
  },
  {
   "cell_type": "code",
   "execution_count": 373,
   "metadata": {
    "scrolled": false
   },
   "outputs": [
    {
     "data": {
      "text/plain": [
       "52"
      ]
     },
     "execution_count": 373,
     "metadata": {},
     "output_type": "execute_result"
    }
   ],
   "source": [
    "len(kettle_set_2)"
   ]
  },
  {
   "cell_type": "code",
   "execution_count": null,
   "metadata": {
    "scrolled": false
   },
   "outputs": [],
   "source": [
    "# XGBoost\n",
    "paramk = {'objective':'reg:squarederror',\n",
    "                    'max_depth':6,\n",
    "                    'n_estimators':1000,\n",
    "                    'n_jobs':4,\n",
    "                    'min_child_weight':8\n",
    "                    }\n",
    "clf_k_2 = xgb.XGBRegressor(**paramk)\n",
    "clf_k_2.fit(train[kettle_set_2].values, train['kettle'].values)"
   ]
  },
  {
   "cell_type": "code",
   "execution_count": null,
   "metadata": {
    "scrolled": false
   },
   "outputs": [],
   "source": [
    "ax = xgb.plot_importance(clf_k_2)\n",
    "fig = ax.figure\n",
    "fig.set_size_inches(10, 15)"
   ]
  },
  {
   "cell_type": "code",
   "execution_count": 318,
   "metadata": {
    "scrolled": false
   },
   "outputs": [],
   "source": [
    "y_pred_k_2 = clf_k_2.predict(X_valid[kettle_set_2].values)"
   ]
  },
  {
   "cell_type": "code",
   "execution_count": 319,
   "metadata": {
    "scrolled": false
   },
   "outputs": [
    {
     "name": "stdout",
     "output_type": "stream",
     "text": [
      "15.224367314056334\n"
     ]
    }
   ],
   "source": [
    "print(rmse1(y_valid['kettle'].values, y_pred_k_2))"
   ]
  },
  {
   "cell_type": "markdown",
   "metadata": {},
   "source": [
    "##### Predictions"
   ]
  },
  {
   "cell_type": "code",
   "execution_count": 378,
   "metadata": {
    "scrolled": false
   },
   "outputs": [],
   "source": [
    "y_pred_52 = X_test[['time_step']]"
   ]
  },
  {
   "cell_type": "code",
   "execution_count": 385,
   "metadata": {
    "scrolled": false
   },
   "outputs": [],
   "source": [
    "y_pred_52['washing_machine'] = clf_w_2.predict(X_test[washing_set_2].values)\n",
    "y_pred_52['fridge_freezer'] = clf_f_2.predict(X_test[freezer_set_2].values)\n",
    "y_pred_52['TV'] = clf_t_2.predict(X_test[TV_set_2].values)\n",
    "y_pred_52['kettle'] = clf_k_2.predict(X_test[kettle_set_2].values)"
   ]
  },
  {
   "cell_type": "code",
   "execution_count": 386,
   "metadata": {
    "scrolled": false
   },
   "outputs": [],
   "source": [
    "y_pred_54 = y_pred_52[y_pred_52[y_pred_52.columns[1:]] >= 0].fillna(0)\n",
    "y_pred_54['time_step'] = y_pred_52['time_step']"
   ]
  },
  {
   "cell_type": "code",
   "execution_count": 388,
   "metadata": {
    "scrolled": false
   },
   "outputs": [],
   "source": [
    "y_pred_54.to_csv(\"y_pred_xgblgb54.csv\",index=False)"
   ]
  },
  {
   "cell_type": "markdown",
   "metadata": {},
   "source": [
    "## Unified model (XGBoost)"
   ]
  },
  {
   "cell_type": "markdown",
   "metadata": {},
   "source": [
    "### Data preprocessing: concatenation"
   ]
  },
  {
   "cell_type": "code",
   "execution_count": null,
   "metadata": {
    "scrolled": false
   },
   "outputs": [],
   "source": [
    "X_vars = ['consumption', 'visibility', 'temperature', 'humidity',\n",
    "       'humidex', 'windchill', 'wind', 'pressure', 'minute',\n",
    "       'isweekend', 'day_0', 'day_1', 'day_2', 'day_3', 'day_4',\n",
    "       'day_5', 'day_6', 'hour_0', 'hour_1', 'hour_2', 'hour_3', 'hour_4',\n",
    "       'hour_5', 'hour_6', 'hour_7', 'hour_8', 'hour_9', 'hour_10', 'hour_11',\n",
    "       'hour_12', 'hour_13', 'hour_14', 'hour_15', 'hour_16', 'hour_17',\n",
    "       'hour_18', 'hour_19', 'hour_20', 'hour_21', 'hour_22', 'hour_23',\n",
    "       'hour_sin', 'hour_cos', 'minute_sin', 'minute_cos', 'time_sin',\n",
    "       'time_cos', 'hourly_avg', 'hourly_max', 'hourly_min',\n",
    "       'hourly_std', 'hourly_diff', 'half_hourly_avg',\n",
    "       'half_hourly_max', 'half_hourly_min', 'half_hourly_std',\n",
    "       'half_hourly_diff', 'WeatherPCA1', 'WeatherPCA2', 'WeatherPCA3',\n",
    "       'is_kettle_2500', 'is_kettle_2700', 'is_kettle_2700_5',\n",
    "       'is_washing_1800_5', 'is_washing_2000_10', 'is_washing_2000_5',\n",
    "       'kettle_current1', 'kettle_current2', 'kettle_current3',\n",
    "       'washing_current1', 'washing_current2', 'washing_current3',\n",
    "       'consumption_last1min', 'consumption_last2min', 'consumption_last3min',\n",
    "       'consumption_last4min', 'consumption_last5min', 'is_washing_new1',\n",
    "       'washing_current_new1', 'is_freezer_new1', 'freezer_current_new1',\n",
    "       'is_kettle_new1', 'kettle_current_new1', 'last_3min_avg','last_5min_avg']"
   ]
  },
  {
   "cell_type": "code",
   "execution_count": null,
   "metadata": {
    "scrolled": false
   },
   "outputs": [],
   "source": [
    "appliance = pd.Series([1]*len(train))\n",
    "washing_machine = train[['time_step']+X_vars+['washing_machine']]\n",
    "washing_machine['appliance'] = appliance\n",
    "washing_machine = washing_machine.rename(columns={\"washing_machine\": \"app_consumption\"})\n",
    "washing_machine = washing_machine[['time_step']+X_vars+['appliance','app_consumption']]"
   ]
  },
  {
   "cell_type": "code",
   "execution_count": null,
   "metadata": {
    "scrolled": false
   },
   "outputs": [],
   "source": [
    "appliance = pd.Series([2]*len(train))\n",
    "fridge_freezer = train[['time_step']+X_vars+['fridge_freezer']]\n",
    "fridge_freezer['appliance'] = appliance\n",
    "fridge_freezer = fridge_freezer.rename(columns={\"fridge_freezer\": \"app_consumption\"})\n",
    "fridge_freezer = fridge_freezer[['time_step']+X_vars+['appliance','app_consumption']]"
   ]
  },
  {
   "cell_type": "code",
   "execution_count": null,
   "metadata": {
    "scrolled": false
   },
   "outputs": [],
   "source": [
    "appliance = pd.Series([3]*len(train))\n",
    "TV = train[['time_step']+X_vars+['TV']]\n",
    "TV['appliance'] = appliance\n",
    "TV = TV.rename(columns={\"TV\": \"app_consumption\"})\n",
    "TV = TV[['time_step']+X_vars+['appliance','app_consumption']]"
   ]
  },
  {
   "cell_type": "code",
   "execution_count": null,
   "metadata": {
    "scrolled": false
   },
   "outputs": [],
   "source": [
    "appliance = pd.Series([4]*len(train))\n",
    "kettle = train[['time_step']+X_vars+['kettle']]\n",
    "kettle['appliance'] = appliance\n",
    "kettle = kettle.rename(columns={\"kettle\": \"app_consumption\"})\n",
    "kettle = kettle[['time_step']+X_vars+['appliance','app_consumption']]"
   ]
  },
  {
   "cell_type": "code",
   "execution_count": null,
   "metadata": {
    "scrolled": false
   },
   "outputs": [],
   "source": [
    "full = pd.concat([washing_machine, fridge_freezer, TV, kettle])"
   ]
  },
  {
   "cell_type": "code",
   "execution_count": null,
   "metadata": {
    "scrolled": false
   },
   "outputs": [],
   "source": [
    "set(full.appliance)"
   ]
  },
  {
   "cell_type": "code",
   "execution_count": null,
   "metadata": {
    "scrolled": false
   },
   "outputs": [],
   "source": [
    "X = full[full.columns[:-1]]\n",
    "y = full[['app_consumption']]"
   ]
  },
  {
   "cell_type": "code",
   "execution_count": null,
   "metadata": {
    "scrolled": false
   },
   "outputs": [],
   "source": [
    "X_train, X_valid, Y_train, Y_valid = train_test_split(X, y, test_size=0.2, random_state=20)\n",
    "print('Train size: {train}, Validation size: {test}'.format(train=X_train.shape[0], test=Y_valid.shape[0]))"
   ]
  },
  {
   "cell_type": "code",
   "execution_count": null,
   "metadata": {
    "scrolled": false
   },
   "outputs": [],
   "source": [
    "X_train_scaled = X_train[X_train.columns[1:]].values\n",
    "Y_train_scaled = Y_train.values"
   ]
  },
  {
   "cell_type": "markdown",
   "metadata": {},
   "source": [
    "### Feature selection"
   ]
  },
  {
   "cell_type": "code",
   "execution_count": null,
   "metadata": {
    "scrolled": false
   },
   "outputs": [],
   "source": [
    "params = {'objective':'reg:squarederror',\n",
    "                    'max_depth':6,\n",
    "                    'n_estimators':100,\n",
    "                    'n_jobs':4,\n",
    "                    'min_child_weight': 7\n",
    "                    }\n",
    "clf = xgb.XGBRegressor(**params)\n",
    "#scr = preprocessing.StandardScaler()\n",
    "#x_scaled = scr.fit_transform(x_train[x_train.columns[1:]])\n",
    "\n",
    "rfecv = RFECV(estimator=clf, step=1, cv=4, scoring='neg_mean_squared_error', verbose = True)   #5-fold cross-validation\n",
    "rfecv = rfecv.fit(X_train_scaled, Y_train_scaled)\n",
    "\n",
    "print('Optimal number of features :', rfecv.n_features_)\n",
    "print('Best features :', X_train[X_train.columns[1:]].columns[rfecv.support_])"
   ]
  },
  {
   "cell_type": "code",
   "execution_count": null,
   "metadata": {
    "scrolled": false
   },
   "outputs": [],
   "source": [
    "X_vars_sel = ['consumption', 'visibility', 'temperature', 'humidity', 'humidex',\n",
    "       'windchill', 'wind', 'pressure', 'minute', 'isweekend', 'day_0',\n",
    "       'day_1', 'day_5', 'day_6', 'hour_0', 'hour_1', 'hour_6', 'hour_7',\n",
    "       'hour_8', 'hour_9', 'hour_10', 'hour_13', 'hour_14', 'hour_17',\n",
    "       'hour_18', 'hour_19', 'hour_20', 'hour_21', 'hour_22', 'hour_23',\n",
    "       'hour_sin', 'hour_cos', 'minute_sin', 'minute_cos', 'time_sin',\n",
    "       'time_cos', 'hourly_avg', 'hourly_max', 'hourly_min', 'hourly_std',\n",
    "       'hourly_diff', 'half_hourly_avg', 'half_hourly_max', 'half_hourly_min',\n",
    "       'half_hourly_std', 'half_hourly_diff', 'WeatherPCA1', 'WeatherPCA2',\n",
    "       'WeatherPCA3', 'is_kettle_2500', 'is_kettle_2700', 'is_kettle_2700_5',\n",
    "       'is_washing_1800_5', 'is_washing_2000_5', 'kettle_current1',\n",
    "       'kettle_current2', 'kettle_current3', 'washing_current1',\n",
    "       'washing_current2', 'washing_current3', 'consumption_last1min',\n",
    "       'consumption_last2min', 'consumption_last3min', 'consumption_last4min',\n",
    "       'consumption_last5min', 'washing_current_new1', 'is_freezer_new1',\n",
    "       'freezer_current_new1', 'is_kettle_new1', 'kettle_current_new1',\n",
    "       'last_3min_avg','last_5min_avg','appliance']\n",
    "y_var = ['app_consumption']"
   ]
  },
  {
   "cell_type": "code",
   "execution_count": null,
   "metadata": {
    "scrolled": false
   },
   "outputs": [],
   "source": [
    "X_train = X_train[['time_step']+X_vars_sel]\n",
    "y_train = Y_train[y_var]\n",
    "\n",
    "X_train_scaled = X_train[X_train.columns[1:]].values\n",
    "y_train_scaled = y_train.values"
   ]
  },
  {
   "cell_type": "markdown",
   "metadata": {},
   "source": [
    "### Train model"
   ]
  },
  {
   "cell_type": "code",
   "execution_count": null,
   "metadata": {
    "scrolled": false
   },
   "outputs": [],
   "source": [
    "param = {'objective':'reg:squarederror',\n",
    "                    'max_depth':6,\n",
    "                    'n_estimators':6000,\n",
    "                    'n_jobs':4,\n",
    "                     'min_child_weight':5\n",
    "                    }\n",
    "\n",
    "reg = xgb.XGBRegressor(**param)\n",
    "        \n",
    "model_cv(reg, X_train_scaled, y_train_scaled)"
   ]
  },
  {
   "cell_type": "code",
   "execution_count": null,
   "metadata": {
    "scrolled": false
   },
   "outputs": [],
   "source": [
    "params = {'objective':'reg:squarederror',\n",
    "                    'max_depth':6,\n",
    "                    'n_estimators':2000,\n",
    "                    'n_jobs':4,\n",
    "                    'min_child_weight':5\n",
    "                    }\n",
    "clf = xgb.XGBRegressor(**params)\n",
    "clf.fit(X_train_scaled, y_train_scaled, verbose=True)"
   ]
  },
  {
   "cell_type": "markdown",
   "metadata": {},
   "source": [
    "### Model evaluation"
   ]
  },
  {
   "cell_type": "code",
   "execution_count": null,
   "metadata": {
    "scrolled": false
   },
   "outputs": [],
   "source": [
    "valid = pd.concat([X_valid, Y_valid], axis=1)"
   ]
  },
  {
   "cell_type": "code",
   "execution_count": null,
   "metadata": {
    "scrolled": false
   },
   "outputs": [],
   "source": [
    "washing_machine = valid[valid.appliance == 1]\n",
    "fridge_freezer = valid[valid.appliance == 2]\n",
    "TV = valid[valid.appliance == 3]\n",
    "kettle = valid[valid.appliance == 4]"
   ]
  },
  {
   "cell_type": "code",
   "execution_count": null,
   "metadata": {
    "scrolled": false
   },
   "outputs": [],
   "source": [
    "pred1 = clf.predict(washing_machine[X_vars_sel].values)\n",
    "pred2 = clf.predict(fridge_freezer[X_vars_sel].values)\n",
    "pred3 = clf.predict(TV[X_vars_sel].values)\n",
    "pred4 = clf.predict(kettle[X_vars_sel].values)"
   ]
  },
  {
   "cell_type": "code",
   "execution_count": null,
   "metadata": {
    "scrolled": false
   },
   "outputs": [],
   "source": [
    "true1 = washing_machine.app_consumption\n",
    "true2 = fridge_freezer.app_consumption\n",
    "true3 = TV.app_consumption\n",
    "true4 = kettle.app_consumption"
   ]
  },
  {
   "cell_type": "code",
   "execution_count": null,
   "metadata": {
    "scrolled": false
   },
   "outputs": [],
   "source": [
    "print(rmse(true1, pred1))\n",
    "print(rmse(true2, pred2))\n",
    "print(rmse(true3, pred3))\n",
    "print(rmse(true4, pred4))"
   ]
  },
  {
   "cell_type": "code",
   "execution_count": null,
   "metadata": {
    "scrolled": false
   },
   "outputs": [],
   "source": [
    "clf.save_model('unified.model')"
   ]
  },
  {
   "cell_type": "code",
   "execution_count": null,
   "metadata": {
    "scrolled": false
   },
   "outputs": [],
   "source": [
    "def cross_test(X, y, feature_set, trained_model, k_fold=5):\n",
    "    total_rmse1 = total_rmse2 = total_rmse3 = total_rmse4 = 0\n",
    "    for i in range(k_fold):\n",
    "        X_train, X_valid, Y_train, Y_valid = train_test_split(X, y, test_size=0.2)\n",
    "        valid = pd.concat([X_valid, Y_valid], axis=1)\n",
    "        \n",
    "        washing_machine = valid[valid.appliance == 1]\n",
    "        fridge_freezer = valid[valid.appliance == 2]\n",
    "        TV = valid[valid.appliance == 3]\n",
    "        kettle = valid[valid.appliance == 4]\n",
    "        \n",
    "        pred1 = trained_model.predict(washing_machine[feature_set].values)\n",
    "        pred2 = trained_model.predict(fridge_freezer[feature_set].values)\n",
    "        pred3 = trained_model.predict(TV[feature_set].values)\n",
    "        pred4 = trained_model.predict(kettle[feature_set].values)\n",
    "        \n",
    "        true1 = washing_machine.app_consumption\n",
    "        true2 = fridge_freezer.app_consumption\n",
    "        true3 = TV.app_consumption\n",
    "        true4 = kettle.app_consumption\n",
    "        \n",
    "        total_rmse1 += rmse(true1, pred1)\n",
    "        total_rmse2 += rmse(true2, pred2)\n",
    "        total_rmse3 += rmse(true3, pred3)\n",
    "        total_rmse4 += rmse(true4, pred4)\n",
    "    \n",
    "    print(\"Avg RMSE for washing machine: %.2f\" %(total_rmse1 / k_fold))\n",
    "    print(\"Avg RMSE for fridge freezer: %.2f\" %(total_rmse2 / k_fold))\n",
    "    print(\"Avg RMSE for TV: %.2f\" %(total_rmse3 / k_fold))\n",
    "    print(\"Avg RMSE for kettle: %.2f\" %(total_rmse4 / k_fold))"
   ]
  },
  {
   "cell_type": "code",
   "execution_count": null,
   "metadata": {
    "scrolled": false
   },
   "outputs": [],
   "source": [
    "cross_test(X, y, X_vars_sel, clf, 10)"
   ]
  },
  {
   "cell_type": "code",
   "execution_count": null,
   "metadata": {
    "scrolled": false
   },
   "outputs": [],
   "source": [
    "importance(clf, X_train.columns[1:])"
   ]
  }
 ],
 "metadata": {
  "kernelspec": {
   "display_name": "Python 3",
   "language": "python",
   "name": "python3"
  },
  "language_info": {
   "codemirror_mode": {
    "name": "ipython",
    "version": 3
   },
   "file_extension": ".py",
   "mimetype": "text/x-python",
   "name": "python",
   "nbconvert_exporter": "python",
   "pygments_lexer": "ipython3",
   "version": "3.7.6"
  },
  "toc": {
   "base_numbering": 1,
   "nav_menu": {},
   "number_sections": true,
   "sideBar": true,
   "skip_h1_title": false,
   "title_cell": "Table of Contents",
   "title_sidebar": "Contents",
   "toc_cell": true,
   "toc_position": {},
   "toc_section_display": true,
   "toc_window_display": false
  }
 },
 "nbformat": 4,
 "nbformat_minor": 4
}
