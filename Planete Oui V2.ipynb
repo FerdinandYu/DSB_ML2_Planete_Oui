{
 "cells": [
  {
   "cell_type": "code",
   "execution_count": 1,
   "metadata": {},
   "outputs": [],
   "source": [
    "import pandas as pd\n",
    "import numpy as np\n",
    "import warnings\n",
    "warnings.filterwarnings('ignore')\n",
    "import matplotlib.pyplot as plt\n",
    "\n",
    "import datetime as dt\n",
    "import math as mt"
   ]
  },
  {
   "cell_type": "code",
   "execution_count": 2,
   "metadata": {},
   "outputs": [],
   "source": [
    "def metric_nilm(dataframe_y_true, dataframe_y_pred):\n",
    "    score = 0.0\n",
    "    test = dataframe_y_true[~dataframe_y_true['washing_machine'].isna()]['washing_machine']\n",
    "    pred = dataframe_y_pred[~dataframe_y_true['washing_machine'].isna()]['washing_machine']\n",
    "    score += mt.sqrt(sum((pred - test)**2)/len(test))*5.55\n",
    "    test = dataframe_y_true[~dataframe_y_true['fridge_freezer'].isna()]['fridge_freezer']\n",
    "    pred = dataframe_y_pred[~dataframe_y_true['fridge_freezer'].isna()]['fridge_freezer']\n",
    "    score += mt.sqrt(sum((pred - test)**2)/len(test))*49.79\n",
    "    test = dataframe_y_true[~dataframe_y_true['TV'].isna()]['TV']\n",
    "    pred = dataframe_y_pred[~dataframe_y_true['TV'].isna()]['TV']\n",
    "    score += mt.sqrt(sum((pred - test)**2)/len(test))*14.57\n",
    "    test = dataframe_y_true[~dataframe_y_true['kettle'].isna()]['kettle']\n",
    "    pred = dataframe_y_pred[~dataframe_y_true['kettle'].isna()]['kettle']\n",
    "    score += mt.sqrt(sum((pred - test)**2)/len(test))*4.95\n",
    "    score /= 74.86\n",
    "    return score"
   ]
  },
  {
   "cell_type": "code",
   "execution_count": 3,
   "metadata": {},
   "outputs": [],
   "source": [
    "PATH = ''"
   ]
  },
  {
   "cell_type": "markdown",
   "metadata": {},
   "source": [
    "### Load Data and Inspect"
   ]
  },
  {
   "cell_type": "code",
   "execution_count": 4,
   "metadata": {},
   "outputs": [
    {
     "data": {
      "text/html": [
       "<div>\n",
       "<style scoped>\n",
       "    .dataframe tbody tr th:only-of-type {\n",
       "        vertical-align: middle;\n",
       "    }\n",
       "\n",
       "    .dataframe tbody tr th {\n",
       "        vertical-align: top;\n",
       "    }\n",
       "\n",
       "    .dataframe thead th {\n",
       "        text-align: right;\n",
       "    }\n",
       "</style>\n",
       "<table border=\"1\" class=\"dataframe\">\n",
       "  <thead>\n",
       "    <tr style=\"text-align: right;\">\n",
       "      <th></th>\n",
       "      <th>time_step</th>\n",
       "      <th>consumption</th>\n",
       "      <th>visibility</th>\n",
       "      <th>temperature</th>\n",
       "      <th>humidity</th>\n",
       "      <th>humidex</th>\n",
       "      <th>windchill</th>\n",
       "      <th>wind</th>\n",
       "      <th>pressure</th>\n",
       "    </tr>\n",
       "  </thead>\n",
       "  <tbody>\n",
       "    <tr>\n",
       "      <th>0</th>\n",
       "      <td>2013-03-17T00:01:00.0</td>\n",
       "      <td>550.4000</td>\n",
       "      <td>NaN</td>\n",
       "      <td>NaN</td>\n",
       "      <td>NaN</td>\n",
       "      <td>NaN</td>\n",
       "      <td>NaN</td>\n",
       "      <td>NaN</td>\n",
       "      <td>NaN</td>\n",
       "    </tr>\n",
       "    <tr>\n",
       "      <th>1</th>\n",
       "      <td>2013-03-17T00:02:00.0</td>\n",
       "      <td>548.6000</td>\n",
       "      <td>NaN</td>\n",
       "      <td>NaN</td>\n",
       "      <td>NaN</td>\n",
       "      <td>NaN</td>\n",
       "      <td>NaN</td>\n",
       "      <td>NaN</td>\n",
       "      <td>NaN</td>\n",
       "    </tr>\n",
       "    <tr>\n",
       "      <th>2</th>\n",
       "      <td>2013-03-17T00:03:00.0</td>\n",
       "      <td>549.3000</td>\n",
       "      <td>NaN</td>\n",
       "      <td>NaN</td>\n",
       "      <td>NaN</td>\n",
       "      <td>NaN</td>\n",
       "      <td>NaN</td>\n",
       "      <td>NaN</td>\n",
       "      <td>NaN</td>\n",
       "    </tr>\n",
       "    <tr>\n",
       "      <th>3</th>\n",
       "      <td>2013-03-17T00:04:00.0</td>\n",
       "      <td>549.3667</td>\n",
       "      <td>NaN</td>\n",
       "      <td>NaN</td>\n",
       "      <td>NaN</td>\n",
       "      <td>NaN</td>\n",
       "      <td>NaN</td>\n",
       "      <td>NaN</td>\n",
       "      <td>NaN</td>\n",
       "    </tr>\n",
       "    <tr>\n",
       "      <th>4</th>\n",
       "      <td>2013-03-17T00:05:00.0</td>\n",
       "      <td>548.8909</td>\n",
       "      <td>NaN</td>\n",
       "      <td>NaN</td>\n",
       "      <td>NaN</td>\n",
       "      <td>NaN</td>\n",
       "      <td>NaN</td>\n",
       "      <td>NaN</td>\n",
       "      <td>NaN</td>\n",
       "    </tr>\n",
       "  </tbody>\n",
       "</table>\n",
       "</div>"
      ],
      "text/plain": [
       "               time_step  consumption  visibility  temperature  humidity  \\\n",
       "0  2013-03-17T00:01:00.0     550.4000         NaN          NaN       NaN   \n",
       "1  2013-03-17T00:02:00.0     548.6000         NaN          NaN       NaN   \n",
       "2  2013-03-17T00:03:00.0     549.3000         NaN          NaN       NaN   \n",
       "3  2013-03-17T00:04:00.0     549.3667         NaN          NaN       NaN   \n",
       "4  2013-03-17T00:05:00.0     548.8909         NaN          NaN       NaN   \n",
       "\n",
       "   humidex  windchill  wind  pressure  \n",
       "0      NaN        NaN   NaN       NaN  \n",
       "1      NaN        NaN   NaN       NaN  \n",
       "2      NaN        NaN   NaN       NaN  \n",
       "3      NaN        NaN   NaN       NaN  \n",
       "4      NaN        NaN   NaN       NaN  "
      ]
     },
     "execution_count": 4,
     "metadata": {},
     "output_type": "execute_result"
    }
   ],
   "source": [
    "X_train = pd.read_csv(PATH+\"X_train.csv\")\n",
    "X_train = X_train.drop(X_train.columns[-1],axis=1)\n",
    "X_train.head(5)"
   ]
  },
  {
   "cell_type": "code",
   "execution_count": 5,
   "metadata": {},
   "outputs": [
    {
     "data": {
      "text/html": [
       "<div>\n",
       "<style scoped>\n",
       "    .dataframe tbody tr th:only-of-type {\n",
       "        vertical-align: middle;\n",
       "    }\n",
       "\n",
       "    .dataframe tbody tr th {\n",
       "        vertical-align: top;\n",
       "    }\n",
       "\n",
       "    .dataframe thead th {\n",
       "        text-align: right;\n",
       "    }\n",
       "</style>\n",
       "<table border=\"1\" class=\"dataframe\">\n",
       "  <thead>\n",
       "    <tr style=\"text-align: right;\">\n",
       "      <th></th>\n",
       "      <th>time_step</th>\n",
       "      <th>washing_machine</th>\n",
       "      <th>fridge_freezer</th>\n",
       "      <th>TV</th>\n",
       "      <th>kettle</th>\n",
       "    </tr>\n",
       "  </thead>\n",
       "  <tbody>\n",
       "    <tr>\n",
       "      <th>0</th>\n",
       "      <td>2013-03-17T00:01:00.0</td>\n",
       "      <td>0.0</td>\n",
       "      <td>79.2000</td>\n",
       "      <td>7.0</td>\n",
       "      <td>0.0</td>\n",
       "    </tr>\n",
       "    <tr>\n",
       "      <th>1</th>\n",
       "      <td>2013-03-17T00:02:00.0</td>\n",
       "      <td>0.0</td>\n",
       "      <td>78.0000</td>\n",
       "      <td>7.0</td>\n",
       "      <td>0.0</td>\n",
       "    </tr>\n",
       "    <tr>\n",
       "      <th>2</th>\n",
       "      <td>2013-03-17T00:03:00.0</td>\n",
       "      <td>0.0</td>\n",
       "      <td>76.9000</td>\n",
       "      <td>7.0</td>\n",
       "      <td>0.0</td>\n",
       "    </tr>\n",
       "    <tr>\n",
       "      <th>3</th>\n",
       "      <td>2013-03-17T00:04:00.0</td>\n",
       "      <td>0.0</td>\n",
       "      <td>76.1111</td>\n",
       "      <td>7.0</td>\n",
       "      <td>0.0</td>\n",
       "    </tr>\n",
       "    <tr>\n",
       "      <th>4</th>\n",
       "      <td>2013-03-17T00:05:00.0</td>\n",
       "      <td>0.0</td>\n",
       "      <td>75.2727</td>\n",
       "      <td>7.0</td>\n",
       "      <td>0.0</td>\n",
       "    </tr>\n",
       "  </tbody>\n",
       "</table>\n",
       "</div>"
      ],
      "text/plain": [
       "               time_step  washing_machine  fridge_freezer   TV  kettle\n",
       "0  2013-03-17T00:01:00.0              0.0         79.2000  7.0     0.0\n",
       "1  2013-03-17T00:02:00.0              0.0         78.0000  7.0     0.0\n",
       "2  2013-03-17T00:03:00.0              0.0         76.9000  7.0     0.0\n",
       "3  2013-03-17T00:04:00.0              0.0         76.1111  7.0     0.0\n",
       "4  2013-03-17T00:05:00.0              0.0         75.2727  7.0     0.0"
      ]
     },
     "execution_count": 5,
     "metadata": {},
     "output_type": "execute_result"
    }
   ],
   "source": [
    "y_train = pd.read_csv(PATH+\"y_train.csv\")\n",
    "y_train.head(5)"
   ]
  },
  {
   "cell_type": "code",
   "execution_count": 6,
   "metadata": {},
   "outputs": [
    {
     "data": {
      "text/html": [
       "<div>\n",
       "<style scoped>\n",
       "    .dataframe tbody tr th:only-of-type {\n",
       "        vertical-align: middle;\n",
       "    }\n",
       "\n",
       "    .dataframe tbody tr th {\n",
       "        vertical-align: top;\n",
       "    }\n",
       "\n",
       "    .dataframe thead th {\n",
       "        text-align: right;\n",
       "    }\n",
       "</style>\n",
       "<table border=\"1\" class=\"dataframe\">\n",
       "  <thead>\n",
       "    <tr style=\"text-align: right;\">\n",
       "      <th></th>\n",
       "      <th>time_step</th>\n",
       "      <th>consumption</th>\n",
       "      <th>visibility</th>\n",
       "      <th>temperature</th>\n",
       "      <th>humidity</th>\n",
       "      <th>humidex</th>\n",
       "      <th>windchill</th>\n",
       "      <th>wind</th>\n",
       "      <th>pressure</th>\n",
       "    </tr>\n",
       "  </thead>\n",
       "  <tbody>\n",
       "    <tr>\n",
       "      <th>0</th>\n",
       "      <td>2014-01-01T00:00:00.0</td>\n",
       "      <td>312.2222</td>\n",
       "      <td>30.0</td>\n",
       "      <td>8.4</td>\n",
       "      <td>86.0</td>\n",
       "      <td>8.4</td>\n",
       "      <td>5.6</td>\n",
       "      <td>17.0</td>\n",
       "      <td>1016.6</td>\n",
       "    </tr>\n",
       "    <tr>\n",
       "      <th>1</th>\n",
       "      <td>2014-01-01T00:01:00.0</td>\n",
       "      <td>318.8750</td>\n",
       "      <td>NaN</td>\n",
       "      <td>NaN</td>\n",
       "      <td>NaN</td>\n",
       "      <td>NaN</td>\n",
       "      <td>NaN</td>\n",
       "      <td>NaN</td>\n",
       "      <td>NaN</td>\n",
       "    </tr>\n",
       "    <tr>\n",
       "      <th>2</th>\n",
       "      <td>2014-01-01T00:02:00.0</td>\n",
       "      <td>314.3000</td>\n",
       "      <td>NaN</td>\n",
       "      <td>NaN</td>\n",
       "      <td>NaN</td>\n",
       "      <td>NaN</td>\n",
       "      <td>NaN</td>\n",
       "      <td>NaN</td>\n",
       "      <td>NaN</td>\n",
       "    </tr>\n",
       "    <tr>\n",
       "      <th>3</th>\n",
       "      <td>2014-01-01T00:03:00.0</td>\n",
       "      <td>311.4444</td>\n",
       "      <td>NaN</td>\n",
       "      <td>NaN</td>\n",
       "      <td>NaN</td>\n",
       "      <td>NaN</td>\n",
       "      <td>NaN</td>\n",
       "      <td>NaN</td>\n",
       "      <td>NaN</td>\n",
       "    </tr>\n",
       "    <tr>\n",
       "      <th>4</th>\n",
       "      <td>2014-01-01T00:04:00.0</td>\n",
       "      <td>310.0000</td>\n",
       "      <td>NaN</td>\n",
       "      <td>NaN</td>\n",
       "      <td>NaN</td>\n",
       "      <td>NaN</td>\n",
       "      <td>NaN</td>\n",
       "      <td>NaN</td>\n",
       "      <td>NaN</td>\n",
       "    </tr>\n",
       "  </tbody>\n",
       "</table>\n",
       "</div>"
      ],
      "text/plain": [
       "               time_step  consumption  visibility  temperature  humidity  \\\n",
       "0  2014-01-01T00:00:00.0     312.2222        30.0          8.4      86.0   \n",
       "1  2014-01-01T00:01:00.0     318.8750         NaN          NaN       NaN   \n",
       "2  2014-01-01T00:02:00.0     314.3000         NaN          NaN       NaN   \n",
       "3  2014-01-01T00:03:00.0     311.4444         NaN          NaN       NaN   \n",
       "4  2014-01-01T00:04:00.0     310.0000         NaN          NaN       NaN   \n",
       "\n",
       "   humidex  windchill  wind  pressure  \n",
       "0      8.4        5.6  17.0    1016.6  \n",
       "1      NaN        NaN   NaN       NaN  \n",
       "2      NaN        NaN   NaN       NaN  \n",
       "3      NaN        NaN   NaN       NaN  \n",
       "4      NaN        NaN   NaN       NaN  "
      ]
     },
     "execution_count": 6,
     "metadata": {},
     "output_type": "execute_result"
    }
   ],
   "source": [
    "X_test = pd.read_csv(PATH+\"X_test.csv\")\n",
    "X_test = X_test.drop(X_test.columns[-1],axis=1)\n",
    "X_test.head(5)"
   ]
  },
  {
   "cell_type": "code",
   "execution_count": 7,
   "metadata": {},
   "outputs": [],
   "source": [
    "X_train = X_train.sort_values(by=\"time_step\")\n",
    "y_train = y_train.sort_values(by=\"time_step\")"
   ]
  },
  {
   "cell_type": "markdown",
   "metadata": {},
   "source": [
    "### Missing Value Imputation"
   ]
  },
  {
   "cell_type": "code",
   "execution_count": 8,
   "metadata": {},
   "outputs": [
    {
     "data": {
      "text/plain": [
       "time_step          0\n",
       "consumption    10231\n",
       "visibility         0\n",
       "temperature        0\n",
       "humidity           0\n",
       "humidex            0\n",
       "windchill          0\n",
       "wind               0\n",
       "pressure           0\n",
       "dtype: int64"
      ]
     },
     "execution_count": 8,
     "metadata": {},
     "output_type": "execute_result"
    }
   ],
   "source": [
    "sample1 = X_train.interpolate(method='linear')\n",
    "sample1 = sample1.interpolate(method='linear', limit_direction='both')\n",
    "sample1['consumption'] = X_train['consumption']\n",
    "X_train_imputed = sample1.copy()\n",
    "X_train_imputed.isna().sum()"
   ]
  },
  {
   "cell_type": "code",
   "execution_count": 9,
   "metadata": {},
   "outputs": [],
   "source": [
    "X_train_imputed_3min = X_train_imputed.interpolate(method='nearest', limit_direction='forward', limit=3)"
   ]
  },
  {
   "cell_type": "code",
   "execution_count": 10,
   "metadata": {},
   "outputs": [],
   "source": [
    "sample2 = X_test.interpolate(method='linear')\n",
    "sample2 = sample2.interpolate(method='linear', limit_direction='both')\n",
    "sample2['consumption'] = X_test['consumption']\n",
    "X_test_imputed = sample2.copy()"
   ]
  },
  {
   "cell_type": "code",
   "execution_count": 11,
   "metadata": {},
   "outputs": [],
   "source": [
    "y_train_imputed_3min = y_train.interpolate(method='nearest', limit_direction='forward', limit=3)"
   ]
  },
  {
   "cell_type": "code",
   "execution_count": 12,
   "metadata": {},
   "outputs": [],
   "source": [
    "X_train_A = X_train_imputed_3min.copy()\n",
    "X_test_A = X_test_imputed.copy()\n",
    "y_train_A = y_train_imputed_3min.copy()"
   ]
  },
  {
   "cell_type": "markdown",
   "metadata": {},
   "source": [
    "### Data Integration"
   ]
  },
  {
   "cell_type": "code",
   "execution_count": 13,
   "metadata": {},
   "outputs": [],
   "source": [
    "train = pd.merge(X_train_A, y_train_A,\n",
    "                 how=\"left\",\n",
    "                 left_on=['time_step'],\n",
    "                 right_on=['time_step'],\n",
    "                 sort=False\n",
    "                )"
   ]
  },
  {
   "cell_type": "markdown",
   "metadata": {},
   "source": [
    "### Visualization"
   ]
  },
  {
   "cell_type": "code",
   "execution_count": 14,
   "metadata": {},
   "outputs": [
    {
     "data": {
      "image/png": "[encoded data removed]",
      "text/plain": [
       "<Figure size 1440x720 with 1 Axes>"
      ]
     },
     "metadata": {
      "needs_background": "light"
     },
     "output_type": "display_data"
    }
   ],
   "source": [
    "fig = plt.figure(figsize=(20,10))\n",
    "\n",
    "size = 8000\n",
    "\n",
    "plot_sample = train.iloc[:size,:]\n",
    "plt.plot(np.arange(0,size,1), plot_sample['consumption'], label='Consumption')\n",
    "plt.plot(np.arange(0,size,1), plot_sample['washing_machine'], label='washing_machine')\n",
    "plt.plot(np.arange(0,size,1), plot_sample['fridge_freezer'], label='fridge_freezer')\n",
    "plt.plot(np.arange(0,size,1), plot_sample['TV'], label='TV', color=\"purple\")\n",
    "plt.plot(np.arange(0,size,1), plot_sample['kettle'], label='kettle', color=\"red\")\n",
    "\n",
    "plt.legend()\n",
    "\n",
    "plt.show()"
   ]
  },
  {
   "cell_type": "code",
   "execution_count": 15,
   "metadata": {},
   "outputs": [],
   "source": [
    "train_notnull = train[train['consumption'].notna()]"
   ]
  },
  {
   "cell_type": "markdown",
   "metadata": {},
   "source": [
    "### Linear Model"
   ]
  },
  {
   "cell_type": "code",
   "execution_count": 16,
   "metadata": {},
   "outputs": [],
   "source": [
    "import sklearn\n",
    "from sklearn.linear_model import LinearRegression\n",
    "from sklearn.preprocessing import StandardScaler"
   ]
  },
  {
   "cell_type": "code",
   "execution_count": 17,
   "metadata": {},
   "outputs": [],
   "source": [
    "X_vars = ['consumption', 'visibility', 'temperature', 'humidity','humidex',\n",
    "                   'windchill', 'wind', 'pressure']\n",
    "y_vars = ['washing_machine','fridge_freezer','TV','kettle']"
   ]
  },
  {
   "cell_type": "code",
   "execution_count": 18,
   "metadata": {},
   "outputs": [],
   "source": [
    "X = train_notnull[X_vars]\n",
    "y = train_notnull[y_vars]"
   ]
  },
  {
   "cell_type": "code",
   "execution_count": 19,
   "metadata": {},
   "outputs": [],
   "source": [
    "scaler = StandardScaler()\n",
    "X_scaled = scaler.fit_transform(X)\n",
    "y_scaled = scaler.fit_transform(y)"
   ]
  },
  {
   "cell_type": "code",
   "execution_count": 20,
   "metadata": {},
   "outputs": [
    {
     "data": {
      "text/plain": [
       "409610"
      ]
     },
     "execution_count": 20,
     "metadata": {},
     "output_type": "execute_result"
    }
   ],
   "source": [
    "len(y_scaled[:,0])"
   ]
  },
  {
   "cell_type": "markdown",
   "metadata": {},
   "source": [
    "1 - washing_machine; 2 - fridge_freezer; 3 - TV; 4 - kettle;"
   ]
  },
  {
   "cell_type": "code",
   "execution_count": 21,
   "metadata": {},
   "outputs": [],
   "source": [
    "y_test = X_test_A[['time_step']]"
   ]
  },
  {
   "cell_type": "code",
   "execution_count": 22,
   "metadata": {},
   "outputs": [],
   "source": [
    "X_test_B = X_test_A.fillna(0)"
   ]
  },
  {
   "cell_type": "code",
   "execution_count": 23,
   "metadata": {},
   "outputs": [],
   "source": [
    "reg1 = LinearRegression().fit(X_scaled, y_scaled[:,0])\n",
    "y_test['washing_machine'] = reg1.predict(X_test_B[X_vars])\n",
    "\n",
    "reg2 = LinearRegression().fit(X_scaled, y_scaled[:,1])\n",
    "y_test['fridge_freezer'] = reg2.predict(X_test_B[X_vars])\n",
    "\n",
    "reg3 = LinearRegression().fit(X_scaled, y_scaled[:,2])\n",
    "y_test['TV'] = reg3.predict(X_test_B[X_vars])\n",
    "\n",
    "reg4 = LinearRegression().fit(X_scaled, y_scaled[:,3])\n",
    "y_test['kettle'] = reg4.predict(X_test_B[X_vars])"
   ]
  },
  {
   "cell_type": "code",
   "execution_count": 24,
   "metadata": {},
   "outputs": [],
   "source": [
    "y_test['washing_machine'].loc[X_test_A['consumption'].isnull()] = np.nan\n",
    "y_test['fridge_freezer'].loc[X_test_A['consumption'].isnull()] = np.nan\n",
    "y_test['TV'].loc[X_test_A['consumption'].isnull()] = np.nan\n",
    "y_test['kettle'].loc[X_test_A['consumption'].isnull()] = np.nan"
   ]
  },
  {
   "cell_type": "markdown",
   "metadata": {},
   "source": [
    "### Feature Engineering"
   ]
  },
  {
   "cell_type": "code",
   "execution_count": 25,
   "metadata": {},
   "outputs": [],
   "source": [
    "train_notnull['date'] = train_notnull['time_step'].str[:10]\n",
    "train_notnull['hour'] = train_notnull['time_step'].str[11:13].astype('int')\n",
    "\n",
    "train_notnull['date'] = pd.to_datetime(train_notnull['date'], infer_datetime_format=True)\n",
    "\n",
    "train_notnull['dayofweek'] = train_notnull['date'].dt.dayofweek"
   ]
  },
  {
   "cell_type": "code",
   "execution_count": 26,
   "metadata": {},
   "outputs": [],
   "source": [
    "isweekend = []\n",
    "for day in list(train_notnull['dayofweek']):\n",
    "    if day in [5,6]:\n",
    "        isweekend.append(1)\n",
    "    else:\n",
    "        isweekend.append(0)\n",
    "train_notnull['isweekend'] = isweekend"
   ]
  },
  {
   "cell_type": "code",
   "execution_count": 27,
   "metadata": {},
   "outputs": [],
   "source": [
    "train_notnull = train_notnull.drop(['date'], axis=1)"
   ]
  },
  {
   "cell_type": "code",
   "execution_count": 28,
   "metadata": {},
   "outputs": [
    {
     "data": {
      "text/plain": [
       "Index(['time_step', 'consumption', 'visibility', 'temperature', 'humidity',\n",
       "       'humidex', 'windchill', 'wind', 'pressure', 'washing_machine',\n",
       "       'fridge_freezer', 'TV', 'kettle', 'hour', 'dayofweek', 'isweekend'],\n",
       "      dtype='object')"
      ]
     },
     "execution_count": 28,
     "metadata": {},
     "output_type": "execute_result"
    }
   ],
   "source": [
    "train_notnull.columns"
   ]
  },
  {
   "cell_type": "code",
   "execution_count": 29,
   "metadata": {},
   "outputs": [],
   "source": [
    "X_vars2 = X_vars + ['hour','isweekend']"
   ]
  },
  {
   "cell_type": "markdown",
   "metadata": {},
   "source": [
    "### ELM / Hierarchical-ELMs (H-ELMs)"
   ]
  },
  {
   "cell_type": "code",
   "execution_count": 33,
   "metadata": {},
   "outputs": [
    {
     "name": "stdout",
     "output_type": "stream",
     "text": [
      "Collecting sklearn\n",
      "  Downloading sklearn-0.0.tar.gz (1.1 kB)\n",
      "Requirement already satisfied, skipping upgrade: scikit-learn in /anaconda3/envs/nilmtk-env/lib/python3.6/site-packages (from sklearn) (0.22.1)\n",
      "Requirement already satisfied, skipping upgrade: joblib>=0.11 in /anaconda3/envs/nilmtk-env/lib/python3.6/site-packages (from scikit-learn->sklearn) (0.14.1)\n",
      "Requirement already satisfied, skipping upgrade: scipy>=0.17.0 in /anaconda3/envs/nilmtk-env/lib/python3.6/site-packages (from scikit-learn->sklearn) (1.4.1)\n",
      "Requirement already satisfied, skipping upgrade: numpy>=1.11.0 in /anaconda3/envs/nilmtk-env/lib/python3.6/site-packages (from scikit-learn->sklearn) (1.18.1)\n",
      "Building wheels for collected packages: sklearn\n",
      "  Building wheel for sklearn (setup.py) ... \u001b[?25ldone\n",
      "\u001b[?25h  Created wheel for sklearn: filename=sklearn-0.0-py2.py3-none-any.whl size=1315 sha256=7ff64bcff4b45fbc795fc83905d2fde124c608444cda24d3fadfe514f7a2dbd1\n",
      "  Stored in directory: /Users/FerdinandYu/Library/Caches/pip/wheels/23/9d/42/5ec745cbbb17517000a53cecc49d6a865450d1f5cb16dc8a9c\n",
      "Successfully built sklearn\n",
      "Installing collected packages: sklearn\n",
      "Successfully installed sklearn-0.0\n"
     ]
    }
   ],
   "source": [
    "! pip install sklearn --upgrade\n",
    "import sklearn"
   ]
  },
  {
   "cell_type": "code",
   "execution_count": 35,
   "metadata": {},
   "outputs": [],
   "source": [
    "from elm2 import ELMClassifier, ELMRegressor, GenELMClassifier, GenELMRegressor\n",
    "from random_layer import RandomLayer, MLPRandomLayer, RBFRandomLayer, GRBFRandomLayer"
   ]
  },
  {
   "cell_type": "code",
   "execution_count": null,
   "metadata": {},
   "outputs": [],
   "source": []
  }
 ],
 "metadata": {
  "kernelspec": {
   "display_name": "Python 3",
   "language": "python",
   "name": "python3"
  },
  "language_info": {
   "codemirror_mode": {
    "name": "ipython",
    "version": 3
   },
   "file_extension": ".py",
   "mimetype": "text/x-python",
   "name": "python",
   "nbconvert_exporter": "python",
   "pygments_lexer": "ipython3",
   "version": "3.6.7"
  }
 },
 "nbformat": 4,
 "nbformat_minor": 4
}
